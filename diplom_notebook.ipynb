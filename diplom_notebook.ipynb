{
 "cells": [
  {
   "cell_type": "markdown",
   "id": "speaking-racing",
   "metadata": {
    "raw_mimetype": "text/markdown"
   },
   "source": [
    "**В ДАННОМ БЛОКНОТЕ *ИССЛЕДУЕТСЯ* МЕТОД ОБНАРУЖЕНИЯ АНОМАЛИЙ СЕТЕВОГО ТРАФИКА НА ОСНОВЕ СТАТИСТИЧЕСКИХ ХАРАКТЕРИСТИК С ИСПОЛЬЗОВАНИЕМ МЕТОДОВ МАШИННОГО ОБУЧЕНИЯ\n",
    "\n",
    "Основная суть идеи заключается в поиске корреляционных связей между временными рядами характеристик нормального и аномального сетевого трафика.\n",
    "Работа производится на **размеченных данных**\n",
    "\n",
    "Краткий алгоритм работы по шагам:\n",
    "1. Загружаем данные из pcap в csv с выделением **значимых** характеристик сетевого трафика (конвертер лежит совместно с блокнотом)\n",
    "2. Загружаем csv в блокнот\n",
    "3. Агрегируем в первый раз, смотрим графики\n",
    "4. Скользящим временным окном проходим по агрегированным данным, на каждом окне считаем статистические характеристики\n",
    "5. Записываем все в csv\n",
    "6. Смотрим как методы машинного обучения справляются с разделением заранее классифицированных данных, проводим анализ"
   ]
  },
  {
   "cell_type": "code",
   "execution_count": 1,
   "id": "liked-classics",
   "metadata": {
    "slideshow": {
     "slide_type": "slide"
    }
   },
   "outputs": [],
   "source": [
    "### ЗАГРУЗКА НЕОБХОДИМЫХ БИБЛИОТЕК\n",
    "from pivottablejs import pivot_ui\n",
    "import plotly as plt\n",
    "import pandas as pd\n",
    "import matplotlib.pyplot as plt\n",
    "import numpy as np\n",
    "import math\n",
    "from pylab import rcParams\n",
    "import csv\n",
    "import blah\n",
    "import warnings\n",
    "from progress.bar import IncrementalBar\n",
    "from tqdm import tqdm\n",
    "from pycaret.classification import *\n",
    "from sklearn.utils import shuffle\n",
    "warnings.filterwarnings('ignore')\n",
    "rcParams['figure.figsize'] = 8, 5\n",
    "\n",
    "\n",
    "from ipywidgets import IntProgress\n",
    "from IPython.display import display\n",
    "import time\n",
    "from IPython.display import display\n",
    "from ipywidgets import Button, Layout, FloatSlider, RadioButtons"
   ]
  },
  {
   "cell_type": "code",
   "execution_count": 2,
   "id": "accomplished-asbestos",
   "metadata": {},
   "outputs": [],
   "source": [
    "# ИНИЦИАЛИЗАЦИЯ КЛАССА, В КОТОРЫЙ СОХРАНЯЕТСЯ CSV ФАЙЛ \n",
    "\n",
    "class Packet:\n",
    "    def __init__(self,time,time_delta,time_delta_disp,time_relative, \\\n",
    "                time_epoch, length,ip_src, ip_dst,df, mf, rb, src_port, dst_port, \\\n",
    "                ack, syn , fin, clas):\n",
    "        self.time = time\n",
    "        self.time_delta = time_delta\n",
    "        self.time_delta_disp = time_delta_disp\n",
    "        self.time_relative = time_relative\n",
    "        self.time_epoch = time_epoch\n",
    "        self.length = length\n",
    "        self.ip_src = ip_src\n",
    "        self.ip_dst = ip_dst\n",
    "        self.df = df\n",
    "        self.mf = mf\n",
    "        self.rb = rb\n",
    "        self.src_port = src_port\n",
    "        self.dst_port = dst_port\n",
    "        self.ack = ack\n",
    "        self.syn = syn\n",
    "        self.fin = fin\n",
    "        self.clas = clas\n",
    "        \n",
    "    def __repr__(self):\n",
    "        return \"В этом классе содержатся поля пакета\"\n",
    "\n",
    "        \n",
    "    def __str__(self):\n",
    "        return \"В этом классе содержатся поля пакета\"\n",
    "    \n",
    "\n",
    "### ИНИЦИАЛИЗАЦИЯ КЛАССА, ЭКЗЕМПЛЯРЫ КОТОРОГО БУДУТ ОТВЕЧАТЬ ЗА ХАРАКТЕРИСТИКИ \n",
    "### ПАКЕТОВ НА ИНТЕРВАЛАХ\n",
    "\n",
    "\n",
    "class Interval:\n",
    "    def __init__(self, length, mean_length, min_length, max_length,\\\n",
    "                intens, syn, ack, fin, unique_ip, intens_bit, ip_src, ip_dst, \\\n",
    "                src_port, dst_port, classification, unique_port):\n",
    "        self.length = length\n",
    "        self.mean_length = mean_length\n",
    "        self.min_length = min_length\n",
    "        self.max_length = max_length\n",
    "        self.intens = intens\n",
    "        self.syn = syn\n",
    "        self.ack = ack\n",
    "        self.fin = fin\n",
    "        self.unique_ip = unique_ip\n",
    "        self.intens_bit = intens_bit\n",
    "        self.ip_src = ip_src\n",
    "        self.ip_dst = ip_dst\n",
    "        self.src_port = src_port\n",
    "        self.dst_port = dst_port\n",
    "        self.classification = classification\n",
    "        self.unique_port = unique_port\n",
    "        \n",
    "        def __repr__(self):\n",
    "            return \"Экзмепляры этого класса отвечают за поля пакета на интервалах наблюдения\"\n",
    "\n",
    "        \n",
    "        def __str__(self):\n",
    "            return \"Экзмепляры этого класса отвечают за поля пакета на интервалах наблюдения\"    "
   ]
  },
  {
   "cell_type": "code",
   "execution_count": 3,
   "id": "decreased-gender",
   "metadata": {
    "scrolled": true
   },
   "outputs": [],
   "source": [
    "### ЧТЕНИЕ CSV ФАЙЛА В КЛАСС Packet\n",
    "\n",
    "array_object_of_Packet = []\n",
    "button1 = Button(description=\"Загрузка исходных данных\", button_style='success', layout=Layout(width='50%', height='80px'))\n",
    "\n",
    "def on_button_clicked(b):\n",
    "    try:\n",
    "        global filename\n",
    "        fn = blah.gui_fname()\n",
    "        len_of_csv = len(open(fn).readlines())\n",
    "        filename = fn\n",
    "        print(\"ЗАГРУЗКА ИСХОДНЫХ ДАННЫХ\")\n",
    "        prgBar1 = IntProgress(min = 0, max = len_of_csv) # Создаем прогрессбар\n",
    "        display(prgBar1)\n",
    "        with open(filename, encoding='utf-8') as r_file:\n",
    "            file_reader = csv.reader(r_file, delimiter=',')\n",
    "            count = 0\n",
    "            for row in file_reader:\n",
    "                prgBar1.value += count\n",
    "                if count != 0:\n",
    "                    a = Packet(row[0], row[1], row[2], row[3], row[4], row[5], row[6], row[7], \\\n",
    "                              row[8], row[9], row[10], row[11], row[12], row[13], row[14], row[15], \\\n",
    "                              row[16])\n",
    "                    array_object_of_Packet.append(a)\n",
    "                    count += 1\n",
    "                    del a\n",
    "                else: \n",
    "                    count += 1\n",
    "            print(f'____________________________________________________________________')\n",
    "            print(\"ЗАГРУЗКА ЗАВЕРШЕНА\")\n",
    "            print(f'{filename} содержит {count} записей')\n",
    "            print(f'Все данные загружены в массив объектов класса array_object_of_packet')\n",
    "            print(f'____________________________________________________________________')\n",
    "    except Exception as e:\n",
    "        print(f'____________________________________________________________________')\n",
    "        print('Ошибка в чтении файла, загрузите файл формата csv')\n",
    "        print(f'____________________________________________________________________')   \n",
    "# button1.on_click(on_button_clicked) # Назначаем этот обработчик на событие \"on_click\"\n",
    "# display(button1)    \n",
    "\n",
    "\n"
   ]
  },
  {
   "cell_type": "code",
   "execution_count": 4,
   "id": "further-summer",
   "metadata": {},
   "outputs": [],
   "source": [
    "### ФУНКЦИЯ ДЛЯ РАСЧЕТА ХАРАКТЕРИСТИК НА ИНТЕРВАЛЕ \n",
    "### ВХОД(ЛЕВ.ГР, ПР.ГР, МАССИВ, ШАГ)\n",
    "\n",
    "def func(left_k, right_k, array, counter):\n",
    "    ln = []\n",
    "    bit = []\n",
    "    syn = []\n",
    "    ack = []\n",
    "    fin = []\n",
    "    ip_src = []\n",
    "    ip_dst = []\n",
    "    src_port = []\n",
    "    dst_port = []\n",
    "    unique_ip = []\n",
    "    unique_port = []\n",
    "    l = 0\n",
    "    classifica = []\n",
    "    for i in range(counter , len(array)):\n",
    "        num = array[i].time_relative\n",
    "        if left_k <= float(num) <= right_k:\n",
    "            ln.append(int(array[i].length))\n",
    "            bit.append(int(array[i].length) * 8)\n",
    "            if int(array[i].syn) == 1:\n",
    "                syn.append(1)\n",
    "            else:\n",
    "                syn.append(0)\n",
    "            if int(array[i].fin) == 1:\n",
    "                fin.append(1)\n",
    "            else:\n",
    "                fin.append(0)\n",
    "            if int(array[i].ack) == 1:\n",
    "                ack.append(1)\n",
    "            else:\n",
    "                ack.append(0)\n",
    "#             if int(array[i].clas) == 1:\n",
    "#                 l += 1\n",
    "            classifica.append(int(array[i].clas))\n",
    "            ip_src.append(array[i].ip_src)\n",
    "            ip_dst.append(array[i].ip_dst)\n",
    "            src_port.append(array[i].src_port)\n",
    "            dst_port.append(array[i].dst_port)\n",
    "            unique_ip.append('src: ' + array[i].src_port + \\\n",
    "                          ' dst: ' + array[i].ip_dst)\n",
    "            unique_port.append('src: ' + array[i].dst_port + \\\n",
    "                          ' dst: ' + array[i].ip_dst)\n",
    "        if right_k < float(array[i].time_relative):\n",
    "            break\n",
    "    if len(classifica) == sum(classifica):\n",
    "        itog = 1\n",
    "    else: \n",
    "        itog = 0\n",
    "    classifica.clear()\n",
    "    return ln, i, syn, ack, fin, ip_src, ip_dst, src_port, dst_port, len(set(unique_ip)), sum(bit), itog, len(set(unique_port))"
   ]
  },
  {
   "cell_type": "code",
   "execution_count": 5,
   "id": "unknown-holly",
   "metadata": {},
   "outputs": [],
   "source": [
    "### ФУНКЦИЯ ДЛЯ ДВИЖЕНИЯ ОКНА ПО МАССИВУ ARRAY_OBJECT_OF_PACKET\n",
    "button2 = Button(description=\"Агрегирование исходных данных\", button_style='info', layout=Layout(width='50%', height='80px'))\n",
    "fSlider = FloatSlider(\n",
    "    value=2.5, # Первоначальное значение\n",
    "    min=0.1,     # Минимум\n",
    "    max=6,  # Максимум\n",
    "    step=0.1,  # Шаг изменения\n",
    "    description='Параметр:',\n",
    "    continuous_update=False,  # True - событие observe возникает для каждого шага при изменении значения\n",
    "    orientation='horizontal'  # Горизонтальное или вертикальное расположение\n",
    ")\n",
    "\n",
    "def on_value_change(b):\n",
    "    pass\n",
    "#     print(fSlider.value)\n",
    "    \n",
    "# fSlider.observe(on_value_change, names='value')\n",
    "# display(fSlider)\n",
    "\n",
    "def on_button_clicked2(b):\n",
    "    try:\n",
    "        global array_object_on_Interval\n",
    "    #     k = float(input('Введите интервал -окно- наблюдения '))\n",
    "        k = fSlider.value\n",
    "        time.sleep(3)\n",
    "        array_object_on_Interval = []\n",
    "        NUMBER = []\n",
    "        num = 0\n",
    "\n",
    "        step = k\n",
    "        k1 = 0\n",
    "        k2 = k\n",
    "        cnt = 0\n",
    "        c = float(array_object_of_Packet[-1].time_relative)\n",
    "        print(\"АГРЕГИРОВАНИЕ ИСХОДНЫХ ДАННЫХ\")\n",
    "\n",
    "        prgBar = IntProgress(min = 0, max = c)\n",
    "        display(prgBar)\n",
    "\n",
    "\n",
    "        print('Loading:')\n",
    "        while k1 <= c:\n",
    "            prgBar.value += k1\n",
    "\n",
    "            if len(func(k1, k2, array_object_of_Packet, cnt)[0]) != 0:\n",
    "                b = Interval(func(k1, k2, array_object_of_Packet, cnt)[0],\\\n",
    "                             np.mean(func(k1, k2, array_object_of_Packet, cnt)[0]),\\\n",
    "                             min(func(k1, k2, array_object_of_Packet, cnt)[0]),\\\n",
    "                             max(func(k1, k2, array_object_of_Packet, cnt)[0]),\\\n",
    "                             len(func(k1, k2, array_object_of_Packet, cnt)[0]),\\\n",
    "                             sum(func(k1, k2, array_object_of_Packet, cnt)[2]),\\\n",
    "                             sum(func(k1, k2, array_object_of_Packet, cnt)[3]),\\\n",
    "                             sum(func(k1, k2, array_object_of_Packet, cnt)[4]),\\\n",
    "                             func(k1, k2, array_object_of_Packet, cnt)[9],\\\n",
    "                             func(k1, k2, array_object_of_Packet, cnt)[10],\\\n",
    "                             func(k1, k2, array_object_of_Packet, cnt)[5],\\\n",
    "                             func(k1, k2, array_object_of_Packet, cnt)[6],\\\n",
    "                             func(k1, k2, array_object_of_Packet, cnt)[7],\\\n",
    "                             func(k1, k2, array_object_of_Packet, cnt)[8],\\\n",
    "                             func(k1, k2, array_object_of_Packet, cnt)[11],\\\n",
    "                             func(k1, k2, array_object_of_Packet, cnt)[12])\n",
    "\n",
    "                array_object_on_Interval.append(b)\n",
    "                NUMBER.append(num)\n",
    "                del b\n",
    "            else:\n",
    "                NUMBER.append(num)\n",
    "            cnt = func(k1, k2, array_object_of_Packet, cnt)[1]\n",
    "            k1, k2 = k1 + step, k2 + step\n",
    "            num += 1\n",
    "        print(f'____________________________________________________________________')\n",
    "        print(f'АГРЕГИРОВАНИЕ ДАННЫХ ПРОШЛО УСПЕШНО')\n",
    "        print(f'Data -array_object_of_Packet- downloaded with')\n",
    "        print(f'Window agregation = {k} and step = {step}')\n",
    "        print(len(array_object_of_Packet))\n",
    "        print(f'____________________________________________________________________')\n",
    "    except Exception as e:\n",
    "        print(f'____________________________________________________________________')\n",
    "        print(f'ПРОИЗОШЛА ОШИБКА В АГРЕГИРОВАНИИ ДАННЫХ')\n",
    "        print(f'____________________________________________________________________')\n",
    "        \n",
    "# button2.on_click(on_button_clicked2)\n",
    "# display(button2)\n"
   ]
  },
  {
   "cell_type": "code",
   "execution_count": 6,
   "id": "painful-range",
   "metadata": {},
   "outputs": [],
   "source": [
    "# ### ЗАПИШЕМ ВСЕ ДАННЫЕ В ДАТАФРЕЙМ  -->\n",
    "button3 = Button(description=\"Запись данных в массив\", button_style='success',layout=Layout(width='50%', height='80px'))\n",
    "\n",
    "def on_button_clicked3(b):\n",
    "#     print(\"ЗАПИСЬ ДАННЫХ В МАССИВ\")\n",
    "    global array_object_on_Interval0, array_object_on_Interval1, Number0, Number1, df\n",
    "    df = pd.DataFrame(columns=['mean_ln','min_ln','max_ln','intens_p','intens_bit',\\\n",
    "                      'unique_ip','unique_port','syn','fin','ack','classif'])\n",
    "    len_ar = len(array_object_on_Interval)\n",
    "    \n",
    "    bar = IncrementalBar('Countdown', max = len_ar)\n",
    "\n",
    "    count = 0\n",
    "    Number0 = []\n",
    "    Number1 = []\n",
    "    array_object_on_Interval0 = []\n",
    "    array_object_on_Interval1 = []\n",
    "    for x in tqdm(array_object_on_Interval):\n",
    "        if x.classification == 1:\n",
    "            array_object_on_Interval1.append(x)\n",
    "            Number1.append(count)\n",
    "        else:\n",
    "            array_object_on_Interval0.append(x)\n",
    "            Number0.append(count)\n",
    "        count += 1\n",
    "        df.loc[len(df)] = [x.mean_length, x.min_length, x.max_length, x.intens,\\\n",
    "                          x.intens_bit, x.unique_ip, x.unique_port, x.syn, x.fin,\\\n",
    "                          x.ack, x.classification] \n",
    "    print(len(array_object_on_Interval))\n",
    "    print(len(array_object_on_Interval0), len(Number0))\n",
    "    print(len(array_object_on_Interval1), len(Number1))\n",
    "    # d = pd.DataFrame([[p.mean_length, p.min_length, p.max_length, p.intens] for p in array_object_on_Interval])\n",
    "    # print(df)\n",
    "    # df.to_csv('first_wind_agr=2_step=2.csv', sep=',', encoding='utf-8', index=True)\n",
    "    print(f'____________________________________________________________________')\n",
    "    print(' ДАННЫЕ ЗАПИСАНЫ В МАССИВ first_wind.csv')\n",
    "    print(f'____________________________________________________________________')\n",
    "    \n",
    "# button3.on_click(on_button_clicked3) # Назначаем этот обработчик на событие \"on_click\"\n",
    "# display(button3)"
   ]
  },
  {
   "cell_type": "code",
   "execution_count": 7,
   "id": "enclosed-allah",
   "metadata": {},
   "outputs": [],
   "source": [
    "rButtons2 = RadioButtons(\n",
    "    options=[('mean_ln', 1), ('min_ln', 2), ('max_ln', 3), ('intens_packet', 4), ('syn_flags', 5), ('fin_flags', 6), ('ack_flags', 7), ('unique_ip', 8), ('intens_bit', 9), ('unique_port', 10), ('Взаимная корреляция', 11)],\n",
    "    value=1, # Выбор по умолчанию\n",
    "    description='Параметр:' \n",
    ")\n",
    "\n",
    "def on_button_clicked4(b):\n",
    "    if rButtons2.value == 1:\n",
    "        #mean_length\n",
    "        plt.subplot(111)\n",
    "        plt.bar(Number0, [x.mean_length for x in array_object_on_Interval0])\n",
    "        plt.bar(Number1, [x.mean_length for x in array_object_on_Interval1], color = 'r')\n",
    "        # plt.axis([0, len(array_object_on_Interval), 0, 1000])\n",
    "        plt.xlabel('Отсчет')\n",
    "        plt.ylabel('ss')\n",
    "        plt.title('mean_Length')\n",
    "        plt.minorticks_on()\n",
    "\n",
    "        plt.grid()\n",
    "        # plt.savefig('./dns/agr2_step2/mean_length.png')\n",
    "    \n",
    "    elif rButtons2.value == 2:\n",
    "        #min_length\n",
    "        plt.subplot(111)\n",
    "        plt.bar(Number0, [x.min_length for x in array_object_on_Interval0])\n",
    "        plt.bar(Number1, [x.min_length for x in array_object_on_Interval1], color = 'r')\n",
    "        # plt.axis([0, len(array_object_on_Interval), 0, 200])\n",
    "        plt.xlabel('Отсчет')\n",
    "        plt.ylabel('ss')\n",
    "        plt.title('min_Length')\n",
    "        # plt.savefig('./dns/agr2_step2/min_ln.png')\n",
    "        plt.minorticks_on()\n",
    "\n",
    "        plt.grid()\n",
    "    \n",
    "    elif rButtons2.value == 3:\n",
    "        #max_length\n",
    "        plt.subplot(111)\n",
    "        plt.bar(Number0, [x.max_length for x in array_object_on_Interval0])\n",
    "        plt.bar(Number1, [x.max_length for x in array_object_on_Interval1], color='r')\n",
    "        # plt.axis([0, len(array_object_on_Interval), 0, 4000])\n",
    "        plt.xlabel('Отсчет')\n",
    "        plt.ylabel('ss')\n",
    "        plt.title('max_Length')\n",
    "        plt.minorticks_on()\n",
    "        plt.grid()\n",
    "        # plt.savefig('./dns/agr2_step2/max_ln.png')\n",
    "    \n",
    "    elif rButtons2.value == 4:\n",
    "        #intens -packet\n",
    "        plt.subplot(111)\n",
    "        plt.bar(Number0, [x.intens for x in array_object_on_Interval0])\n",
    "        plt.bar(Number1, [x.intens for x in array_object_on_Interval1], color='r')\n",
    "        # plt.bar(NUMBER1, intens1, color='r')\n",
    "        plt.axis([0, len(array_object_on_Interval), 0, 1000])\n",
    "        plt.xlabel('Отсчет')\n",
    "        plt.ylabel('ss')\n",
    "        plt.title('intens_packet')\n",
    "        plt.minorticks_on()\n",
    "        plt.grid()\n",
    "        # plt.savefig('./dns/agr2_step2/intens_p.png')\n",
    "    elif rButtons2.value == 5:\n",
    "        #syn_flags\n",
    "        plt.subplot(111)\n",
    "        plt.bar(Number0, [x.syn for x in array_object_on_Interval0])\n",
    "        plt.bar(Number1, [x.syn for x in array_object_on_Interval1], color='r')\n",
    "        # plt.bar(NUMBER1, syn1, color= 'r')\n",
    "        plt.axis([0, len(array_object_on_Interval), 0, 40])\n",
    "        plt.xlabel('Отсчет')\n",
    "        plt.ylabel('ss')\n",
    "        plt.title('syn_flags')\n",
    "        plt.minorticks_on()\n",
    "        plt.grid()\n",
    "        # plt.savefig('./dns/agr2_step2/syn.png')\n",
    "    elif rButtons2.value == 6:\n",
    "        #fin_flags\n",
    "        plt.subplot(111)\n",
    "        plt.bar(Number0, [x.fin for x in array_object_on_Interval0])\n",
    "        plt.bar(Number1, [x.fin for x in array_object_on_Interval1], color='r')\n",
    "        # plt.bar(NUMBER1, syn1, color= 'r')\n",
    "        plt.axis([0, len(array_object_on_Interval), 0, 40])\n",
    "        plt.xlabel('Отсчет')\n",
    "        plt.ylabel('ss')\n",
    "        plt.title('fin_flags')\n",
    "        plt.minorticks_on()\n",
    "        plt.grid()\n",
    "        # plt.savefig('./dns/agr2_step2/fin.png')\n",
    "    elif rButtons2.value == 7:\n",
    "        #ack_flags\n",
    "        plt.subplot(111)\n",
    "        plt.bar(Number0, [x.ack for x in array_object_on_Interval0])\n",
    "        plt.bar(Number1, [x.ack for x in array_object_on_Interval1], color='r')\n",
    "        # plt.bar(NUMBER1, syn1, color= 'r')\n",
    "        plt.axis([0, len(array_object_on_Interval), 0, 400])\n",
    "        plt.xlabel('Отсчет')\n",
    "        plt.ylabel('ss')\n",
    "        plt.title('ack_flags')\n",
    "        plt.minorticks_on()\n",
    "        plt.grid()\n",
    "        # plt.savefig('./dns/agr2_step2/ack.png')\n",
    "    elif rButtons2.value == 8:\n",
    "        #unique ip-ip\n",
    "        plt.subplot(111)\n",
    "        plt.bar(Number0, [x.unique_ip for x in array_object_on_Interval0])\n",
    "        plt.bar(Number1, [x.unique_ip for x in array_object_on_Interval1], color='r')\n",
    "        # plt.bar(NUMBER1, unique1, color='r')\n",
    "        plt.xlabel('Отсчет')\n",
    "        plt.ylabel('ss')\n",
    "        plt.title('unique ip - ip')\n",
    "        plt.minorticks_on()\n",
    "        plt. axis([0, len(array_object_on_Interval), 0, 70])\n",
    "        plt.grid()\n",
    "        # plt.savefig('./dns/agr2_step2/unique_ip.png')\n",
    "    elif rButtons2.value == 9:\n",
    "        #intens_bit\n",
    "        plt.subplot(111)\n",
    "        plt.bar(Number0, [x.intens_bit for x in array_object_on_Interval0])\n",
    "        plt.bar(Number1, [x.intens_bit for x in array_object_on_Interval1], color='r')\n",
    "        # plt.bar(NUMBER1, bit1, color='r')\n",
    "        # plt.axis([0, len(array_object_on_Interval), 0, 400000])\n",
    "        plt.xlabel('Отсчет')\n",
    "        plt.ylabel('ss')\n",
    "        plt.title('intense_bit')\n",
    "        plt.minorticks_on()\n",
    "        plt.grid()\n",
    "        # plt.savefig('./dns/agr2_step2/intens_bit.png')\n",
    "    elif rButtons2.value == 10:\n",
    "        #unique_port\n",
    "        plt.subplot(111)\n",
    "        plt.bar(Number0, [x.unique_port for x in array_object_on_Interval0])\n",
    "        plt.bar(Number1, [x.unique_port for x in array_object_on_Interval1], color='r')\n",
    "        # plt.bar(NUMBER1, bit1, color='r')\n",
    "        plt.axis([0, len(array_object_on_Interval), 0, 70])\n",
    "        plt.xlabel('Отсчет')\n",
    "        plt.ylabel('ss')\n",
    "        plt.title('unique_port-port')\n",
    "        plt.minorticks_on()\n",
    "        plt.grid()\n",
    "        # plt.savefig('./dns/agr2_step2/unique_port.png')\n",
    "    else:\n",
    "        import seaborn as sns\n",
    "        cols = ['classif', 'mean_ln', 'intens_p', 'unique_ip', 'min_ln', 'unique_port']\n",
    "        sns_plot = sns.pairplot(df[cols], hue='classif')\n",
    "        pivot_ui(df)\n",
    "\n",
    "    return plt.show()\n",
    "\n",
    "        \n",
    "# rButtons2.observe(on_button_clicked4, names='value')\n",
    "# display(rButtons2)"
   ]
  },
  {
   "cell_type": "code",
   "execution_count": 8,
   "id": "ranging-valve",
   "metadata": {},
   "outputs": [],
   "source": [
    "#### коэффициент ассметрии\n",
    "\n",
    "def koef_assim(a):\n",
    "    d = np.var(a, ddof=1)\n",
    "    ka = (sum((xi - np.mean(a)) ** 3 for xi in a) / len(a)) / d ** 3\n",
    "    if np.isnan(ka) or np.isinf(ka):\n",
    "        return 0 \n",
    "    return ka\n",
    "\n",
    "#### коэффициент эксцесса\n",
    "\n",
    "def koef_eksces(a):\n",
    "    d = np.var(a, ddof=1)\n",
    "    ke = ((sum((xi - np.mean(a)) ** 4 for xi in a) / len(a)) / d ** 4) - 3\n",
    "    if np.isnan(ke) or np.isinf(ke):\n",
    "        return 0 \n",
    "    return ke\n",
    "\n",
    "#### контрэксцесс\n",
    "\n",
    "def kontrecsces(a):\n",
    "    d = np.var(a, ddof=1)\n",
    "    c = 1 / math.sqrt(scipy.stats.moment(a, moment=4) / (math.sqrt(d) ** 4))\n",
    "    if np.isnan(c) or np.isinf(c):\n",
    "        return 0\n",
    "    return c\n",
    "#### энтропийный коэффициент\n",
    "\n",
    "def entr_koef(d, n, y, a):\n",
    "    # n = len(a) число элементов в списке\n",
    "    # m = int(10 + np.sqrt(n)) кол интервалов разбиения\n",
    "    # d =(max(a)-min(a))/m длина интервалов\n",
    "    h = 0.5 * d * n * 10 ** (-1 * (y * math.log10(y) / n))\n",
    "    \n",
    "#     h = 0.5 * d * n * 10 ** (-sum ([w * math.log10 (w) for w in y if w != 0]) / n)\n",
    "    h = h / a\n",
    "    if np.isnan(h) or np.isinf(h):\n",
    "        return 0 \n",
    "    return h"
   ]
  },
  {
   "cell_type": "code",
   "execution_count": 9,
   "id": "accomplished-minutes",
   "metadata": {},
   "outputs": [],
   "source": [
    "### создание класса для 4-х функций у каждого парамерта\n",
    "class Default:\n",
    "    def __init__(self, mean_ln_k_assim, mean_ln_k_eks, mean_ln_kontr, mean_ln_en_k,\\\n",
    "                min_ln_k_assim, min_ln_k_eks, min_ln_kontr, min_ln_en_k,\\\n",
    "                max_ln_k_assim, max_ln_k_eks, max_ln_kontr, max_ln_en_k,\\\n",
    "                intens_bit_k_assim, intens_bit_k_eks, intens_bit_kontr, intens_bit_en_k, \\\n",
    "                intens_p_k_assim, intens_p_k_eks, intens_p_kontr, intens_p_en_k,\\\n",
    "                unique_ip_k_assim, unique_ip_k_eks, unique_ip_kontr, unique_ip_en_k, \\\n",
    "                unique_port_k_assim, unique_port_k_eks, unique_port_kontr, unique_port_en_k, classific):\n",
    "        self.mean_ln_k_assim = mean_ln_k_assim\n",
    "        self.mean_ln_k_eks = mean_ln_k_eks\n",
    "        self.mean_ln_kontr = mean_ln_kontr\n",
    "        self.mean_ln_en_k = mean_ln_en_k\n",
    "        \n",
    "        self.min_ln_k_assim = min_ln_k_assim\n",
    "        self.min_ln_k_eks = min_ln_k_eks\n",
    "        self.min_ln_kontr = min_ln_kontr\n",
    "        self.min_ln_en_k = min_ln_en_k\n",
    "    \n",
    "        self.max_ln_k_assim = max_ln_k_assim\n",
    "        self.max_ln_k_eks = max_ln_k_eks\n",
    "        self.max_ln_kontr = max_ln_kontr\n",
    "        self.max_ln_en_k = max_ln_en_k\n",
    "        \n",
    "        self.intens_bit_k_assim = intens_bit_k_assim\n",
    "        self.intens_bit_k_eks = intens_bit_k_eks\n",
    "        self.intens_bit_kontr = intens_bit_kontr\n",
    "        self.intens_bit_en_k = intens_bit_en_k\n",
    "        \n",
    "        self.intens_p_k_assim = intens_p_k_assim\n",
    "        self.intens_p_k_eks = intens_p_k_eks\n",
    "        self.intens_p_kontr = intens_p_kontr\n",
    "        self.intens_p_en_k = intens_p_en_k\n",
    "        \n",
    "        self.unique_ip_k_assim = unique_ip_k_assim\n",
    "        self.unique_ip_k_eks = unique_ip_k_eks\n",
    "        self.unique_ip_kontr = unique_ip_kontr\n",
    "        self.unique_ip_en_k = unique_ip_en_k\n",
    "        \n",
    "        self.unique_port_k_assim = unique_port_k_assim\n",
    "        self.unique_port_k_eks = unique_port_k_eks\n",
    "        self.unique_port_kontr = unique_port_kontr\n",
    "        self.unique_port_en_k = unique_port_en_k\n",
    "        \n",
    "        self.classific = classific\n",
    "\n",
    "#создание каждого объекта отдельно\n",
    "\n"
   ]
  },
  {
   "cell_type": "code",
   "execution_count": 10,
   "id": "cultural-printer",
   "metadata": {},
   "outputs": [],
   "source": [
    "import scipy.stats\n",
    "\n",
    "def func2(k1, k2, array):\n",
    "#     obj = Default(0,0,0,0,0,0,0,0,0,0,0,0,0,0,0,0,0,0,0,0,0,0,0,0,0,0,0,0,0)\n",
    "#     del obj\n",
    "    f_mean_length = []\n",
    "    f_min_len = []\n",
    "    f_max_len = []\n",
    "    f_intens_bit = []\n",
    "    f_intens_p = []\n",
    "    f_unique_ip = []\n",
    "    f_unique_port = []\n",
    "    f_class = []\n",
    "    itog_cl = []\n",
    "    for i in range(len(array)):\n",
    "        if int(k1) <= int(i) <= int(k2):\n",
    "            f_mean_length.append(array[i].mean_length)\n",
    "            f_min_len.append(array[i].min_length)\n",
    "            f_max_len.append(array[i].max_length)\n",
    "            f_intens_bit.append(array[i].intens_bit)\n",
    "            f_intens_p.append(array[i].intens)\n",
    "            f_unique_ip.append(array[i].unique_ip)\n",
    "            f_unique_port.append(array[i].unique_port) \n",
    "            f_class.append(array[i].classification)\n",
    "    if len(f_mean_length) > 0:\n",
    "        if len(f_class) == sum(f_class):\n",
    "            itog_cl = 1\n",
    "        else:\n",
    "            itog_cl = 0\n",
    "        obj = Default(koef_assim(f_mean_length), koef_eksces(f_mean_length), kontrecsces(f_mean_length),\\\n",
    "                      entr_koef(k2 - k1, len(f_mean_length), len(f_mean_length), np.std(f_mean_length)),\\\n",
    "                      koef_assim(f_min_len), koef_eksces(f_min_len), kontrecsces(f_min_len),\\\n",
    "                      entr_koef(k2 - k1, len(f_min_len), len(f_min_len), np.std(f_min_len)), \\\n",
    "                      koef_assim(f_max_len), koef_eksces(f_max_len), kontrecsces(f_max_len), \\\n",
    "                      entr_koef(k2 - k1, len(f_max_len), len(f_max_len), np.std(f_max_len)), \\\n",
    "                      koef_assim(f_intens_bit), koef_eksces(f_intens_bit), kontrecsces(f_intens_bit), \\\n",
    "                      entr_koef(k2 - k1, len(f_intens_bit), len(f_intens_bit), np.std(f_intens_bit)), \\\n",
    "                      koef_assim(f_intens_p), koef_eksces(f_intens_p), kontrecsces(f_intens_p), \\\n",
    "                      entr_koef(k2 - k1, len(f_intens_p), len(f_intens_p), np.std(f_intens_p)), \\\n",
    "                      koef_assim(f_unique_ip), koef_eksces(f_unique_ip), kontrecsces(f_unique_ip), \\\n",
    "                      entr_koef(k2 - k1, len(f_unique_ip), len(f_unique_ip), np.std(f_unique_ip)), \\\n",
    "                      koef_assim(f_unique_port), koef_eksces(f_unique_port), kontrecsces(f_unique_port), \\\n",
    "                      entr_koef(k2 - k1, len(f_unique_port), len(f_unique_port), np.std(f_unique_port)),\\\n",
    "                      itog_cl)            \n",
    "            \n",
    "    else:\n",
    "        pass\n",
    "    f_mean_length.clear()\n",
    "    f_min_len.clear()\n",
    "    f_max_len.clear()\n",
    "    f_intens_bit.clear()\n",
    "    f_intens_p.clear()\n",
    "    f_unique_ip.clear()\n",
    "    f_unique_port.clear()\n",
    "    f_class.clear()\n",
    "    return obj\n"
   ]
  },
  {
   "cell_type": "code",
   "execution_count": 11,
   "id": "express-prediction",
   "metadata": {},
   "outputs": [],
   "source": [
    "def fff(a1, a2, arr):\n",
    "    global dff\n",
    "    prgBar2 = IntProgress(min = 0, max = len(arr)) # Создаем прогрессбар\n",
    "    display(prgBar2)\n",
    "    ITOG_MAS = []\n",
    "    c = len(arr)\n",
    "    while a2 <= len(arr):\n",
    "        prgBar2.value += step2\n",
    "        ITOG_MAS.append(func2(a1, a2, arr))\n",
    "        a1, a2 = a1 + step2, a2 + step2\n",
    "        dff = pd.DataFrame([[p.mean_ln_k_assim, p.mean_ln_k_eks, p.mean_ln_kontr, p.mean_ln_en_k,\\\n",
    "                        p.min_ln_k_assim, p.min_ln_k_eks, p.min_ln_kontr, p.min_ln_en_k, \\\n",
    "                        p.max_ln_k_assim, p.max_ln_k_eks, p.max_ln_kontr, p.max_ln_en_k, \\\n",
    "                        p.intens_p_k_assim, p.intens_p_k_eks, p.intens_p_kontr, p.intens_p_en_k,\\\n",
    "                        p.intens_bit_k_assim, p.intens_bit_k_eks, p.intens_bit_kontr, p.intens_bit_en_k,\\\n",
    "                        p.unique_port_k_assim, p.unique_port_k_eks, p.unique_port_kontr, p.unique_port_en_k,\\\n",
    "                        p.unique_ip_k_assim, p.unique_ip_k_eks, p.unique_ip_kontr, p.unique_ip_en_k, p.classific\n",
    "                        ] for p in ITOG_MAS],\n",
    "                      columns=['mean_ln_k_assim', 'mean_ln_k_eks', 'mean_ln_kontr', 'mean_ln_en_k',\n",
    "                               'min_ln_k_assim', 'min_ln_k_eks', 'min_ln_kontr', 'min_ln_en_k',\n",
    "                               'max_ln_k_assim', 'max_ln_k_eks', 'max_ln_kontr', 'max_ln_en_k',\n",
    "                               'intens_p_k_assim', 'intens_p_k_eks', 'intens_p_kontr', 'intens_p_en_k',\n",
    "                               'intens_bit_k_assim', 'intens_bit_k_eks', 'intens_bit_kontr', 'intens_bit_en_k',\n",
    "                               'unique_ip_k_assim', 'unique_ip_k_eks', 'unique_ip_kontr', 'unique_ip_en_k',\n",
    "                               'unique_port_k_assim', 'unique_port_k_eks', 'unique_port_kontr', 'unique_port_en_k',\n",
    "                               'classif'])\n",
    "    dff.to_csv('last.csv', sep=',', encoding='utf-8', index=False)\n",
    "    print('csv created')\n",
    "    return ITOG_MAS, dff\n",
    "    "
   ]
  },
  {
   "cell_type": "code",
   "execution_count": 12,
   "id": "comprehensive-university",
   "metadata": {},
   "outputs": [
    {
     "data": {
      "application/vnd.jupyter.widget-view+json": {
       "model_id": "865506d5f66e4a2cbbfc52a942e2c78b",
       "version_major": 2,
       "version_minor": 0
      },
      "text/plain": [
       "FloatSlider(value=3.0, continuous_update=False, description='Window:', max=10.0, min=1.0, step=1.0)"
      ]
     },
     "metadata": {},
     "output_type": "display_data"
    },
    {
     "data": {
      "application/vnd.jupyter.widget-view+json": {
       "model_id": "c2a385ed56aa44e59d27f57993e09e90",
       "version_major": 2,
       "version_minor": 0
      },
      "text/plain": [
       "FloatSlider(value=1.0, continuous_update=False, description='Step:', max=4.0, min=1.0, step=1.0)"
      ]
     },
     "metadata": {},
     "output_type": "display_data"
    },
    {
     "data": {
      "application/vnd.jupyter.widget-view+json": {
       "model_id": "f95514d258b642bd818a6a4039f384ea",
       "version_major": 2,
       "version_minor": 0
      },
      "text/plain": [
       "Button(button_style='success', description='Обработка данных методом скользящего временного окна', layout=Layo…"
      ]
     },
     "metadata": {},
     "output_type": "display_data"
    }
   ],
   "source": [
    "fSlider1 = FloatSlider(\n",
    "    value=3, # Первоначальное значение\n",
    "    min=1,     # Минимум\n",
    "    max=10.0,  # Максимум\n",
    "    step=1,  # Шаг изменения\n",
    "    description='Window:',\n",
    "    continuous_update=False,  # True - событие observe возникает для каждого шага при изменении значения\n",
    "    orientation='horizontal'  # Горизонтальное или вертикальное расположение\n",
    ")\n",
    "fSlider2 = FloatSlider(\n",
    "    value=1, # Первоначальное значение\n",
    "    min=1,     # Минимум\n",
    "    max=4,  # Максимум\n",
    "    step=1,  # Шаг изменения\n",
    "    description='Step:',\n",
    "    continuous_update=False,  # True - событие observe возникает для каждого шага при изменении значения\n",
    "    orientation='horizontal'  # Горизонтальное или вертикальное расположение\n",
    ")\n",
    "def on_value_change(b):\n",
    "    pass\n",
    "# a1 = 0\n",
    "# a2 = int(input('Введите окно для анализа временного интервала = '))\n",
    "# step2 = int(input('Введите шаг окна = '))\n",
    "\n",
    "button4 = Button(description=\"Обработка данных методом скользящего временного окна\",button_style='success',layout=Layout(width='50%', height='80px'))\n",
    "def on_button_clicked5(b): # Описываем обработчик события\n",
    "    global NUM0, NUM1, itog_mas0, itog_mas1, a1, a2, step2\n",
    "    a1 = 0\n",
    "    a2 = fSlider1.value\n",
    "    step2 = fSlider2.value\n",
    "    itog_mas0 = []\n",
    "    NUM0 = []\n",
    "    itog_mas1 = []\n",
    "    NUM1 = []\n",
    "    l = fff(a1,a2,array_object_on_Interval)\n",
    "    k = l[0]\n",
    "    dff = l[1]\n",
    "    cnt = 0\n",
    "    for c in k:\n",
    "        if c.classific == 0:\n",
    "            itog_mas0.append(c)\n",
    "            NUM0.append(cnt)\n",
    "        else:\n",
    "            itog_mas1.append(c)\n",
    "            NUM1.append(cnt)\n",
    "        cnt += 1\n",
    "\n",
    "    print(f'интервал = {a2}')\n",
    "    print(f'шаг = {step2}')\n",
    "    print(f'Объектов с классом 0 : {len(itog_mas0)}')\n",
    "    print(f'Объектов с классом 1 : {len(itog_mas1)}')\n",
    "    print(f'____________________________________________________________________')\n",
    "    return NUM0, NUM1, itog_mas0, itog_mas1\n",
    "\n",
    "fSlider1.observe(on_value_change, names='value')\n",
    "display(fSlider1)\n",
    "fSlider2.observe(on_value_change, names='value')\n",
    "display(fSlider2)\n",
    "button4.on_click(on_button_clicked5) # Назначаем этот обработчик на событие \"on_click\"\n",
    "\n",
    "display(button4)\n",
    "# print(len(dff))"
   ]
  },
  {
   "cell_type": "code",
   "execution_count": 13,
   "id": "billion-silver",
   "metadata": {},
   "outputs": [
    {
     "data": {
      "application/vnd.jupyter.widget-view+json": {
       "model_id": "3ddc612b023446c99e900ecc4b64a733",
       "version_major": 2,
       "version_minor": 0
      },
      "text/plain": [
       "Button(button_style='success', description='Графики для средней длины пакета', layout=Layout(height='80px', wi…"
      ]
     },
     "metadata": {},
     "output_type": "display_data"
    }
   ],
   "source": [
    "# print ('ГРАФИКИ ДЛЯ СРЕДНЕЙ ДЛИНЫ ПАКЕТА')\n",
    "button6 = Button(description=\"Графики для средней длины пакета\", button_style='success', layout=Layout(width='50%', height='80px'))\n",
    "\n",
    "def on_button_clicked6(b):\n",
    "    #ассиметрия\n",
    "    plt.subplot(111)\n",
    "    plt.bar(NUM1, [c.mean_ln_k_assim for c in itog_mas1], color='r')\n",
    "    plt.bar(NUM0, [c.mean_ln_k_assim for c in itog_mas0])\n",
    "\n",
    "    plt.axis([0, len(NUM0) + len(NUM1), -0.0005, 0.0005])\n",
    "    plt.xlabel('Отсчет')\n",
    "    plt.ylabel('ss')\n",
    "    plt.title('Ассиметрия')\n",
    "    plt.minorticks_on()\n",
    "    plt.grid()\n",
    "    plt.show()\n",
    "    # #\n",
    "    #эксцесс\n",
    "    # print(k_ek_ln)\n",
    "    plt.subplot(111)\n",
    "    plt.bar(NUM1, [c.mean_ln_k_eks for c in itog_mas1], color='r')\n",
    "    plt.bar(NUM0, [c.mean_ln_k_eks for c in itog_mas0])\n",
    "\n",
    "    # plt.bar(fff(a1, a2, mean_length)[13], fff(a1, a2, mean_length)[9], color='r')\n",
    "    plt.xlabel('Отсчет')\n",
    "    plt.ylabel('ss')\n",
    "    plt.title('Эксцесса')\n",
    "    plt.minorticks_on()\n",
    "    plt.grid()\n",
    "    plt.show()\n",
    "    #\n",
    "    # #контрэксцесс\n",
    "    # #\n",
    "    plt.subplot(111)\n",
    "    plt.bar(NUM0, [c.mean_ln_kontr for c in itog_mas0])\n",
    "    plt.bar(NUM1, [c.mean_ln_kontr for c in itog_mas1], color='r')\n",
    "    # plt.bar(fff(a1, a2, mean_length)[13], fff(a1, a2, mean_length)[10], color='r')\n",
    "    plt.xlabel('Отсчет')\n",
    "    plt.ylabel('ss')\n",
    "    plt.title('Контр Эксцесс')\n",
    "    plt.minorticks_on()\n",
    "    plt.grid()\n",
    "    plt.show()\n",
    "    # #\n",
    "    # #энтропийный коэф\n",
    "    # #\n",
    "    plt.subplot(111)\n",
    "    plt.bar(NUM1, [c.mean_ln_en_k for c in itog_mas1], color='r')\n",
    "    plt.bar(NUM0, [c.mean_ln_en_k for c in itog_mas0])\n",
    "\n",
    "    # plt.bar(fff(a1, a2, mean_length)[13], fff(a1, a2, mean_length)[11], color='r')\n",
    "    plt.axis([0, len(NUM0) + len(NUM1), 0, 0.8])\n",
    "    plt.xlabel('Отсчет')\n",
    "    plt.ylabel('ss')\n",
    "    plt.title('Энтропийный коэф')\n",
    "    plt.minorticks_on()\n",
    "    plt.grid()\n",
    "    plt.show()\n",
    "    # #\n",
    "    # #энтр коэф \\ контр\n",
    "    # #\n",
    "    plt.subplot(111)\n",
    "    plt.title('entr_k / kontr')\n",
    "    plt.plot([c.mean_ln_en_k for c in itog_mas1], [c.mean_ln_kontr for c in itog_mas1] , 'r^')\n",
    "    plt.plot([c.mean_ln_en_k for c in itog_mas0], [c.mean_ln_kontr for c in itog_mas0] , 'b*')\n",
    "\n",
    "    # plt.plot(fff(a1, a2, mean_length)[11], fff(a1, a2, mean_length)[10], 'r^')\n",
    "    plt.xlabel('entr_K')\n",
    "    plt.ylabel('kontr')\n",
    "    plt.show()\n",
    "    # #\n",
    "    # #ассим \\ экс\n",
    "    # #\n",
    "    plt.subplot(111)\n",
    "    plt.title('k_assim*2 / k_eks')\n",
    "    plt.plot( [c.mean_ln_k_assim**2 for c in itog_mas1], [c.mean_ln_k_eks for c in itog_mas1], 'r^')\n",
    "    plt.plot( [c.mean_ln_k_assim**2 for c in itog_mas0], [c.mean_ln_k_eks for c in itog_mas0], 'b*')\n",
    "\n",
    "    # plt.plot([k**2 for k in fff(a1, a2, mean_length)[8]], fff(a1, a2, mean_length)[9], 'r^')\n",
    "    plt.xlabel('k_assim**2')\n",
    "    plt.ylabel('k_eks')\n",
    "    plt.show()\n",
    "    # #\n",
    "    # #kont/entr\n",
    "    # #\n",
    "\n",
    "    plt.subplot(111)\n",
    "    plt.title('kontr / entr_k')\n",
    "    plt.xlabel('kontr')\n",
    "    plt.ylabel('entr_k')\n",
    "    plt.plot([c.mean_ln_kontr for c in itog_mas1], [c.mean_ln_en_k for c in itog_mas1] , 'r^')\n",
    "    plt.plot([c.mean_ln_kontr for c in itog_mas0], [c.mean_ln_en_k for c in itog_mas0] , 'b*')\n",
    "\n",
    "    # plt.plot(fff(a1, a2, mean_length)[10], fff(a1, a2, mean_length)[11], 'r^')\n",
    "    plt.show()\n",
    "    # #\n",
    "    import plotly.graph_objs as go\n",
    "    import plotly\n",
    "    fig1 = go.Scatter3d(x=[c.mean_ln_en_k for c in itog_mas0], y=[c.mean_ln_k_assim for c in itog_mas0],\\\n",
    "                        z=[c.mean_ln_kontr for c in itog_mas0],\\\n",
    "                        marker=dict(opacity=0.9, reversescale=True,size=5),\\\n",
    "                        line=dict(width=0.2), mode='markers')\n",
    "    fig2 = go.Scatter3d(x=[c.mean_ln_en_k for c in itog_mas1], y=[c.mean_ln_k_assim for c in itog_mas1],\\\n",
    "                        z=[c.mean_ln_kontr for c in itog_mas1],\\\n",
    "                        marker=dict(opacity=0.9, reversescale=True,size=5),\\\n",
    "                        line=dict(width=0.2), mode='markers')\n",
    "    mylayout = go.Layout(scene=dict(xaxis=dict( title=\"entr_k\"),\n",
    "                                    yaxis=dict( title=\"k_assim\"),\n",
    "                                    zaxis=dict(title=\"kontr\")),)\n",
    "\n",
    "    #Plot and save html\n",
    "    plotly.offline.plot({\"data\": [fig1, fig2],\n",
    "                         \"layout\": mylayout},\n",
    "                         auto_open=True,\n",
    "                         filename=(\"3DPlot.html\"))\n",
    "button6.on_click(on_button_clicked6) # Назначаем этот обработчик на событие \"on_click\"\n",
    "\n",
    "display(button6) "
   ]
  },
  {
   "cell_type": "code",
   "execution_count": 14,
   "id": "correct-thong",
   "metadata": {},
   "outputs": [
    {
     "name": "stdout",
     "output_type": "stream",
     "text": [
      "ГРАФИКИ ДЛЯ МАКСИМАЛЬНОЙ ДЛИНЫ ПАКЕТА\n"
     ]
    }
   ],
   "source": [
    "print ('ГРАФИКИ ДЛЯ МАКСИМАЛЬНОЙ ДЛИНЫ ПАКЕТА')\n",
    "button7 = Button(description=\"Графики для максимальной длины пакета\", button_style='success', layout=Layout(width='50%', height='80px'))\n",
    "\n",
    "def on_button_clicked7(b):\n",
    "    #ассиметрия\n",
    "    plt.subplot(111)\n",
    "    plt.bar(NUM1, [c.max_ln_k_assim for c in itog_mas1], color='r')\n",
    "    plt.bar(NUM0, [c.max_ln_k_assim for c in itog_mas0])\n",
    "\n",
    "    plt.axis([0, len(NUM0) + len(NUM1), -0.00005, 0.00005])\n",
    "    plt.xlabel('Отсчет')\n",
    "    plt.ylabel('ss')\n",
    "    plt.title('Ассиметрия')\n",
    "    plt.minorticks_on()\n",
    "    plt.grid()\n",
    "    plt.show()\n",
    "    # #\n",
    "    #эксцесс\n",
    "    # print(k_ek_ln)\n",
    "    plt.subplot(111)\n",
    "    plt.bar(NUM1, [c.max_ln_k_eks for c in itog_mas1], color='r')\n",
    "    plt.bar(NUM0, [c.max_ln_k_eks for c in itog_mas0])\n",
    "\n",
    "    # plt.bar(fff(a1, a2, mean_length)[13], fff(a1, a2, mean_length)[9], color='r')\n",
    "    plt.xlabel('Отсчет')\n",
    "    plt.ylabel('ss')\n",
    "    plt.title('Эксцесса')\n",
    "    plt.minorticks_on()\n",
    "    plt.grid()\n",
    "    plt.show()\n",
    "    #\n",
    "    # #контрэксцесс\n",
    "    # #\n",
    "    plt.subplot(111)\n",
    "    plt.bar(NUM1, [c.max_ln_kontr for c in itog_mas1], color='r')\n",
    "    plt.bar(NUM0, [c.max_ln_kontr for c in itog_mas0])\n",
    "\n",
    "    # plt.bar(fff(a1, a2, mean_length)[13], fff(a1, a2, mean_length)[10], color='r')\n",
    "    plt.xlabel('Отсчет')\n",
    "    plt.ylabel('ss')\n",
    "    plt.title('Контр Эксцесс')\n",
    "    plt.minorticks_on()\n",
    "    plt.grid()\n",
    "    plt.show()\n",
    "    # #\n",
    "    # #энтропийный коэф\n",
    "    # #\n",
    "    plt.subplot(111)\n",
    "    plt.bar(NUM1, [c.max_ln_en_k for c in itog_mas1], color='r')\n",
    "    plt.bar(NUM0, [c.max_ln_en_k for c in itog_mas0])\n",
    "\n",
    "    # plt.bar(fff(a1, a2, mean_length)[13], fff(a1, a2, mean_length)[11], color='r')\n",
    "    # plt.axis([0, len(range(len(k))), 0, 0.8])\n",
    "    plt.xlabel('Отсчет')\n",
    "    plt.ylabel('ss')\n",
    "    plt.title('Энтропийный коэф')\n",
    "    plt.minorticks_on()\n",
    "    plt.grid()\n",
    "    plt.show()\n",
    "    # #\n",
    "    # #энтр коэф \\ контр\n",
    "    # #\n",
    "    plt.subplot(111)\n",
    "    plt.title('entr_k / kontr')\n",
    "    plt.plot([c.max_ln_en_k for c in itog_mas1], [c.max_ln_kontr for c in itog_mas1] , 'r^')\n",
    "    plt.plot([c.max_ln_en_k for c in itog_mas0], [c.max_ln_kontr for c in itog_mas0] , 'b*')\n",
    "\n",
    "    # plt.plot(fff(a1, a2, mean_length)[11], fff(a1, a2, mean_length)[10], 'r^')\n",
    "    plt.xlabel('entr_K')\n",
    "    plt.ylabel('kontr')\n",
    "    plt.show()\n",
    "    # #\n",
    "    # #ассим \\ экс\n",
    "    # #\n",
    "    plt.subplot(111)\n",
    "    plt.title('k_assim*2 / k_eks')\n",
    "    plt.plot( [c.max_ln_k_assim**2 for c in itog_mas1], [c.max_ln_k_eks for c in itog_mas1], 'r^')\n",
    "    plt.plot( [c.max_ln_k_assim**2 for c in itog_mas0], [c.max_ln_k_eks for c in itog_mas0], 'b*')\n",
    "\n",
    "    # plt.plot([k**2 for k in fff(a1, a2, mean_length)[8]], fff(a1, a2, mean_length)[9], 'r^')\n",
    "    plt.xlabel('k_assim**2')\n",
    "    plt.ylabel('k_eks')\n",
    "    plt.show()\n",
    "    # #\n",
    "    # #kont/entr\n",
    "    # #\n",
    "\n",
    "    plt.subplot(111)\n",
    "    plt.title('kontr / entr_k')\n",
    "    plt.xlabel('kontr')\n",
    "    plt.ylabel('entr_k')\n",
    "    plt.plot([c.max_ln_kontr for c in itog_mas1], [c.max_ln_en_k for c in itog_mas1] , 'r^')\n",
    "    plt.plot([c.max_ln_kontr for c in itog_mas0], [c.max_ln_en_k for c in itog_mas0] , 'b*')\n",
    "\n",
    "    # plt.plot(fff(a1, a2, mean_length)[10], fff(a1, a2, mean_length)[11], 'r^')\n",
    "    plt.show()\n",
    "    # #\n",
    "    import plotly.graph_objs as go\n",
    "    import plotly\n",
    "    fig1 = go.Scatter3d(x=[c.max_ln_en_k for c in itog_mas0], y=[c.max_ln_k_assim for c in itog_mas0],\\\n",
    "                        z=[c.max_ln_kontr for c in itog_mas0],\\\n",
    "                        marker=dict(opacity=0.9, reversescale=True,size=5),\\\n",
    "                        line=dict(width=0.2), mode='markers')\n",
    "    fig2 = go.Scatter3d(x=[c.max_ln_en_k for c in itog_mas1], y=[c.max_ln_k_assim for c in itog_mas1],\\\n",
    "                        z=[c.max_ln_kontr for c in itog_mas1],\\\n",
    "                        marker=dict(opacity=0.9, reversescale=True,size=5),\\\n",
    "                        line=dict(width=0.2), mode='markers')\n",
    "    mylayout = go.Layout(scene=dict(xaxis=dict( title=\"entr_k\"),\n",
    "                                    yaxis=dict( title=\"k_assim\"),\n",
    "                                    zaxis=dict(title=\"kontr\")),)\n",
    "\n",
    "    #Plot and save html\n",
    "    plotly.offline.plot({\"data\": [fig1, fig2],\n",
    "                         \"layout\": mylayout},\n",
    "                         auto_open=True,\n",
    "                         filename=(\"3DPlot.html\"))\n",
    "# button7.on_click(on_button_clicked7) # Назначаем этот обработчик на событие \"on_click\"\n",
    "\n",
    "# display(button7) "
   ]
  },
  {
   "cell_type": "code",
   "execution_count": 15,
   "id": "broad-relative",
   "metadata": {},
   "outputs": [
    {
     "name": "stdout",
     "output_type": "stream",
     "text": [
      "ГРАФИКИ ДЛЯ МИНИМАЛЬНОЙ ДЛИНЫ ПАКЕТА\n"
     ]
    }
   ],
   "source": [
    "print ('ГРАФИКИ ДЛЯ МИНИМАЛЬНОЙ ДЛИНЫ ПАКЕТА')\n",
    "button8 = Button(description=\"Графики для минимальной длины пакета\", button_style='success', layout=Layout(width='50%', height='80px'))\n",
    "\n",
    "def on_button_clicked8(b):\n",
    "    #ассиметрия\n",
    "    plt.subplot(111)\n",
    "    plt.bar(NUM1, [c.min_ln_k_assim for c in itog_mas1], color='r')\n",
    "    plt.bar(NUM0, [c.min_ln_k_assim for c in itog_mas0])\n",
    "\n",
    "    plt.axis([0, len(NUM0) + len(NUM1), -0.00005, 0.00005])\n",
    "    plt.xlabel('Отсчет')\n",
    "    plt.ylabel('ss')\n",
    "    plt.title('Ассиметрия')\n",
    "    plt.minorticks_on()\n",
    "    plt.grid()\n",
    "    plt.show()\n",
    "    # #\n",
    "    #эксцесс\n",
    "    # print(k_ek_ln)\n",
    "    plt.subplot(111)\n",
    "    plt.bar(NUM1, [c.min_ln_k_eks for c in itog_mas1], color='r')\n",
    "    plt.bar(NUM0, [c.min_ln_k_eks for c in itog_mas0])\n",
    "\n",
    "    # plt.bar(fff(a1, a2, mean_length)[13], fff(a1, a2, mean_length)[9], color='r')\n",
    "    plt.xlabel('Отсчет')\n",
    "    plt.ylabel('ss')\n",
    "    plt.title('Эксцесса')\n",
    "    plt.minorticks_on()\n",
    "    plt.grid()\n",
    "    plt.show()\n",
    "    #\n",
    "    # #контрэксцесс\n",
    "    # #\n",
    "    plt.subplot(111)\n",
    "    plt.bar(NUM1, [c.min_ln_kontr for c in itog_mas1], color='r')\n",
    "    plt.bar(NUM0, [c.min_ln_kontr for c in itog_mas0])\n",
    "\n",
    "    # plt.bar(fff(a1, a2, mean_length)[13], fff(a1, a2, mean_length)[10], color='r')\n",
    "    plt.xlabel('Отсчет')\n",
    "    plt.ylabel('ss')\n",
    "    plt.title('Контр Эксцесс')\n",
    "    plt.minorticks_on()\n",
    "    plt.grid()\n",
    "    plt.show()\n",
    "    # #\n",
    "    # #энтропийный коэф\n",
    "    # #\n",
    "    plt.subplot(111)\n",
    "    plt.bar(NUM1, [c.min_ln_en_k for c in itog_mas1], color='r')\n",
    "    plt.bar(NUM0, [c.min_ln_en_k for c in itog_mas0])\n",
    "\n",
    "    # plt.bar(fff(a1, a2, mean_length)[13], fff(a1, a2, mean_length)[11], color='r')\n",
    "    # plt.axis([0, len(range(len(k))), 0, 0.8])\n",
    "    plt.xlabel('Отсчет')\n",
    "    plt.ylabel('ss')\n",
    "    plt.title('Энтропийный коэф')\n",
    "    plt.minorticks_on()\n",
    "    plt.grid()\n",
    "    plt.show()\n",
    "    # #\n",
    "    # #энтр коэф \\ контр\n",
    "    # #\n",
    "    plt.subplot(111)\n",
    "    plt.title('entr_k / kontr')\n",
    "    plt.plot([c.min_ln_en_k for c in itog_mas1], [c.min_ln_kontr for c in itog_mas1] , 'r^')\n",
    "    plt.plot([c.min_ln_en_k for c in itog_mas0], [c.min_ln_kontr for c in itog_mas0] , 'b*')\n",
    "\n",
    "    # plt.plot(fff(a1, a2, mean_length)[11], fff(a1, a2, mean_length)[10], 'r^')\n",
    "    plt.xlabel('entr_K')\n",
    "    plt.ylabel('kontr')\n",
    "    plt.show()\n",
    "    # #\n",
    "    # #ассим \\ экс\n",
    "    # #\n",
    "    plt.subplot(111)\n",
    "    plt.title('k_assim*2 / k_eks')\n",
    "    plt.plot( [c.min_ln_k_assim**2 for c in itog_mas1], [c.min_ln_k_eks for c in itog_mas1], 'r^')\n",
    "    plt.plot( [c.min_ln_k_assim**2 for c in itog_mas0], [c.min_ln_k_eks for c in itog_mas0], 'b*')\n",
    "\n",
    "    # plt.plot([k**2 for k in fff(a1, a2, mean_length)[8]], fff(a1, a2, mean_length)[9], 'r^')\n",
    "    plt.xlabel('k_assim**2')\n",
    "    plt.ylabel('k_eks')\n",
    "    plt.show()\n",
    "    # #\n",
    "    # #kont/entr\n",
    "    # #\n",
    "\n",
    "    plt.subplot(111)\n",
    "    plt.title('kontr / entr_k')\n",
    "    plt.xlabel('kontr')\n",
    "    plt.ylabel('entr_k')\n",
    "    plt.plot([c.min_ln_kontr for c in itog_mas1], [c.min_ln_en_k for c in itog_mas1] , 'r^')\n",
    "    plt.plot([c.min_ln_kontr for c in itog_mas0], [c.min_ln_en_k for c in itog_mas0] , 'b*')\n",
    "\n",
    "    # plt.plot(fff(a1, a2, mean_length)[10], fff(a1, a2, mean_length)[11], 'r^')\n",
    "    plt.show()\n",
    "    # #\n",
    "    import plotly.graph_objs as go\n",
    "    import plotly\n",
    "    fig1 = go.Scatter3d(x=[c.min_ln_en_k for c in itog_mas0], y=[c.min_ln_k_assim for c in itog_mas0],\\\n",
    "                        z=[c.min_ln_kontr for c in itog_mas0],\\\n",
    "                        marker=dict(opacity=0.9, reversescale=True,size=5),\\\n",
    "                        line=dict(width=0.2), mode='markers')\n",
    "    fig2 = go.Scatter3d(x=[c.min_ln_en_k for c in itog_mas1], y=[c.min_ln_k_assim for c in itog_mas1],\\\n",
    "                        z=[c.min_ln_kontr for c in itog_mas1],\\\n",
    "                        marker=dict(opacity=0.9, reversescale=True,size=5),\\\n",
    "                        line=dict(width=0.2), mode='markers')\n",
    "    mylayout = go.Layout(scene=dict(xaxis=dict( title=\"entr_k\"),\n",
    "                                    yaxis=dict( title=\"k_assim\"),\n",
    "                                    zaxis=dict(title=\"kontr\")),)\n",
    "\n",
    "    #Plot and save html\n",
    "    plotly.offline.plot({\"data\": [fig1, fig2],\n",
    "                         \"layout\": mylayout},\n",
    "                         auto_open=True,\n",
    "                         filename=(\"3DPlot.html\"))\n",
    "# button8.on_click(on_button_clicked8) # Назначаем этот обработчик на событие \"on_click\"\n",
    "\n",
    "# display(button8) "
   ]
  },
  {
   "cell_type": "code",
   "execution_count": 16,
   "id": "interesting-finland",
   "metadata": {},
   "outputs": [
    {
     "name": "stdout",
     "output_type": "stream",
     "text": [
      "ГРАФИКИ ДЛЯ УНИКАЛЬНЫХ АДРЕСОВ АЙПИ ПАКЕТА\n"
     ]
    }
   ],
   "source": [
    "print ('ГРАФИКИ ДЛЯ УНИКАЛЬНЫХ АДРЕСОВ АЙПИ ПАКЕТА')\n",
    "\n",
    "button9 = Button(description=\"Графики для уникальных адресов ip пакета\", button_style='success', layout=Layout(width='50%', height='80px'))\n",
    "\n",
    "def on_button_clicked9(b):\n",
    "    #ассиметрия\n",
    "    plt.subplot(111)\n",
    "    plt.bar(NUM1, [c.unique_ip_k_assim for c in itog_mas1], color='r')\n",
    "    plt.bar(NUM0, [c.unique_ip_k_assim for c in itog_mas0])\n",
    "\n",
    "    plt.axis([0, len(NUM0) + len(NUM1), -0.05, 0.05])\n",
    "    plt.xlabel('Отсчет')\n",
    "    plt.ylabel('ss')\n",
    "    plt.title('Ассиметрия')\n",
    "    plt.minorticks_on()\n",
    "    plt.grid()\n",
    "    plt.show()\n",
    "    # #\n",
    "    #эксцесс\n",
    "    # print(k_ek_ln)\n",
    "    plt.subplot(111)\n",
    "    plt.bar(NUM1, [c.unique_ip_k_eks for c in itog_mas1], color='r')\n",
    "    plt.bar(NUM0, [c.unique_ip_k_eks for c in itog_mas0])\n",
    "\n",
    "    # plt.bar(fff(a1, a2, mean_length)[13], fff(a1, a2, mean_length)[9], color='r')\n",
    "    plt.xlabel('Отсчет')\n",
    "    plt.ylabel('ss')\n",
    "    plt.title('Эксцесса')\n",
    "    plt.minorticks_on()\n",
    "    plt.grid()\n",
    "    plt.show()\n",
    "    #\n",
    "    # #контрэксцесс\n",
    "    # #\n",
    "    plt.subplot(111)\n",
    "    plt.bar(NUM1, [c.unique_ip_kontr for c in itog_mas1], color='r')\n",
    "    plt.bar(NUM0, [c.unique_ip_kontr for c in itog_mas0])\n",
    "\n",
    "    # plt.bar(fff(a1, a2, mean_length)[13], fff(a1, a2, mean_length)[10], color='r')\n",
    "    plt.xlabel('Отсчет')\n",
    "    plt.ylabel('ss')\n",
    "    plt.title('Контр Эксцесс')\n",
    "    plt.minorticks_on()\n",
    "    plt.grid()\n",
    "    plt.show()\n",
    "    # #\n",
    "    # #энтропийный коэф\n",
    "    # #\n",
    "    plt.subplot(111)\n",
    "    plt.bar(NUM1, [c.unique_ip_en_k for c in itog_mas1], color='r')\n",
    "    plt.bar(NUM0, [c.unique_ip_en_k for c in itog_mas0])\n",
    "\n",
    "    # plt.bar(fff(a1, a2, mean_length)[13], fff(a1, a2, mean_length)[11], color='r')\n",
    "    # plt.axis([0, len(range(len(k))), 0, 0.8])\n",
    "    plt.xlabel('Отсчет')\n",
    "    plt.ylabel('ss')\n",
    "    plt.title('Энтропийный коэф')\n",
    "    plt.minorticks_on()\n",
    "    plt.grid()\n",
    "    plt.show()\n",
    "    # #\n",
    "    # #энтр коэф \\ контр\n",
    "    # #\n",
    "    plt.subplot(111)\n",
    "    plt.title('entr_k / kontr')\n",
    "    plt.plot([c.unique_ip_en_k for c in itog_mas1], [c.unique_ip_kontr for c in itog_mas1] , 'r^')\n",
    "    plt.plot([c.unique_ip_en_k for c in itog_mas0], [c.unique_ip_kontr for c in itog_mas0] , 'b*')\n",
    "\n",
    "    # plt.plot(fff(a1, a2, mean_length)[11], fff(a1, a2, mean_length)[10], 'r^')\n",
    "    plt.xlabel('entr_K')\n",
    "    plt.ylabel('kontr')\n",
    "    plt.show()\n",
    "    # #\n",
    "    # #ассим \\ экс\n",
    "    # #\n",
    "    plt.subplot(111)\n",
    "    plt.title('k_assim*2 / k_eks')\n",
    "    plt.plot( [c.unique_ip_k_assim**2 for c in itog_mas1], [c.unique_ip_k_eks for c in itog_mas1], 'r^')\n",
    "    plt.plot( [c.unique_ip_k_assim**2 for c in itog_mas0], [c.unique_ip_k_eks for c in itog_mas0], 'b*')\n",
    "\n",
    "    # plt.plot([k**2 for k in fff(a1, a2, mean_length)[8]], fff(a1, a2, mean_length)[9], 'r^')\n",
    "    plt.xlabel('k_assim**2')\n",
    "    plt.ylabel('k_eks')\n",
    "    plt.show()\n",
    "    # #\n",
    "    # #kont/entr\n",
    "    # #\n",
    "\n",
    "    plt.subplot(111)\n",
    "    plt.title('kontr / entr_k')\n",
    "    plt.xlabel('kontr')\n",
    "    plt.ylabel('entr_k')\n",
    "    plt.plot([c.unique_ip_kontr for c in itog_mas1], [c.unique_ip_en_k for c in itog_mas1] , 'r^')\n",
    "    plt.plot([c.unique_ip_kontr for c in itog_mas0], [c.unique_ip_en_k for c in itog_mas0] , 'b*')\n",
    "\n",
    "    # plt.plot(fff(a1, a2, mean_length)[10], fff(a1, a2, mean_length)[11], 'r^')\n",
    "    plt.show()\n",
    "    # #\n",
    "    import plotly.graph_objs as go\n",
    "    import plotly\n",
    "    fig1 = go.Scatter3d(x=[c.unique_ip_en_k for c in itog_mas0], y=[c.unique_ip_k_assim for c in itog_mas0],\\\n",
    "                        z=[c.unique_ip_kontr for c in itog_mas0],\\\n",
    "                        marker=dict(opacity=0.9, reversescale=True,size=5),\\\n",
    "                        line=dict(width=0.2), mode='markers')\n",
    "    fig2 = go.Scatter3d(x=[c.unique_ip_en_k for c in itog_mas1], y=[c.unique_ip_k_assim for c in itog_mas1],\\\n",
    "                        z=[c.unique_ip_kontr for c in itog_mas1],\\\n",
    "                        marker=dict(opacity=0.9, reversescale=True,size=5),\\\n",
    "                        line=dict(width=0.2), mode='markers')\n",
    "    mylayout = go.Layout(scene=dict(xaxis=dict( title=\"entr_k\"),\n",
    "                                    yaxis=dict( title=\"k_assim\"),\n",
    "                                    zaxis=dict(title=\"kontr\")),)\n",
    "\n",
    "    #Plot and save html\n",
    "    plotly.offline.plot({\"data\": [fig1, fig2],\n",
    "                         \"layout\": mylayout},\n",
    "                         auto_open=True,\n",
    "                         filename=(\"3DPlot.html\"))\n",
    "    \n",
    "# button9.on_click(on_button_clicked9) # Назначаем этот обработчик на событие \"on_click\"\n",
    "\n",
    "# display(button9) "
   ]
  },
  {
   "cell_type": "code",
   "execution_count": 17,
   "id": "concerned-porcelain",
   "metadata": {},
   "outputs": [
    {
     "name": "stdout",
     "output_type": "stream",
     "text": [
      "ГРАФИКИ ДЛЯ УНИКАЛЬНЫХ ПОРТОВ АЙПИ ПАКЕТА\n"
     ]
    }
   ],
   "source": [
    "print ('ГРАФИКИ ДЛЯ УНИКАЛЬНЫХ ПОРТОВ АЙПИ ПАКЕТА')\n",
    "\n",
    "button10 = Button(description=\"Графики для уникальных портов ip пакета\", button_style='success', layout=Layout(width='50%', height='80px'))\n",
    "\n",
    "def on_button_clicked10(b):\n",
    "    #ассиметрия\n",
    "    plt.subplot(111)\n",
    "    plt.bar(NUM1, [c.unique_port_k_assim for c in itog_mas1], color='r')\n",
    "    plt.bar(NUM0, [c.unique_port_k_assim for c in itog_mas0])\n",
    "\n",
    "    plt.axis([0, len(NUM0) + len(NUM1), -0.00005, 0.00005])\n",
    "    plt.xlabel('Отсчет')\n",
    "    plt.ylabel('ss')\n",
    "    plt.title('Ассиметрия')\n",
    "    plt.minorticks_on()\n",
    "    plt.grid()\n",
    "    plt.show()\n",
    "    # #\n",
    "    #эксцесс\n",
    "    # print(k_ek_ln)\n",
    "    plt.subplot(111)\n",
    "    plt.bar(NUM1, [c.unique_port_k_eks for c in itog_mas1], color='r')\n",
    "    plt.bar(NUM0, [c.unique_port_k_eks for c in itog_mas0])\n",
    "\n",
    "    # plt.bar(fff(a1, a2, mean_length)[13], fff(a1, a2, mean_length)[9], color='r')\n",
    "    plt.xlabel('Отсчет')\n",
    "    plt.ylabel('ss')\n",
    "    plt.title('Эксцесса')\n",
    "    plt.minorticks_on()\n",
    "    plt.grid()\n",
    "    plt.show()\n",
    "    #\n",
    "    # #контрэксцесс\n",
    "    # #\n",
    "    plt.subplot(111)\n",
    "    plt.bar(NUM1, [c.unique_port_kontr for c in itog_mas1], color='r')\n",
    "    plt.bar(NUM0, [c.unique_port_kontr for c in itog_mas0])\n",
    "\n",
    "    # plt.bar(fff(a1, a2, mean_length)[13], fff(a1, a2, mean_length)[10], color='r')\n",
    "    plt.xlabel('Отсчет')\n",
    "    plt.ylabel('ss')\n",
    "    plt.title('Контр Эксцесс')\n",
    "    plt.minorticks_on()\n",
    "    plt.grid()\n",
    "    plt.show()\n",
    "    # #\n",
    "    # #энтропийный коэф\n",
    "    # #\n",
    "    plt.subplot(111)\n",
    "    plt.bar(NUM1, [c.unique_port_en_k for c in itog_mas1], color='r')\n",
    "    plt.bar(NUM0, [c.unique_port_en_k for c in itog_mas0])\n",
    "\n",
    "    # plt.bar(fff(a1, a2, mean_length)[13], fff(a1, a2, mean_length)[11], color='r')\n",
    "    # plt.axis([0, len(range(len(k))), 0, 0.8])\n",
    "    plt.xlabel('Отсчет')\n",
    "    plt.ylabel('ss')\n",
    "    plt.title('Энтропийный коэф')\n",
    "    plt.minorticks_on()\n",
    "    plt.grid()\n",
    "    plt.show()\n",
    "    # #\n",
    "    # #энтр коэф \\ контр\n",
    "    # #\n",
    "    plt.subplot(111)\n",
    "    plt.title('entr_k / kontr')\n",
    "    plt.plot([c.unique_port_en_k for c in itog_mas1], [c.unique_port_kontr for c in itog_mas1] , 'r^')\n",
    "    plt.plot([c.unique_port_en_k for c in itog_mas0], [c.unique_port_kontr for c in itog_mas0] , 'b*')\n",
    "\n",
    "    # plt.plot(fff(a1, a2, mean_length)[11], fff(a1, a2, mean_length)[10], 'r^')\n",
    "    plt.xlabel('entr_K')\n",
    "    plt.ylabel('kontr')\n",
    "    plt.show()\n",
    "    # #\n",
    "    # #ассим \\ экс\n",
    "    # #\n",
    "    plt.subplot(111)\n",
    "    plt.title('k_assim*2 / k_eks')\n",
    "    plt.plot( [c.unique_port_k_assim**2 for c in itog_mas1], [c.unique_port_k_eks for c in itog_mas1], 'r^')\n",
    "    plt.plot( [c.unique_port_k_assim**2 for c in itog_mas0], [c.unique_port_k_eks for c in itog_mas0], 'b*')\n",
    "\n",
    "    # plt.plot([k**2 for k in fff(a1, a2, mean_length)[8]], fff(a1, a2, mean_length)[9], 'r^')\n",
    "    plt.xlabel('k_assim**2')\n",
    "    plt.ylabel('k_eks')\n",
    "    plt.show()\n",
    "    # #\n",
    "    # #kont/entr\n",
    "    # #\n",
    "\n",
    "    plt.subplot(111)\n",
    "    plt.title('kontr / entr_k')\n",
    "    plt.xlabel('kontr')\n",
    "    plt.ylabel('entr_k')\n",
    "    plt.plot([c.unique_port_kontr for c in itog_mas1], [c.unique_port_en_k for c in itog_mas1] , 'r^')\n",
    "    plt.plot([c.unique_port_kontr for c in itog_mas0], [c.unique_port_en_k for c in itog_mas0] , 'b*')\n",
    "\n",
    "    # plt.plot(fff(a1, a2, mean_length)[10], fff(a1, a2, mean_length)[11], 'r^')\n",
    "    plt.show()\n",
    "    # #\n",
    "    import plotly.graph_objs as go\n",
    "    import plotly\n",
    "    fig1 = go.Scatter3d(x=[c.unique_port_en_k for c in itog_mas0], y=[c.unique_port_k_assim for c in itog_mas0],\\\n",
    "                        z=[c.unique_port_kontr for c in itog_mas0],\\\n",
    "                        marker=dict(opacity=0.9, reversescale=True,size=5),\\\n",
    "                        line=dict(width=0.2), mode='markers')\n",
    "    fig2 = go.Scatter3d(x=[c.unique_port_en_k for c in itog_mas1], y=[c.unique_port_k_assim for c in itog_mas1],\\\n",
    "                        z=[c.unique_port_kontr for c in itog_mas1],\\\n",
    "                        marker=dict(opacity=0.9, reversescale=True,size=5),\\\n",
    "                        line=dict(width=0.2), mode='markers')\n",
    "    mylayout = go.Layout(scene=dict(xaxis=dict( title=\"entr_k\"),\n",
    "                                    yaxis=dict( title=\"k_assim\"),\n",
    "                                    zaxis=dict(title=\"kontr\")),)\n",
    "\n",
    "    #Plot and save html\n",
    "    plotly.offline.plot({\"data\": [fig1, fig2],\n",
    "                         \"layout\": mylayout},\n",
    "                         auto_open=True,\n",
    "                         filename=(\"3DPlot.html\"))\n",
    "# button10.on_click(on_button_clicked10) # Назначаем этот обработчик на событие \"on_click\"\n",
    "\n",
    "# display(button10) "
   ]
  },
  {
   "cell_type": "code",
   "execution_count": 18,
   "id": "irish-tribute",
   "metadata": {},
   "outputs": [
    {
     "name": "stdout",
     "output_type": "stream",
     "text": [
      "ГРАФИКИ ДЛЯ ИНТЕНСИВНОСТИ ПАКЕТ\n"
     ]
    }
   ],
   "source": [
    "print ('ГРАФИКИ ДЛЯ ИНТЕНСИВНОСТИ ПАКЕТ')\n",
    "button11 = Button(description=\"Графики для интенсивности пакетов\", button_style='success', layout=Layout(width='50%', height='80px'))\n",
    "\n",
    "def on_button_clicked11(b):\n",
    "    #ассиметрия\n",
    "    plt.subplot(111)\n",
    "    plt.bar(NUM1, [c.intens_p_k_assim for c in itog_mas1], color='r')\n",
    "    plt.bar(NUM0, [c.intens_p_k_assim for c in itog_mas0])\n",
    "\n",
    "    plt.axis([0, len(NUM0) + len(NUM1), -0.00005, 0.00005])\n",
    "    plt.xlabel('Отсчет')\n",
    "    plt.ylabel('ss')\n",
    "    plt.title('Ассиметрия')\n",
    "    plt.minorticks_on()\n",
    "    plt.grid()\n",
    "    plt.show()\n",
    "    # #\n",
    "    #эксцесс\n",
    "    # print(k_ek_ln)\n",
    "    plt.subplot(111)\n",
    "    plt.bar(NUM1, [c.intens_p_k_eks for c in itog_mas1], color='r')\n",
    "    plt.bar(NUM0, [c.intens_p_k_eks for c in itog_mas0])\n",
    "\n",
    "    # plt.bar(fff(a1, a2, mean_length)[13], fff(a1, a2, mean_length)[9], color='r')\n",
    "    plt.xlabel('Отсчет')\n",
    "    plt.ylabel('ss')\n",
    "    plt.title('Эксцесса')\n",
    "    plt.minorticks_on()\n",
    "    plt.grid()\n",
    "    plt.show()\n",
    "    #\n",
    "    # #контрэксцесс\n",
    "    # #\n",
    "    plt.subplot(111)\n",
    "    plt.bar(NUM1, [c.intens_p_kontr for c in itog_mas1], color='r')\n",
    "    plt.bar(NUM0, [c.intens_p_kontr for c in itog_mas0])\n",
    "\n",
    "    # plt.bar(fff(a1, a2, mean_length)[13], fff(a1, a2, mean_length)[10], color='r')\n",
    "    plt.xlabel('Отсчет')\n",
    "    plt.ylabel('ss')\n",
    "    plt.title('Контр Эксцесс')\n",
    "    plt.minorticks_on()\n",
    "    plt.grid()\n",
    "    plt.show()\n",
    "    # #\n",
    "    # #энтропийный коэф\n",
    "    # #\n",
    "    plt.subplot(111)\n",
    "    plt.bar(NUM1, [c.intens_p_en_k for c in itog_mas1], color='r')\n",
    "    plt.bar(NUM0, [c.intens_p_en_k for c in itog_mas0])\n",
    "\n",
    "    # plt.bar(fff(a1, a2, mean_length)[13], fff(a1, a2, mean_length)[11], color='r')\n",
    "    # plt.axis([0, len(range(len(k))), 0, 0.8])\n",
    "    plt.xlabel('Отсчет')\n",
    "    plt.ylabel('ss')\n",
    "    plt.title('Энтропийный коэф')\n",
    "    plt.minorticks_on()\n",
    "    plt.grid()\n",
    "    plt.show()\n",
    "    # #\n",
    "    # #энтр коэф \\ контр\n",
    "    # #\n",
    "    plt.subplot(111)\n",
    "    plt.title('entr_k / kontr')\n",
    "    plt.plot([c.intens_p_en_k for c in itog_mas1], [c.intens_p_kontr for c in itog_mas1] , 'r^')\n",
    "    plt.plot([c.intens_p_en_k for c in itog_mas0], [c.intens_p_kontr for c in itog_mas0] , 'b*')\n",
    "\n",
    "    # plt.plot(fff(a1, a2, mean_length)[11], fff(a1, a2, mean_length)[10], 'r^')\n",
    "    plt.xlabel('entr_K')\n",
    "    plt.ylabel('kontr')\n",
    "    plt.show()\n",
    "    # #\n",
    "    # #ассим \\ экс\n",
    "    # #\n",
    "    plt.subplot(111)\n",
    "    plt.title('k_assim*2 / k_eks')\n",
    "    plt.plot( [c.intens_p_k_assim**2 for c in itog_mas1], [c.intens_p_k_eks for c in itog_mas1], 'r^')\n",
    "    plt.plot( [c.intens_p_k_assim**2 for c in itog_mas0], [c.intens_p_k_eks for c in itog_mas0], 'b*')\n",
    "\n",
    "    # plt.plot([k**2 for k in fff(a1, a2, mean_length)[8]], fff(a1, a2, mean_length)[9], 'r^')\n",
    "    plt.xlabel('k_assim**2')\n",
    "    plt.ylabel('k_eks')\n",
    "    plt.show()\n",
    "    # #\n",
    "    # #kont/entr\n",
    "    # #\n",
    "\n",
    "    plt.subplot(111)\n",
    "    plt.title('kontr / entr_k')\n",
    "    plt.xlabel('kontr')\n",
    "    plt.ylabel('entr_k')\n",
    "    plt.plot([c.intens_p_kontr for c in itog_mas1], [c.intens_p_en_k for c in itog_mas1] , 'r^')\n",
    "    plt.plot([c.intens_p_kontr for c in itog_mas0], [c.intens_p_en_k for c in itog_mas0] , 'b*')\n",
    "\n",
    "    # plt.plot(fff(a1, a2, mean_length)[10], fff(a1, a2, mean_length)[11], 'r^')\n",
    "    plt.show()\n",
    "    # #\n",
    "    import plotly.graph_objs as go\n",
    "    import plotly\n",
    "    fig1 = go.Scatter3d(x=[c.intens_p_en_k for c in itog_mas0], y=[c.intens_p_k_assim for c in itog_mas0],\\\n",
    "                        z=[c.intens_p_kontr for c in itog_mas0],\\\n",
    "                        marker=dict(opacity=0.9, reversescale=True,size=5),\\\n",
    "                        line=dict(width=0.2), mode='markers')\n",
    "    fig2 = go.Scatter3d(x=[c.intens_p_en_k for c in itog_mas1], y=[c.intens_p_k_assim for c in itog_mas1],\\\n",
    "                        z=[c.intens_p_kontr for c in itog_mas1],\\\n",
    "                        marker=dict(opacity=0.9, reversescale=True,size=5),\\\n",
    "                        line=dict(width=0.2), mode='markers')\n",
    "    mylayout = go.Layout(scene=dict(xaxis=dict( title=\"entr_k\"),\n",
    "                                    yaxis=dict( title=\"k_assim\"),\n",
    "                                    zaxis=dict(title=\"kontr\")),)\n",
    "\n",
    "    #Plot and save html\n",
    "    plotly.offline.plot({\"data\": [fig1, fig2],\n",
    "                         \"layout\": mylayout},\n",
    "                         auto_open=False,\n",
    "                         filename=(\"3DPlot.html\"))\n",
    "\n",
    "\n",
    "\n",
    "# button11.on_click(on_button_clicked11) # Назначаем этот обработчик на событие \"on_click\"\n",
    "\n",
    "# display(button11) "
   ]
  },
  {
   "cell_type": "code",
   "execution_count": 19,
   "id": "wanted-marking",
   "metadata": {},
   "outputs": [
    {
     "name": "stdout",
     "output_type": "stream",
     "text": [
      "ГРАФИКИ ДЛЯ ИНТЕНСИВНОСТИ БИТ\n"
     ]
    }
   ],
   "source": [
    "print ('ГРАФИКИ ДЛЯ ИНТЕНСИВНОСТИ БИТ')\n",
    "button12 = Button(description=\"Графики для интенсивности бит\", button_style='success', layout=Layout(width='50%', height='80px'))\n",
    "\n",
    "def on_button_clicked12(b):\n",
    "    #ассиметрия\n",
    "    plt.subplot(111)\n",
    "    plt.bar(NUM1, [c.intens_bit_k_assim for c in itog_mas1], color='r')\n",
    "    plt.bar(NUM0, [c.intens_bit_k_assim for c in itog_mas0])\n",
    "\n",
    "    plt.axis([0, len(NUM0) + len(NUM1), -0.00005, 0.00005])\n",
    "    plt.xlabel('Отсчет')\n",
    "    plt.ylabel('ss')\n",
    "    plt.title('Ассиметрия')\n",
    "    plt.minorticks_on()\n",
    "    plt.grid()\n",
    "    plt.show()\n",
    "    # #\n",
    "    #эксцесс\n",
    "    # print(k_ek_ln)\n",
    "    plt.subplot(111)\n",
    "    plt.bar(NUM1, [c.intens_bit_k_eks for c in itog_mas1], color='r')\n",
    "    plt.bar(NUM0, [c.intens_bit_k_eks for c in itog_mas0])\n",
    "\n",
    "    # plt.bar(fff(a1, a2, mean_length)[13], fff(a1, a2, mean_length)[9], color='r')\n",
    "    plt.xlabel('Отсчет')\n",
    "    plt.ylabel('ss')\n",
    "    plt.title('Эксцесса')\n",
    "    plt.minorticks_on()\n",
    "    plt.grid()\n",
    "    plt.show()\n",
    "    #\n",
    "    # #контрэксцесс\n",
    "    # #\n",
    "    plt.subplot(111)\n",
    "    plt.bar(NUM1, [c.intens_bit_kontr for c in itog_mas1], color='r')\n",
    "    plt.bar(NUM0, [c.intens_bit_kontr for c in itog_mas0])\n",
    "\n",
    "    # plt.bar(fff(a1, a2, mean_length)[13], fff(a1, a2, mean_length)[10], color='r')\n",
    "    plt.xlabel('Отсчет')\n",
    "    plt.ylabel('ss')\n",
    "    plt.title('Контр Эксцесс')\n",
    "    plt.minorticks_on()\n",
    "    plt.grid()\n",
    "    plt.show()\n",
    "    # #\n",
    "    # #энтропийный коэф\n",
    "    # #\n",
    "    plt.subplot(111)\n",
    "    plt.bar(NUM1, [c.intens_bit_en_k for c in itog_mas1], color='r')\n",
    "    plt.bar(NUM0, [c.intens_bit_en_k for c in itog_mas0])\n",
    "\n",
    "    # plt.bar(fff(a1, a2, mean_length)[13], fff(a1, a2, mean_length)[11], color='r')\n",
    "    # plt.axis([0, len(range(len(k))), 0, 0.8])\n",
    "    plt.xlabel('Отсчет')\n",
    "    plt.ylabel('ss')\n",
    "    plt.title('Энтропийный коэф')\n",
    "    plt.minorticks_on()\n",
    "    plt.grid()\n",
    "    plt.show()\n",
    "    # #\n",
    "    # #энтр коэф \\ контр\n",
    "    # #\n",
    "    plt.subplot(111)\n",
    "    plt.title('entr_k / kontr')\n",
    "    plt.plot([c.intens_bit_en_k for c in itog_mas1], [c.intens_bit_kontr for c in itog_mas1] , 'r^')\n",
    "    plt.plot([c.intens_bit_en_k for c in itog_mas0], [c.intens_bit_kontr for c in itog_mas0] , 'b*')\n",
    "\n",
    "    # plt.plot(fff(a1, a2, mean_length)[11], fff(a1, a2, mean_length)[10], 'r^')\n",
    "    plt.xlabel('entr_K')\n",
    "    plt.ylabel('kontr')\n",
    "    plt.show()\n",
    "    # #\n",
    "    # #ассим \\ экс\n",
    "    # #\n",
    "    plt.subplot(111)\n",
    "    plt.title('k_assim*2 / k_eks')\n",
    "    plt.plot( [c.intens_bit_k_assim**2 for c in itog_mas1], [c.intens_bit_k_eks for c in itog_mas1], 'r^')\n",
    "    plt.plot( [c.intens_bit_k_assim**2 for c in itog_mas0], [c.intens_bit_k_eks for c in itog_mas0], 'b*')\n",
    "\n",
    "    # plt.plot([k**2 for k in fff(a1, a2, mean_length)[8]], fff(a1, a2, mean_length)[9], 'r^')\n",
    "    plt.xlabel('k_assim**2')\n",
    "    plt.ylabel('k_eks')\n",
    "    plt.show()\n",
    "    # #\n",
    "    # #kont/entr\n",
    "    # #\n",
    "\n",
    "    plt.subplot(111)\n",
    "    plt.title('kontr / entr_k')\n",
    "    plt.xlabel('kontr')\n",
    "    plt.ylabel('entr_k')\n",
    "    plt.plot([c.intens_bit_kontr for c in itog_mas1], [c.intens_bit_en_k for c in itog_mas1] , 'r^')\n",
    "    plt.plot([c.intens_bit_kontr for c in itog_mas0], [c.intens_bit_en_k for c in itog_mas0] , 'b*')\n",
    "\n",
    "    # plt.plot(fff(a1, a2, mean_length)[10], fff(a1, a2, mean_length)[11], 'r^')\n",
    "    plt.show()\n",
    "    # #\n",
    "    import plotly.graph_objs as go\n",
    "    import plotly\n",
    "    fig1 = go.Scatter3d(x=[c.intens_bit_en_k for c in itog_mas0], y=[c.intens_bit_k_assim for c in itog_mas0],\\\n",
    "                        z=[c.intens_bit_kontr for c in itog_mas0],\\\n",
    "                        marker=dict(opacity=0.9, reversescale=True,size=5),\\\n",
    "                        line=dict(width=0.2), mode='markers')\n",
    "    fig2 = go.Scatter3d(x=[c.intens_bit_en_k for c in itog_mas1], y=[c.intens_bit_k_assim for c in itog_mas1],\\\n",
    "                        z=[c.intens_bit_kontr for c in itog_mas1],\\\n",
    "                        marker=dict(opacity=0.9, reversescale=True,size=5),\\\n",
    "                        line=dict(width=0.2), mode='markers')\n",
    "    mylayout = go.Layout(scene=dict(xaxis=dict( title=\"entr_k\"),\n",
    "                                    yaxis=dict( title=\"k_assim\"),\n",
    "                                    zaxis=dict(title=\"kontr\")),)\n",
    "\n",
    "    #Plot and save html\n",
    "    plotly.offline.plot({\"data\": [fig1, fig2],\n",
    "                         \"layout\": mylayout},\n",
    "                         auto_open=True,\n",
    "                         filename=(\"3DPlot.html\"))\n",
    "\n",
    "\n",
    "\n",
    "# button12.on_click(on_button_clicked12) # Назначаем этот обработчик на событие \"on_click\"\n",
    "\n",
    "# display(button12) \n"
   ]
  },
  {
   "cell_type": "code",
   "execution_count": 43,
   "id": "cardiovascular-breed",
   "metadata": {},
   "outputs": [],
   "source": [
    "###  создание pycaret данных\n",
    "\n",
    "button13 = Button(description='Использование pycaret', button_style='success',\n",
    "           layout=Layout(width='50%', height='80px'))\n",
    "def on_button_clicked13(b):\n",
    "    try: \n",
    "        global dataset\n",
    "\n",
    "        # dff = pd.read_csv('last.csv')\n",
    "        dataset = dff\n",
    "        dataset = shuffle(dataset)\n",
    "            # print(dataset)\n",
    "\n",
    "            # print(dataset.shape)\n",
    "        data = dataset.sample(frac=0.6, random_state=1234567)\n",
    "        data_unseen = dataset.drop(data.index)\n",
    "\n",
    "        data.reset_index(drop=True, inplace=True)\n",
    "        data_unseen.reset_index(drop=True, inplace=True)\n",
    "\n",
    "        print('Data for Modeling: ' + str(data.shape))\n",
    "        print('Unseen Data For Predictions: ' + str(data_unseen.shape))\n",
    "        exp1 = setup(dff, target=\"classif\")\n",
    "        compare_models(fold=4)\n",
    "    except:\n",
    "        compare_models(fold=4)\n",
    "  \n",
    "# button13.on_click(on_button_clicked13) # Назначаем этот обработчик на событие \"on_click\"\n",
    "\n",
    "# display(button13)   "
   ]
  },
  {
   "cell_type": "code",
   "execution_count": null,
   "id": "strange-allah",
   "metadata": {},
   "outputs": [],
   "source": []
  },
  {
   "cell_type": "code",
   "execution_count": 21,
   "id": "optional-endorsement",
   "metadata": {},
   "outputs": [],
   "source": [
    "### ИСпользование опорных векторов\n",
    "button14 = Button(description=\"Использование методов SVM\", \n",
    "                        button_style='success', layout=Layout(width='50%', height='80px'))\n",
    "def on_button_clicked14(b):\n",
    "    svm1 = create_model('svm', fold=7)\n",
    "    svm1 = tune_model(svm1)\n",
    "    # bagged_svm1 = ensemble_model(svm1)\n",
    "    print(svm1)\n",
    "    evaluate_model(svm1)\n",
    "    svm_pred = predict_model(svm1)"
   ]
  },
  {
   "cell_type": "code",
   "execution_count": 22,
   "id": "passive-digit",
   "metadata": {},
   "outputs": [],
   "source": [
    "### ИСпользование случайного леса\n",
    "button15 = Button(description=\"Использование методов RF\", \n",
    "                        button_style='success', layout=Layout(width='50%', height='80px'))\n",
    "def on_button_clicked15(b):\n",
    "    rf = create_model('rf', cross_validation=True)\n",
    "    rf = tune_model(rf)\n",
    "    bagged_rf = ensemble_model(rf)\n",
    "    # print(bagged_rf)\n",
    "    evaluate_model(rf)\n",
    "    rf_pred = predict_model(rf)"
   ]
  },
  {
   "cell_type": "code",
   "execution_count": 23,
   "id": "acting-chrome",
   "metadata": {},
   "outputs": [],
   "source": [
    "### ИСпользование случайного леса\n",
    "button16 = Button(description=\"Использование методов KNN\", \n",
    "                        button_style='success', layout=Layout(width='50%', height='80px'))\n",
    "def on_button_clicked16(b):\n",
    "    knn = create_model('knn',fold=5)\n",
    "    knn = tune_model(knn)\n",
    "    bagged_knn = ensemble_model(knn)\n",
    "    print(knn)\n",
    "    evaluate_model(knn)\n",
    "    knn_pred = predict_model(knn)"
   ]
  },
  {
   "cell_type": "code",
   "execution_count": 24,
   "id": "black-section",
   "metadata": {},
   "outputs": [],
   "source": [
    "### ИСпользование случайного леса\n",
    "button17 = Button(description=\"Использование методов DT\", \n",
    "                        button_style='success', layout=Layout(width='50%', height='80px'))\n",
    "def on_button_clicked17(b):\n",
    "    td = create_model('dt')\n",
    "    td = tune_model(td)\n",
    "    bagged_td = ensemble_model(td)\n",
    "    print(td)\n",
    "    evaluate_model(td)\n",
    "    td_pred = predict_model(td)"
   ]
  },
  {
   "cell_type": "code",
   "execution_count": 25,
   "id": "powerful-camcorder",
   "metadata": {},
   "outputs": [],
   "source": [
    "# import seaborn as sns\n",
    "# mas = input('vvedite_nazv_mas: ')\n",
    "# assim = mas + '_k_assim'\n",
    "# eks = mas +'_k_eks'\n",
    "# kontr = mas +'_kontr'\n",
    "# en_k = mas + '_en_k'\n",
    "# cols = [assim, eks, kontr, en_k, 'classif']\n",
    "# # cols = ['mean_ln_k_assim', 'mean_ln_en_k', 'unique_port_k_assim', 'unique_port_en_k','classif']\n",
    "# sns_plot = sns.pairplot(dff[cols], hue='classif')\n",
    "# # sns_plot.savefig('./dns/agr2_step2/agr4_step1/pairplot_unique_port.png')"
   ]
  },
  {
   "cell_type": "code",
   "execution_count": null,
   "id": "bored-future",
   "metadata": {},
   "outputs": [],
   "source": []
  },
  {
   "cell_type": "code",
   "execution_count": null,
   "id": "decent-weather",
   "metadata": {},
   "outputs": [],
   "source": []
  },
  {
   "cell_type": "code",
   "execution_count": null,
   "id": "crude-playing",
   "metadata": {},
   "outputs": [],
   "source": []
  },
  {
   "cell_type": "code",
   "execution_count": null,
   "id": "cardiovascular-burner",
   "metadata": {},
   "outputs": [],
   "source": []
  },
  {
   "cell_type": "code",
   "execution_count": null,
   "id": "strategic-cornwall",
   "metadata": {},
   "outputs": [],
   "source": []
  },
  {
   "cell_type": "code",
   "execution_count": null,
   "id": "stylish-respect",
   "metadata": {},
   "outputs": [],
   "source": []
  },
  {
   "cell_type": "code",
   "execution_count": null,
   "id": "affecting-pavilion",
   "metadata": {},
   "outputs": [],
   "source": []
  },
  {
   "cell_type": "code",
   "execution_count": null,
   "id": "olympic-carrier",
   "metadata": {},
   "outputs": [],
   "source": []
  },
  {
   "cell_type": "code",
   "execution_count": null,
   "id": "prescription-tobacco",
   "metadata": {},
   "outputs": [],
   "source": []
  },
  {
   "cell_type": "code",
   "execution_count": null,
   "id": "occasional-selection",
   "metadata": {},
   "outputs": [],
   "source": []
  },
  {
   "cell_type": "code",
   "execution_count": null,
   "id": "painful-facing",
   "metadata": {},
   "outputs": [],
   "source": []
  },
  {
   "cell_type": "markdown",
   "id": "advanced-cleaners",
   "metadata": {},
   "source": [
    "# ЗАГРУЗКА ИСХОДНЫХ ДАННЫХ"
   ]
  },
  {
   "cell_type": "code",
   "execution_count": 65,
   "id": "dried-concentrate",
   "metadata": {},
   "outputs": [
    {
     "data": {
      "application/vnd.jupyter.widget-view+json": {
       "model_id": "532452d82b874373977587003dc8b2b9",
       "version_major": 2,
       "version_minor": 0
      },
      "text/plain": [
       "Button(button_style='success', description='Загрузка исходных данных', layout=Layout(height='80px', width='50%…"
      ]
     },
     "metadata": {},
     "output_type": "display_data"
    },
    {
     "name": "stdout",
     "output_type": "stream",
     "text": [
      "ЗАГРУЗКА ИСХОДНЫХ ДАННЫХ\n"
     ]
    },
    {
     "data": {
      "application/vnd.jupyter.widget-view+json": {
       "model_id": "ead7d073e33c4c0d8ad4b3a67b5c7d82",
       "version_major": 2,
       "version_minor": 0
      },
      "text/plain": [
       "IntProgress(value=0, max=860789)"
      ]
     },
     "metadata": {},
     "output_type": "display_data"
    },
    {
     "name": "stdout",
     "output_type": "stream",
     "text": [
      "____________________________________________________________________\n",
      "ЗАГРУЗКА ЗАВЕРШЕНА\n",
      "b'/home/oem/PycharmProjects/converter/csv/norm+dns2tcptunnel.csv' содержит 860789 записей\n",
      "Все данные загружены в массив объектов класса array_object_of_packet\n",
      "____________________________________________________________________\n"
     ]
    }
   ],
   "source": [
    "button1.on_click(on_button_clicked) \n",
    "display(button1)"
   ]
  },
  {
   "cell_type": "markdown",
   "id": "competitive-resident",
   "metadata": {},
   "source": [
    "# АГРЕГИРОВАНИЕ ИСХОДНЫХ ДАННЫХ И ЗАПИСЬ ДАННЫХ В МАССИВ"
   ]
  },
  {
   "cell_type": "code",
   "execution_count": 66,
   "id": "unlikely-practice",
   "metadata": {
    "scrolled": false
   },
   "outputs": [
    {
     "data": {
      "application/vnd.jupyter.widget-view+json": {
       "model_id": "edbdfbe0df244915aa3ea37f3c76dd31",
       "version_major": 2,
       "version_minor": 0
      },
      "text/plain": [
       "FloatSlider(value=0.9, continuous_update=False, description='Параметр:', max=6.0, min=0.1)"
      ]
     },
     "metadata": {},
     "output_type": "display_data"
    },
    {
     "data": {
      "application/vnd.jupyter.widget-view+json": {
       "model_id": "f780a70be1e04b3eadfdc3d72c2cec75",
       "version_major": 2,
       "version_minor": 0
      },
      "text/plain": [
       "Button(button_style='info', description='Агрегирование исходных данных', layout=Layout(height='80px', width='5…"
      ]
     },
     "metadata": {},
     "output_type": "display_data"
    },
    {
     "data": {
      "application/vnd.jupyter.widget-view+json": {
       "model_id": "a680ba99dd2146ab836c3a34e9aa6d82",
       "version_major": 2,
       "version_minor": 0
      },
      "text/plain": [
       "Button(button_style='success', description='Запись данных в массив', layout=Layout(height='80px', width='50%')…"
      ]
     },
     "metadata": {},
     "output_type": "display_data"
    },
    {
     "name": "stdout",
     "output_type": "stream",
     "text": [
      "АГРЕГИРОВАНИЕ ИСХОДНЫХ ДАННЫХ\n"
     ]
    },
    {
     "data": {
      "application/vnd.jupyter.widget-view+json": {
       "model_id": "0b4446d0f9fd46c2932023687844a319",
       "version_major": 2,
       "version_minor": 0
      },
      "text/plain": [
       "IntProgress(value=0, max=3263)"
      ]
     },
     "metadata": {},
     "output_type": "display_data"
    },
    {
     "name": "stdout",
     "output_type": "stream",
     "text": [
      "Loading:\n",
      "____________________________________________________________________\n",
      "АГРЕГИРОВАНИЕ ДАННЫХ ПРОШЛО УСПЕШНО\n",
      "Data -array_object_of_Packet- downloaded with\n",
      "Window agregation = 1.5 and step = 1.5\n",
      "3806964\n",
      "____________________________________________________________________\n"
     ]
    },
    {
     "name": "stderr",
     "output_type": "stream",
     "text": [
      "100%|██████████| 2173/2173 [00:02<00:00, 750.95it/s]"
     ]
    },
    {
     "name": "stdout",
     "output_type": "stream",
     "text": [
      "2173\n",
      "2124 2124\n",
      "49 49\n",
      "____________________________________________________________________\n",
      " ДАННЫЕ ЗАПИСАНЫ В МАССИВ first_wind.csv\n",
      "____________________________________________________________________\n"
     ]
    },
    {
     "name": "stderr",
     "output_type": "stream",
     "text": [
      "\n"
     ]
    }
   ],
   "source": [
    "fSlider.observe(on_value_change, names='value')\n",
    "display(fSlider)\n",
    "button2.on_click(on_button_clicked2)\n",
    "display(button2)\n",
    "button3.on_click(on_button_clicked3) \n",
    "display(button3)"
   ]
  },
  {
   "cell_type": "markdown",
   "id": "spectacular-taste",
   "metadata": {},
   "source": [
    "# ПОСТРОЕНИЕ ГРАФИКОВ"
   ]
  },
  {
   "cell_type": "code",
   "execution_count": 67,
   "id": "complete-logic",
   "metadata": {},
   "outputs": [
    {
     "data": {
      "application/vnd.jupyter.widget-view+json": {
       "model_id": "8904fab36a83462390790affbb596032",
       "version_major": 2,
       "version_minor": 0
      },
      "text/plain": [
       "RadioButtons(description='Параметр:', index=7, options=(('mean_ln', 1), ('min_ln', 2), ('max_ln', 3), ('intens…"
      ]
     },
     "metadata": {},
     "output_type": "display_data"
    },
    {
     "data": {
      "image/png": "[encoded data removed]",
      "text/plain": [
       "<Figure size 576x396 with 1 Axes>"
      ]
     },
     "metadata": {},
     "output_type": "display_data"
    },
    {
     "data": {
      "image/png": "[encoded data removed]",
      "text/plain": [
       "<Figure size 576x396 with 1 Axes>"
      ]
     },
     "metadata": {},
     "output_type": "display_data"
    },
    {
     "data": {
      "image/png": "[encoded data removed]",
      "text/plain": [
       "<Figure size 576x396 with 1 Axes>"
      ]
     },
     "metadata": {},
     "output_type": "display_data"
    }
   ],
   "source": [
    "rButtons2.observe(on_button_clicked4, names='value')\n",
    "display(rButtons2)"
   ]
  },
  {
   "cell_type": "markdown",
   "id": "conventional-limitation",
   "metadata": {},
   "source": [
    "# МЕТОД СКОЛЬЗЯЩЕГО ВРЕМЕННОГО ОКНА"
   ]
  },
  {
   "cell_type": "code",
   "execution_count": 68,
   "id": "eleven-arbor",
   "metadata": {},
   "outputs": [
    {
     "data": {
      "application/vnd.jupyter.widget-view+json": {
       "model_id": "865506d5f66e4a2cbbfc52a942e2c78b",
       "version_major": 2,
       "version_minor": 0
      },
      "text/plain": [
       "FloatSlider(value=4.0, continuous_update=False, description='Window:', max=10.0, min=1.0, step=1.0)"
      ]
     },
     "metadata": {},
     "output_type": "display_data"
    },
    {
     "data": {
      "application/vnd.jupyter.widget-view+json": {
       "model_id": "c2a385ed56aa44e59d27f57993e09e90",
       "version_major": 2,
       "version_minor": 0
      },
      "text/plain": [
       "FloatSlider(value=2.0, continuous_update=False, description='Step:', max=4.0, min=1.0, step=1.0)"
      ]
     },
     "metadata": {},
     "output_type": "display_data"
    },
    {
     "data": {
      "application/vnd.jupyter.widget-view+json": {
       "model_id": "f95514d258b642bd818a6a4039f384ea",
       "version_major": 2,
       "version_minor": 0
      },
      "text/plain": [
       "Button(button_style='success', description='Обработка данных методом скользящего временного окна', layout=Layo…"
      ]
     },
     "metadata": {},
     "output_type": "display_data"
    },
    {
     "data": {
      "application/vnd.jupyter.widget-view+json": {
       "model_id": "343161df55ab449db17e9fd95b4d3266",
       "version_major": 2,
       "version_minor": 0
      },
      "text/plain": [
       "IntProgress(value=0, max=2173)"
      ]
     },
     "metadata": {},
     "output_type": "display_data"
    },
    {
     "name": "stdout",
     "output_type": "stream",
     "text": [
      "csv created\n",
      "интервал = 5.0\n",
      "шаг = 2.0\n",
      "Объектов с классом 0 : 1063\n",
      "Объектов с классом 1 : 22\n",
      "____________________________________________________________________\n"
     ]
    }
   ],
   "source": [
    "fSlider1.observe(on_value_change, names='value')\n",
    "display(fSlider1)\n",
    "fSlider2.observe(on_value_change, names='value')\n",
    "display(fSlider2)\n",
    "button4.on_click(on_button_clicked5) \n",
    "display(button4)"
   ]
  },
  {
   "cell_type": "markdown",
   "id": "educated-weekly",
   "metadata": {},
   "source": [
    "# ГРАФИКИ ДЛЯ СРЕДНЕЙ ДЛИНЫ ПАКЕТА"
   ]
  },
  {
   "cell_type": "code",
   "execution_count": 69,
   "id": "saved-designation",
   "metadata": {},
   "outputs": [
    {
     "data": {
      "application/vnd.jupyter.widget-view+json": {
       "model_id": "3ddc612b023446c99e900ecc4b64a733",
       "version_major": 2,
       "version_minor": 0
      },
      "text/plain": [
       "Button(button_style='success', description='Графики для средней длины пакета', layout=Layout(height='80px', wi…"
      ]
     },
     "metadata": {},
     "output_type": "display_data"
    },
    {
     "data": {
      "image/png": "[encoded data removed]",
      "text/plain": [
       "<Figure size 576x396 with 1 Axes>"
      ]
     },
     "metadata": {},
     "output_type": "display_data"
    },
    {
     "data": {
      "image/png": "[encoded data removed]",
      "text/plain": [
       "<Figure size 576x396 with 1 Axes>"
      ]
     },
     "metadata": {},
     "output_type": "display_data"
    },
    {
     "data": {
      "image/png": "[encoded data removed]",
      "text/plain": [
       "<Figure size 576x396 with 1 Axes>"
      ]
     },
     "metadata": {},
     "output_type": "display_data"
    },
    {
     "data": {
      "image/png": "[encoded data removed]",
      "text/plain": [
       "<Figure size 576x396 with 1 Axes>"
      ]
     },
     "metadata": {},
     "output_type": "display_data"
    },
    {
     "data": {
      "image/png": "[encoded data removed]",
      "text/plain": [
       "<Figure size 576x396 with 1 Axes>"
      ]
     },
     "metadata": {},
     "output_type": "display_data"
    },
    {
     "data": {
      "image/png": "[encoded data removed]",
      "text/plain": [
       "<Figure size 576x396 with 1 Axes>"
      ]
     },
     "metadata": {},
     "output_type": "display_data"
    },
    {
     "data": {
      "image/png": "[encoded data removed]",
      "text/plain": [
       "<Figure size 576x396 with 1 Axes>"
      ]
     },
     "metadata": {},
     "output_type": "display_data"
    }
   ],
   "source": [
    "button6.on_click(on_button_clicked6) \n",
    "display(button6) "
   ]
  },
  {
   "cell_type": "markdown",
   "id": "subject-morgan",
   "metadata": {},
   "source": [
    "# ГРАФИКИ ДЛЯ МАКСИМАЛЬНОЙ ДЛИНЫ ПАКЕТА"
   ]
  },
  {
   "cell_type": "code",
   "execution_count": 70,
   "id": "small-reservation",
   "metadata": {},
   "outputs": [
    {
     "data": {
      "application/vnd.jupyter.widget-view+json": {
       "model_id": "998e0ab71801471c8bcdb5bf853503c3",
       "version_major": 2,
       "version_minor": 0
      },
      "text/plain": [
       "Button(button_style='success', description='Графики для максимальной длины пакета', layout=Layout(height='80px…"
      ]
     },
     "metadata": {},
     "output_type": "display_data"
    }
   ],
   "source": [
    "button7.on_click(on_button_clicked7) \n",
    "display(button7) "
   ]
  },
  {
   "cell_type": "markdown",
   "id": "excited-diabetes",
   "metadata": {},
   "source": [
    "# ГРАФИКИ ДЛЯ МИНИМАЛЬНОЙ ДЛИНЫ ПАКЕТА"
   ]
  },
  {
   "cell_type": "code",
   "execution_count": 71,
   "id": "mobile-producer",
   "metadata": {},
   "outputs": [
    {
     "data": {
      "application/vnd.jupyter.widget-view+json": {
       "model_id": "76088cb90ea0444ab5dbf4c68b4942fc",
       "version_major": 2,
       "version_minor": 0
      },
      "text/plain": [
       "Button(button_style='success', description='Графики для минимальной длины пакета', layout=Layout(height='80px'…"
      ]
     },
     "metadata": {},
     "output_type": "display_data"
    }
   ],
   "source": [
    "button8.on_click(on_button_clicked8) \n",
    "display(button8)"
   ]
  },
  {
   "cell_type": "markdown",
   "id": "unauthorized-hobby",
   "metadata": {},
   "source": [
    "# ГРАФИКИ ДЛЯ УНИКАЛЬНЫХ АДРЕСОВ IP ПАКЕТА"
   ]
  },
  {
   "cell_type": "code",
   "execution_count": 72,
   "id": "ideal-regard",
   "metadata": {},
   "outputs": [
    {
     "data": {
      "application/vnd.jupyter.widget-view+json": {
       "model_id": "19022fccc0b94fdb87c0f92ecafe76a9",
       "version_major": 2,
       "version_minor": 0
      },
      "text/plain": [
       "Button(button_style='success', description='Графики для уникальных адресов ip пакета', layout=Layout(height='8…"
      ]
     },
     "metadata": {},
     "output_type": "display_data"
    }
   ],
   "source": [
    "button9.on_click(on_button_clicked9) \n",
    "display(button9) "
   ]
  },
  {
   "cell_type": "markdown",
   "id": "saving-paper",
   "metadata": {},
   "source": [
    "# ГРАФИКИ ДЛЯ УНИКАЛЬНЫХ ПОРТОВ IP ПАКЕТА"
   ]
  },
  {
   "cell_type": "code",
   "execution_count": 73,
   "id": "spare-subject",
   "metadata": {},
   "outputs": [
    {
     "data": {
      "application/vnd.jupyter.widget-view+json": {
       "model_id": "6589ad7388d846e49588388bad6b40e9",
       "version_major": 2,
       "version_minor": 0
      },
      "text/plain": [
       "Button(button_style='success', description='Графики для уникальных портов ip пакета', layout=Layout(height='80…"
      ]
     },
     "metadata": {},
     "output_type": "display_data"
    },
    {
     "data": {
      "image/png": "[encoded data removed]",
      "text/plain": [
       "<Figure size 576x396 with 1 Axes>"
      ]
     },
     "metadata": {},
     "output_type": "display_data"
    },
    {
     "data": {
      "image/png": "[encoded data removed]",
      "text/plain": [
       "<Figure size 576x396 with 1 Axes>"
      ]
     },
     "metadata": {},
     "output_type": "display_data"
    },
    {
     "data": {
      "image/png": "[encoded data removed]",
      "text/plain": [
       "<Figure size 576x396 with 1 Axes>"
      ]
     },
     "metadata": {},
     "output_type": "display_data"
    },
    {
     "data": {
      "image/png": "[encoded data removed]",
      "text/plain": [
       "<Figure size 576x396 with 1 Axes>"
      ]
     },
     "metadata": {},
     "output_type": "display_data"
    },
    {
     "data": {
      "image/png": "[encoded data removed]",
      "text/plain": [
       "<Figure size 576x396 with 1 Axes>"
      ]
     },
     "metadata": {},
     "output_type": "display_data"
    },
    {
     "data": {
      "image/png": "[encoded data removed]",
      "text/plain": [
       "<Figure size 576x396 with 1 Axes>"
      ]
     },
     "metadata": {},
     "output_type": "display_data"
    },
    {
     "data": {
      "image/png": "[encoded data removed]",
      "text/plain": [
       "<Figure size 576x396 with 1 Axes>"
      ]
     },
     "metadata": {},
     "output_type": "display_data"
    }
   ],
   "source": [
    "button10.on_click(on_button_clicked10) \n",
    "display(button10) "
   ]
  },
  {
   "cell_type": "markdown",
   "id": "funny-clark",
   "metadata": {},
   "source": [
    "# ГРАФИКИ ДЛЯ ИНТЕНСИВНОСТИ ПАКЕТОВ"
   ]
  },
  {
   "cell_type": "code",
   "execution_count": 74,
   "id": "freelance-panic",
   "metadata": {},
   "outputs": [
    {
     "data": {
      "application/vnd.jupyter.widget-view+json": {
       "model_id": "d451daef1a314675a016901634f2f311",
       "version_major": 2,
       "version_minor": 0
      },
      "text/plain": [
       "Button(button_style='success', description='Графики для интенсивности пакетов', layout=Layout(height='80px', w…"
      ]
     },
     "metadata": {},
     "output_type": "display_data"
    },
    {
     "data": {
      "image/png": "[encoded data removed]",
      "text/plain": [
       "<Figure size 576x396 with 1 Axes>"
      ]
     },
     "metadata": {},
     "output_type": "display_data"
    },
    {
     "data": {
      "image/png": "[encoded data removed]",
      "text/plain": [
       "<Figure size 576x396 with 1 Axes>"
      ]
     },
     "metadata": {},
     "output_type": "display_data"
    },
    {
     "data": {
      "image/png": "[encoded data removed]",
      "text/plain": [
       "<Figure size 576x396 with 1 Axes>"
      ]
     },
     "metadata": {},
     "output_type": "display_data"
    },
    {
     "data": {
      "image/png": "[encoded data removed]",
      "text/plain": [
       "<Figure size 576x396 with 1 Axes>"
      ]
     },
     "metadata": {},
     "output_type": "display_data"
    },
    {
     "data": {
      "image/png": "[encoded data removed]",
      "text/plain": [
       "<Figure size 576x396 with 1 Axes>"
      ]
     },
     "metadata": {},
     "output_type": "display_data"
    },
    {
     "data": {
      "image/png": "[encoded data removed]",
      "text/plain": [
       "<Figure size 576x396 with 1 Axes>"
      ]
     },
     "metadata": {},
     "output_type": "display_data"
    },
    {
     "data": {
      "image/png": "[encoded data removed]",
      "text/plain": [
       "<Figure size 576x396 with 1 Axes>"
      ]
     },
     "metadata": {},
     "output_type": "display_data"
    }
   ],
   "source": [
    "button11.on_click(on_button_clicked11) \n",
    "display(button11) "
   ]
  },
  {
   "cell_type": "markdown",
   "id": "english-wisdom",
   "metadata": {},
   "source": [
    "# ГРАФИКИ ДЛЯ ИНТЕНСИВНОСТИ БИТ"
   ]
  },
  {
   "cell_type": "code",
   "execution_count": 75,
   "id": "adapted-bottle",
   "metadata": {},
   "outputs": [
    {
     "data": {
      "application/vnd.jupyter.widget-view+json": {
       "model_id": "e35a2d442b2a4439a64bb9ffb2522bff",
       "version_major": 2,
       "version_minor": 0
      },
      "text/plain": [
       "Button(button_style='success', description='Графики для интенсивности бит', layout=Layout(height='80px', width…"
      ]
     },
     "metadata": {},
     "output_type": "display_data"
    }
   ],
   "source": [
    "button12.on_click(on_button_clicked12) \n",
    "display(button12) "
   ]
  },
  {
   "cell_type": "markdown",
   "id": "lesser-skill",
   "metadata": {},
   "source": [
    "# ИСПОЛЬЗОВАНИЕ PYCARET\n",
    "СРАВНЕНИЕ ВСЕХ МОДЕЛЕЙ\n"
   ]
  },
  {
   "cell_type": "code",
   "execution_count": 76,
   "id": "objective-dakota",
   "metadata": {},
   "outputs": [
    {
     "data": {
      "text/html": [
       "<style  type=\"text/css\" >\n",
       "    #T_60fcf_ th {\n",
       "          text-align: left;\n",
       "    }#T_60fcf_row0_col0,#T_60fcf_row1_col0,#T_60fcf_row2_col0,#T_60fcf_row3_col0,#T_60fcf_row4_col0,#T_60fcf_row4_col1,#T_60fcf_row4_col2,#T_60fcf_row4_col4,#T_60fcf_row4_col5,#T_60fcf_row4_col6,#T_60fcf_row4_col7,#T_60fcf_row5_col0,#T_60fcf_row5_col1,#T_60fcf_row5_col2,#T_60fcf_row5_col3,#T_60fcf_row5_col4,#T_60fcf_row5_col5,#T_60fcf_row5_col6,#T_60fcf_row5_col7,#T_60fcf_row6_col0,#T_60fcf_row6_col1,#T_60fcf_row6_col2,#T_60fcf_row6_col4,#T_60fcf_row6_col5,#T_60fcf_row6_col6,#T_60fcf_row6_col7,#T_60fcf_row7_col0,#T_60fcf_row7_col1,#T_60fcf_row7_col4,#T_60fcf_row7_col5,#T_60fcf_row7_col6,#T_60fcf_row7_col7,#T_60fcf_row8_col0,#T_60fcf_row8_col1,#T_60fcf_row8_col2,#T_60fcf_row8_col3,#T_60fcf_row8_col4,#T_60fcf_row8_col5,#T_60fcf_row8_col6,#T_60fcf_row8_col7,#T_60fcf_row9_col0,#T_60fcf_row9_col1,#T_60fcf_row9_col2,#T_60fcf_row9_col3,#T_60fcf_row9_col4,#T_60fcf_row9_col5,#T_60fcf_row9_col6,#T_60fcf_row9_col7,#T_60fcf_row10_col0,#T_60fcf_row10_col1,#T_60fcf_row10_col2,#T_60fcf_row10_col3,#T_60fcf_row10_col4,#T_60fcf_row10_col5,#T_60fcf_row10_col6,#T_60fcf_row10_col7,#T_60fcf_row11_col0,#T_60fcf_row11_col1,#T_60fcf_row11_col2,#T_60fcf_row11_col3,#T_60fcf_row11_col4,#T_60fcf_row11_col5,#T_60fcf_row11_col6,#T_60fcf_row11_col7,#T_60fcf_row12_col0,#T_60fcf_row12_col1,#T_60fcf_row12_col2,#T_60fcf_row12_col3,#T_60fcf_row12_col4,#T_60fcf_row12_col5,#T_60fcf_row12_col6,#T_60fcf_row12_col7{\n",
       "            text-align:  left;\n",
       "            text-align:  left;\n",
       "        }#T_60fcf_row0_col1,#T_60fcf_row0_col2,#T_60fcf_row0_col3,#T_60fcf_row0_col4,#T_60fcf_row0_col5,#T_60fcf_row0_col6,#T_60fcf_row0_col7,#T_60fcf_row1_col1,#T_60fcf_row1_col2,#T_60fcf_row1_col3,#T_60fcf_row1_col4,#T_60fcf_row1_col5,#T_60fcf_row1_col6,#T_60fcf_row1_col7,#T_60fcf_row2_col1,#T_60fcf_row2_col2,#T_60fcf_row2_col3,#T_60fcf_row2_col4,#T_60fcf_row2_col5,#T_60fcf_row2_col6,#T_60fcf_row2_col7,#T_60fcf_row3_col1,#T_60fcf_row3_col2,#T_60fcf_row3_col3,#T_60fcf_row3_col4,#T_60fcf_row3_col5,#T_60fcf_row3_col6,#T_60fcf_row3_col7,#T_60fcf_row4_col3,#T_60fcf_row6_col3,#T_60fcf_row7_col2,#T_60fcf_row7_col3{\n",
       "            text-align:  left;\n",
       "            text-align:  left;\n",
       "            background-color:  yellow;\n",
       "        }#T_60fcf_row0_col8,#T_60fcf_row1_col8,#T_60fcf_row2_col8,#T_60fcf_row3_col8,#T_60fcf_row4_col8,#T_60fcf_row5_col8,#T_60fcf_row6_col8,#T_60fcf_row7_col8,#T_60fcf_row8_col8,#T_60fcf_row9_col8,#T_60fcf_row10_col8,#T_60fcf_row12_col8{\n",
       "            text-align:  left;\n",
       "            text-align:  left;\n",
       "            background-color:  lightgrey;\n",
       "        }#T_60fcf_row11_col8{\n",
       "            text-align:  left;\n",
       "            text-align:  left;\n",
       "            background-color:  yellow;\n",
       "            background-color:  lightgrey;\n",
       "        }</style><table id=\"T_60fcf_\" ><thead>    <tr>        <th class=\"blank level0\" ></th>        <th class=\"col_heading level0 col0\" >Model</th>        <th class=\"col_heading level0 col1\" >Accuracy</th>        <th class=\"col_heading level0 col2\" >AUC</th>        <th class=\"col_heading level0 col3\" >Recall</th>        <th class=\"col_heading level0 col4\" >Prec.</th>        <th class=\"col_heading level0 col5\" >F1</th>        <th class=\"col_heading level0 col6\" >Kappa</th>        <th class=\"col_heading level0 col7\" >MCC</th>        <th class=\"col_heading level0 col8\" >TT (Sec)</th>    </tr></thead><tbody>\n",
       "                <tr>\n",
       "                        <th id=\"T_60fcf_level0_row0\" class=\"row_heading level0 row0\" >rf</th>\n",
       "                        <td id=\"T_60fcf_row0_col0\" class=\"data row0 col0\" >Random Forest Classifier</td>\n",
       "                        <td id=\"T_60fcf_row0_col1\" class=\"data row0 col1\" >1.0000</td>\n",
       "                        <td id=\"T_60fcf_row0_col2\" class=\"data row0 col2\" >1.0000</td>\n",
       "                        <td id=\"T_60fcf_row0_col3\" class=\"data row0 col3\" >1.0000</td>\n",
       "                        <td id=\"T_60fcf_row0_col4\" class=\"data row0 col4\" >1.0000</td>\n",
       "                        <td id=\"T_60fcf_row0_col5\" class=\"data row0 col5\" >1.0000</td>\n",
       "                        <td id=\"T_60fcf_row0_col6\" class=\"data row0 col6\" >1.0000</td>\n",
       "                        <td id=\"T_60fcf_row0_col7\" class=\"data row0 col7\" >1.0000</td>\n",
       "                        <td id=\"T_60fcf_row0_col8\" class=\"data row0 col8\" >0.0850</td>\n",
       "            </tr>\n",
       "            <tr>\n",
       "                        <th id=\"T_60fcf_level0_row1\" class=\"row_heading level0 row1\" >ada</th>\n",
       "                        <td id=\"T_60fcf_row1_col0\" class=\"data row1 col0\" >Ada Boost Classifier</td>\n",
       "                        <td id=\"T_60fcf_row1_col1\" class=\"data row1 col1\" >1.0000</td>\n",
       "                        <td id=\"T_60fcf_row1_col2\" class=\"data row1 col2\" >1.0000</td>\n",
       "                        <td id=\"T_60fcf_row1_col3\" class=\"data row1 col3\" >1.0000</td>\n",
       "                        <td id=\"T_60fcf_row1_col4\" class=\"data row1 col4\" >1.0000</td>\n",
       "                        <td id=\"T_60fcf_row1_col5\" class=\"data row1 col5\" >1.0000</td>\n",
       "                        <td id=\"T_60fcf_row1_col6\" class=\"data row1 col6\" >1.0000</td>\n",
       "                        <td id=\"T_60fcf_row1_col7\" class=\"data row1 col7\" >1.0000</td>\n",
       "                        <td id=\"T_60fcf_row1_col8\" class=\"data row1 col8\" >0.0600</td>\n",
       "            </tr>\n",
       "            <tr>\n",
       "                        <th id=\"T_60fcf_level0_row2\" class=\"row_heading level0 row2\" >gbc</th>\n",
       "                        <td id=\"T_60fcf_row2_col0\" class=\"data row2 col0\" >Gradient Boosting Classifier</td>\n",
       "                        <td id=\"T_60fcf_row2_col1\" class=\"data row2 col1\" >1.0000</td>\n",
       "                        <td id=\"T_60fcf_row2_col2\" class=\"data row2 col2\" >1.0000</td>\n",
       "                        <td id=\"T_60fcf_row2_col3\" class=\"data row2 col3\" >1.0000</td>\n",
       "                        <td id=\"T_60fcf_row2_col4\" class=\"data row2 col4\" >1.0000</td>\n",
       "                        <td id=\"T_60fcf_row2_col5\" class=\"data row2 col5\" >1.0000</td>\n",
       "                        <td id=\"T_60fcf_row2_col6\" class=\"data row2 col6\" >1.0000</td>\n",
       "                        <td id=\"T_60fcf_row2_col7\" class=\"data row2 col7\" >1.0000</td>\n",
       "                        <td id=\"T_60fcf_row2_col8\" class=\"data row2 col8\" >0.0625</td>\n",
       "            </tr>\n",
       "            <tr>\n",
       "                        <th id=\"T_60fcf_level0_row3\" class=\"row_heading level0 row3\" >et</th>\n",
       "                        <td id=\"T_60fcf_row3_col0\" class=\"data row3 col0\" >Extra Trees Classifier</td>\n",
       "                        <td id=\"T_60fcf_row3_col1\" class=\"data row3 col1\" >1.0000</td>\n",
       "                        <td id=\"T_60fcf_row3_col2\" class=\"data row3 col2\" >1.0000</td>\n",
       "                        <td id=\"T_60fcf_row3_col3\" class=\"data row3 col3\" >1.0000</td>\n",
       "                        <td id=\"T_60fcf_row3_col4\" class=\"data row3 col4\" >1.0000</td>\n",
       "                        <td id=\"T_60fcf_row3_col5\" class=\"data row3 col5\" >1.0000</td>\n",
       "                        <td id=\"T_60fcf_row3_col6\" class=\"data row3 col6\" >1.0000</td>\n",
       "                        <td id=\"T_60fcf_row3_col7\" class=\"data row3 col7\" >1.0000</td>\n",
       "                        <td id=\"T_60fcf_row3_col8\" class=\"data row3 col8\" >0.0725</td>\n",
       "            </tr>\n",
       "            <tr>\n",
       "                        <th id=\"T_60fcf_level0_row4\" class=\"row_heading level0 row4\" >dt</th>\n",
       "                        <td id=\"T_60fcf_row4_col0\" class=\"data row4 col0\" >Decision Tree Classifier</td>\n",
       "                        <td id=\"T_60fcf_row4_col1\" class=\"data row4 col1\" >0.9987</td>\n",
       "                        <td id=\"T_60fcf_row4_col2\" class=\"data row4 col2\" >0.9993</td>\n",
       "                        <td id=\"T_60fcf_row4_col3\" class=\"data row4 col3\" >1.0000</td>\n",
       "                        <td id=\"T_60fcf_row4_col4\" class=\"data row4 col4\" >0.9500</td>\n",
       "                        <td id=\"T_60fcf_row4_col5\" class=\"data row4 col5\" >0.9722</td>\n",
       "                        <td id=\"T_60fcf_row4_col6\" class=\"data row4 col6\" >0.9716</td>\n",
       "                        <td id=\"T_60fcf_row4_col7\" class=\"data row4 col7\" >0.9730</td>\n",
       "                        <td id=\"T_60fcf_row4_col8\" class=\"data row4 col8\" >0.0125</td>\n",
       "            </tr>\n",
       "            <tr>\n",
       "                        <th id=\"T_60fcf_level0_row5\" class=\"row_heading level0 row5\" >lightgbm</th>\n",
       "                        <td id=\"T_60fcf_row5_col0\" class=\"data row5 col0\" >Light Gradient Boosting Machine</td>\n",
       "                        <td id=\"T_60fcf_row5_col1\" class=\"data row5 col1\" >0.9960</td>\n",
       "                        <td id=\"T_60fcf_row5_col2\" class=\"data row5 col2\" >0.9997</td>\n",
       "                        <td id=\"T_60fcf_row5_col3\" class=\"data row5 col3\" >0.8750</td>\n",
       "                        <td id=\"T_60fcf_row5_col4\" class=\"data row5 col4\" >0.9500</td>\n",
       "                        <td id=\"T_60fcf_row5_col5\" class=\"data row5 col5\" >0.9008</td>\n",
       "                        <td id=\"T_60fcf_row5_col6\" class=\"data row5 col6\" >0.8988</td>\n",
       "                        <td id=\"T_60fcf_row5_col7\" class=\"data row5 col7\" >0.9049</td>\n",
       "                        <td id=\"T_60fcf_row5_col8\" class=\"data row5 col8\" >0.0500</td>\n",
       "            </tr>\n",
       "            <tr>\n",
       "                        <th id=\"T_60fcf_level0_row6\" class=\"row_heading level0 row6\" >lda</th>\n",
       "                        <td id=\"T_60fcf_row6_col0\" class=\"data row6 col0\" >Linear Discriminant Analysis</td>\n",
       "                        <td id=\"T_60fcf_row6_col1\" class=\"data row6 col1\" >0.9947</td>\n",
       "                        <td id=\"T_60fcf_row6_col2\" class=\"data row6 col2\" >0.9980</td>\n",
       "                        <td id=\"T_60fcf_row6_col3\" class=\"data row6 col3\" >1.0000</td>\n",
       "                        <td id=\"T_60fcf_row6_col4\" class=\"data row6 col4\" >0.8167</td>\n",
       "                        <td id=\"T_60fcf_row6_col5\" class=\"data row6 col5\" >0.8944</td>\n",
       "                        <td id=\"T_60fcf_row6_col6\" class=\"data row6 col6\" >0.8918</td>\n",
       "                        <td id=\"T_60fcf_row6_col7\" class=\"data row6 col7\" >0.8990</td>\n",
       "                        <td id=\"T_60fcf_row6_col8\" class=\"data row6 col8\" >0.0125</td>\n",
       "            </tr>\n",
       "            <tr>\n",
       "                        <th id=\"T_60fcf_level0_row7\" class=\"row_heading level0 row7\" >nb</th>\n",
       "                        <td id=\"T_60fcf_row7_col0\" class=\"data row7 col0\" >Naive Bayes</td>\n",
       "                        <td id=\"T_60fcf_row7_col1\" class=\"data row7 col1\" >0.9895</td>\n",
       "                        <td id=\"T_60fcf_row7_col2\" class=\"data row7 col2\" >1.0000</td>\n",
       "                        <td id=\"T_60fcf_row7_col3\" class=\"data row7 col3\" >1.0000</td>\n",
       "                        <td id=\"T_60fcf_row7_col4\" class=\"data row7 col4\" >0.7667</td>\n",
       "                        <td id=\"T_60fcf_row7_col5\" class=\"data row7 col5\" >0.8429</td>\n",
       "                        <td id=\"T_60fcf_row7_col6\" class=\"data row7 col6\" >0.8382</td>\n",
       "                        <td id=\"T_60fcf_row7_col7\" class=\"data row7 col7\" >0.8586</td>\n",
       "                        <td id=\"T_60fcf_row7_col8\" class=\"data row7 col8\" >0.0150</td>\n",
       "            </tr>\n",
       "            <tr>\n",
       "                        <th id=\"T_60fcf_level0_row8\" class=\"row_heading level0 row8\" >svm</th>\n",
       "                        <td id=\"T_60fcf_row8_col0\" class=\"data row8 col0\" >SVM - Linear Kernel</td>\n",
       "                        <td id=\"T_60fcf_row8_col1\" class=\"data row8 col1\" >0.9895</td>\n",
       "                        <td id=\"T_60fcf_row8_col2\" class=\"data row8 col2\" >0.0000</td>\n",
       "                        <td id=\"T_60fcf_row8_col3\" class=\"data row8 col3\" >0.5000</td>\n",
       "                        <td id=\"T_60fcf_row8_col4\" class=\"data row8 col4\" >0.7500</td>\n",
       "                        <td id=\"T_60fcf_row8_col5\" class=\"data row8 col5\" >0.5952</td>\n",
       "                        <td id=\"T_60fcf_row8_col6\" class=\"data row8 col6\" >0.5927</td>\n",
       "                        <td id=\"T_60fcf_row8_col7\" class=\"data row8 col7\" >0.6077</td>\n",
       "                        <td id=\"T_60fcf_row8_col8\" class=\"data row8 col8\" >0.0175</td>\n",
       "            </tr>\n",
       "            <tr>\n",
       "                        <th id=\"T_60fcf_level0_row9\" class=\"row_heading level0 row9\" >knn</th>\n",
       "                        <td id=\"T_60fcf_row9_col0\" class=\"data row9 col0\" >K Neighbors Classifier</td>\n",
       "                        <td id=\"T_60fcf_row9_col1\" class=\"data row9 col1\" >0.9816</td>\n",
       "                        <td id=\"T_60fcf_row9_col2\" class=\"data row9 col2\" >0.9368</td>\n",
       "                        <td id=\"T_60fcf_row9_col3\" class=\"data row9 col3\" >0.1250</td>\n",
       "                        <td id=\"T_60fcf_row9_col4\" class=\"data row9 col4\" >0.5000</td>\n",
       "                        <td id=\"T_60fcf_row9_col5\" class=\"data row9 col5\" >0.2000</td>\n",
       "                        <td id=\"T_60fcf_row9_col6\" class=\"data row9 col6\" >0.1974</td>\n",
       "                        <td id=\"T_60fcf_row9_col7\" class=\"data row9 col7\" >0.2480</td>\n",
       "                        <td id=\"T_60fcf_row9_col8\" class=\"data row9 col8\" >0.0225</td>\n",
       "            </tr>\n",
       "            <tr>\n",
       "                        <th id=\"T_60fcf_level0_row10\" class=\"row_heading level0 row10\" >lr</th>\n",
       "                        <td id=\"T_60fcf_row10_col0\" class=\"data row10 col0\" >Logistic Regression</td>\n",
       "                        <td id=\"T_60fcf_row10_col1\" class=\"data row10 col1\" >0.9789</td>\n",
       "                        <td id=\"T_60fcf_row10_col2\" class=\"data row10 col2\" >0.9872</td>\n",
       "                        <td id=\"T_60fcf_row10_col3\" class=\"data row10 col3\" >0.0000</td>\n",
       "                        <td id=\"T_60fcf_row10_col4\" class=\"data row10 col4\" >0.0000</td>\n",
       "                        <td id=\"T_60fcf_row10_col5\" class=\"data row10 col5\" >0.0000</td>\n",
       "                        <td id=\"T_60fcf_row10_col6\" class=\"data row10 col6\" >0.0000</td>\n",
       "                        <td id=\"T_60fcf_row10_col7\" class=\"data row10 col7\" >0.0000</td>\n",
       "                        <td id=\"T_60fcf_row10_col8\" class=\"data row10 col8\" >0.0225</td>\n",
       "            </tr>\n",
       "            <tr>\n",
       "                        <th id=\"T_60fcf_level0_row11\" class=\"row_heading level0 row11\" >ridge</th>\n",
       "                        <td id=\"T_60fcf_row11_col0\" class=\"data row11 col0\" >Ridge Classifier</td>\n",
       "                        <td id=\"T_60fcf_row11_col1\" class=\"data row11 col1\" >0.9789</td>\n",
       "                        <td id=\"T_60fcf_row11_col2\" class=\"data row11 col2\" >0.0000</td>\n",
       "                        <td id=\"T_60fcf_row11_col3\" class=\"data row11 col3\" >0.0000</td>\n",
       "                        <td id=\"T_60fcf_row11_col4\" class=\"data row11 col4\" >0.0000</td>\n",
       "                        <td id=\"T_60fcf_row11_col5\" class=\"data row11 col5\" >0.0000</td>\n",
       "                        <td id=\"T_60fcf_row11_col6\" class=\"data row11 col6\" >0.0000</td>\n",
       "                        <td id=\"T_60fcf_row11_col7\" class=\"data row11 col7\" >0.0000</td>\n",
       "                        <td id=\"T_60fcf_row11_col8\" class=\"data row11 col8\" >0.0100</td>\n",
       "            </tr>\n",
       "            <tr>\n",
       "                        <th id=\"T_60fcf_level0_row12\" class=\"row_heading level0 row12\" >qda</th>\n",
       "                        <td id=\"T_60fcf_row12_col0\" class=\"data row12 col0\" >Quadratic Discriminant Analysis</td>\n",
       "                        <td id=\"T_60fcf_row12_col1\" class=\"data row12 col1\" >0.9789</td>\n",
       "                        <td id=\"T_60fcf_row12_col2\" class=\"data row12 col2\" >0.5000</td>\n",
       "                        <td id=\"T_60fcf_row12_col3\" class=\"data row12 col3\" >0.0000</td>\n",
       "                        <td id=\"T_60fcf_row12_col4\" class=\"data row12 col4\" >0.0000</td>\n",
       "                        <td id=\"T_60fcf_row12_col5\" class=\"data row12 col5\" >0.0000</td>\n",
       "                        <td id=\"T_60fcf_row12_col6\" class=\"data row12 col6\" >0.0000</td>\n",
       "                        <td id=\"T_60fcf_row12_col7\" class=\"data row12 col7\" >0.0000</td>\n",
       "                        <td id=\"T_60fcf_row12_col8\" class=\"data row12 col8\" >0.0150</td>\n",
       "            </tr>\n",
       "    </tbody></table>"
      ],
      "text/plain": [
       "<pandas.io.formats.style.Styler at 0x7f6e5df6ff70>"
      ]
     },
     "metadata": {},
     "output_type": "display_data"
    }
   ],
   "source": [
    "button13.on_click(on_button_clicked13)\n",
    "display(button13)"
   ]
  },
  {
   "cell_type": "markdown",
   "id": "diagnostic-barrier",
   "metadata": {},
   "source": [
    "# ПРОВЕРКА SVM "
   ]
  },
  {
   "cell_type": "code",
   "execution_count": 77,
   "id": "weighted-interview",
   "metadata": {},
   "outputs": [
    {
     "data": {
      "text/html": [
       "<style  type=\"text/css\" >\n",
       "#T_4b9fe_row10_col0,#T_4b9fe_row10_col1,#T_4b9fe_row10_col2,#T_4b9fe_row10_col3,#T_4b9fe_row10_col4,#T_4b9fe_row10_col5,#T_4b9fe_row10_col6{\n",
       "            background:  yellow;\n",
       "        }</style><table id=\"T_4b9fe_\" ><thead>    <tr>        <th class=\"blank level0\" ></th>        <th class=\"col_heading level0 col0\" >Accuracy</th>        <th class=\"col_heading level0 col1\" >AUC</th>        <th class=\"col_heading level0 col2\" >Recall</th>        <th class=\"col_heading level0 col3\" >Prec.</th>        <th class=\"col_heading level0 col4\" >F1</th>        <th class=\"col_heading level0 col5\" >Kappa</th>        <th class=\"col_heading level0 col6\" >MCC</th>    </tr></thead><tbody>\n",
       "                <tr>\n",
       "                        <th id=\"T_4b9fe_level0_row0\" class=\"row_heading level0 row0\" >0</th>\n",
       "                        <td id=\"T_4b9fe_row0_col0\" class=\"data row0 col0\" >0.9868</td>\n",
       "                        <td id=\"T_4b9fe_row0_col1\" class=\"data row0 col1\" >0.0000</td>\n",
       "                        <td id=\"T_4b9fe_row0_col2\" class=\"data row0 col2\" >0.0000</td>\n",
       "                        <td id=\"T_4b9fe_row0_col3\" class=\"data row0 col3\" >0.0000</td>\n",
       "                        <td id=\"T_4b9fe_row0_col4\" class=\"data row0 col4\" >0.0000</td>\n",
       "                        <td id=\"T_4b9fe_row0_col5\" class=\"data row0 col5\" >0.0000</td>\n",
       "                        <td id=\"T_4b9fe_row0_col6\" class=\"data row0 col6\" >0.0000</td>\n",
       "            </tr>\n",
       "            <tr>\n",
       "                        <th id=\"T_4b9fe_level0_row1\" class=\"row_heading level0 row1\" >1</th>\n",
       "                        <td id=\"T_4b9fe_row1_col0\" class=\"data row1 col0\" >0.9868</td>\n",
       "                        <td id=\"T_4b9fe_row1_col1\" class=\"data row1 col1\" >0.0000</td>\n",
       "                        <td id=\"T_4b9fe_row1_col2\" class=\"data row1 col2\" >0.0000</td>\n",
       "                        <td id=\"T_4b9fe_row1_col3\" class=\"data row1 col3\" >0.0000</td>\n",
       "                        <td id=\"T_4b9fe_row1_col4\" class=\"data row1 col4\" >0.0000</td>\n",
       "                        <td id=\"T_4b9fe_row1_col5\" class=\"data row1 col5\" >0.0000</td>\n",
       "                        <td id=\"T_4b9fe_row1_col6\" class=\"data row1 col6\" >0.0000</td>\n",
       "            </tr>\n",
       "            <tr>\n",
       "                        <th id=\"T_4b9fe_level0_row2\" class=\"row_heading level0 row2\" >2</th>\n",
       "                        <td id=\"T_4b9fe_row2_col0\" class=\"data row2 col0\" >0.9868</td>\n",
       "                        <td id=\"T_4b9fe_row2_col1\" class=\"data row2 col1\" >0.0000</td>\n",
       "                        <td id=\"T_4b9fe_row2_col2\" class=\"data row2 col2\" >0.0000</td>\n",
       "                        <td id=\"T_4b9fe_row2_col3\" class=\"data row2 col3\" >0.0000</td>\n",
       "                        <td id=\"T_4b9fe_row2_col4\" class=\"data row2 col4\" >0.0000</td>\n",
       "                        <td id=\"T_4b9fe_row2_col5\" class=\"data row2 col5\" >0.0000</td>\n",
       "                        <td id=\"T_4b9fe_row2_col6\" class=\"data row2 col6\" >0.0000</td>\n",
       "            </tr>\n",
       "            <tr>\n",
       "                        <th id=\"T_4b9fe_level0_row3\" class=\"row_heading level0 row3\" >3</th>\n",
       "                        <td id=\"T_4b9fe_row3_col0\" class=\"data row3 col0\" >0.9737</td>\n",
       "                        <td id=\"T_4b9fe_row3_col1\" class=\"data row3 col1\" >0.0000</td>\n",
       "                        <td id=\"T_4b9fe_row3_col2\" class=\"data row3 col2\" >0.0000</td>\n",
       "                        <td id=\"T_4b9fe_row3_col3\" class=\"data row3 col3\" >0.0000</td>\n",
       "                        <td id=\"T_4b9fe_row3_col4\" class=\"data row3 col4\" >0.0000</td>\n",
       "                        <td id=\"T_4b9fe_row3_col5\" class=\"data row3 col5\" >0.0000</td>\n",
       "                        <td id=\"T_4b9fe_row3_col6\" class=\"data row3 col6\" >0.0000</td>\n",
       "            </tr>\n",
       "            <tr>\n",
       "                        <th id=\"T_4b9fe_level0_row4\" class=\"row_heading level0 row4\" >4</th>\n",
       "                        <td id=\"T_4b9fe_row4_col0\" class=\"data row4 col0\" >0.9737</td>\n",
       "                        <td id=\"T_4b9fe_row4_col1\" class=\"data row4 col1\" >0.0000</td>\n",
       "                        <td id=\"T_4b9fe_row4_col2\" class=\"data row4 col2\" >0.0000</td>\n",
       "                        <td id=\"T_4b9fe_row4_col3\" class=\"data row4 col3\" >0.0000</td>\n",
       "                        <td id=\"T_4b9fe_row4_col4\" class=\"data row4 col4\" >0.0000</td>\n",
       "                        <td id=\"T_4b9fe_row4_col5\" class=\"data row4 col5\" >0.0000</td>\n",
       "                        <td id=\"T_4b9fe_row4_col6\" class=\"data row4 col6\" >0.0000</td>\n",
       "            </tr>\n",
       "            <tr>\n",
       "                        <th id=\"T_4b9fe_level0_row5\" class=\"row_heading level0 row5\" >5</th>\n",
       "                        <td id=\"T_4b9fe_row5_col0\" class=\"data row5 col0\" >0.9737</td>\n",
       "                        <td id=\"T_4b9fe_row5_col1\" class=\"data row5 col1\" >0.0000</td>\n",
       "                        <td id=\"T_4b9fe_row5_col2\" class=\"data row5 col2\" >0.0000</td>\n",
       "                        <td id=\"T_4b9fe_row5_col3\" class=\"data row5 col3\" >0.0000</td>\n",
       "                        <td id=\"T_4b9fe_row5_col4\" class=\"data row5 col4\" >0.0000</td>\n",
       "                        <td id=\"T_4b9fe_row5_col5\" class=\"data row5 col5\" >0.0000</td>\n",
       "                        <td id=\"T_4b9fe_row5_col6\" class=\"data row5 col6\" >0.0000</td>\n",
       "            </tr>\n",
       "            <tr>\n",
       "                        <th id=\"T_4b9fe_level0_row6\" class=\"row_heading level0 row6\" >6</th>\n",
       "                        <td id=\"T_4b9fe_row6_col0\" class=\"data row6 col0\" >0.9737</td>\n",
       "                        <td id=\"T_4b9fe_row6_col1\" class=\"data row6 col1\" >0.0000</td>\n",
       "                        <td id=\"T_4b9fe_row6_col2\" class=\"data row6 col2\" >0.0000</td>\n",
       "                        <td id=\"T_4b9fe_row6_col3\" class=\"data row6 col3\" >0.0000</td>\n",
       "                        <td id=\"T_4b9fe_row6_col4\" class=\"data row6 col4\" >0.0000</td>\n",
       "                        <td id=\"T_4b9fe_row6_col5\" class=\"data row6 col5\" >0.0000</td>\n",
       "                        <td id=\"T_4b9fe_row6_col6\" class=\"data row6 col6\" >0.0000</td>\n",
       "            </tr>\n",
       "            <tr>\n",
       "                        <th id=\"T_4b9fe_level0_row7\" class=\"row_heading level0 row7\" >7</th>\n",
       "                        <td id=\"T_4b9fe_row7_col0\" class=\"data row7 col0\" >0.9737</td>\n",
       "                        <td id=\"T_4b9fe_row7_col1\" class=\"data row7 col1\" >0.0000</td>\n",
       "                        <td id=\"T_4b9fe_row7_col2\" class=\"data row7 col2\" >0.0000</td>\n",
       "                        <td id=\"T_4b9fe_row7_col3\" class=\"data row7 col3\" >0.0000</td>\n",
       "                        <td id=\"T_4b9fe_row7_col4\" class=\"data row7 col4\" >0.0000</td>\n",
       "                        <td id=\"T_4b9fe_row7_col5\" class=\"data row7 col5\" >0.0000</td>\n",
       "                        <td id=\"T_4b9fe_row7_col6\" class=\"data row7 col6\" >0.0000</td>\n",
       "            </tr>\n",
       "            <tr>\n",
       "                        <th id=\"T_4b9fe_level0_row8\" class=\"row_heading level0 row8\" >8</th>\n",
       "                        <td id=\"T_4b9fe_row8_col0\" class=\"data row8 col0\" >0.9737</td>\n",
       "                        <td id=\"T_4b9fe_row8_col1\" class=\"data row8 col1\" >0.0000</td>\n",
       "                        <td id=\"T_4b9fe_row8_col2\" class=\"data row8 col2\" >0.0000</td>\n",
       "                        <td id=\"T_4b9fe_row8_col3\" class=\"data row8 col3\" >0.0000</td>\n",
       "                        <td id=\"T_4b9fe_row8_col4\" class=\"data row8 col4\" >0.0000</td>\n",
       "                        <td id=\"T_4b9fe_row8_col5\" class=\"data row8 col5\" >0.0000</td>\n",
       "                        <td id=\"T_4b9fe_row8_col6\" class=\"data row8 col6\" >0.0000</td>\n",
       "            </tr>\n",
       "            <tr>\n",
       "                        <th id=\"T_4b9fe_level0_row9\" class=\"row_heading level0 row9\" >9</th>\n",
       "                        <td id=\"T_4b9fe_row9_col0\" class=\"data row9 col0\" >0.9867</td>\n",
       "                        <td id=\"T_4b9fe_row9_col1\" class=\"data row9 col1\" >0.0000</td>\n",
       "                        <td id=\"T_4b9fe_row9_col2\" class=\"data row9 col2\" >0.0000</td>\n",
       "                        <td id=\"T_4b9fe_row9_col3\" class=\"data row9 col3\" >0.0000</td>\n",
       "                        <td id=\"T_4b9fe_row9_col4\" class=\"data row9 col4\" >0.0000</td>\n",
       "                        <td id=\"T_4b9fe_row9_col5\" class=\"data row9 col5\" >0.0000</td>\n",
       "                        <td id=\"T_4b9fe_row9_col6\" class=\"data row9 col6\" >0.0000</td>\n",
       "            </tr>\n",
       "            <tr>\n",
       "                        <th id=\"T_4b9fe_level0_row10\" class=\"row_heading level0 row10\" >Mean</th>\n",
       "                        <td id=\"T_4b9fe_row10_col0\" class=\"data row10 col0\" >0.9789</td>\n",
       "                        <td id=\"T_4b9fe_row10_col1\" class=\"data row10 col1\" >0.0000</td>\n",
       "                        <td id=\"T_4b9fe_row10_col2\" class=\"data row10 col2\" >0.0000</td>\n",
       "                        <td id=\"T_4b9fe_row10_col3\" class=\"data row10 col3\" >0.0000</td>\n",
       "                        <td id=\"T_4b9fe_row10_col4\" class=\"data row10 col4\" >0.0000</td>\n",
       "                        <td id=\"T_4b9fe_row10_col5\" class=\"data row10 col5\" >0.0000</td>\n",
       "                        <td id=\"T_4b9fe_row10_col6\" class=\"data row10 col6\" >0.0000</td>\n",
       "            </tr>\n",
       "            <tr>\n",
       "                        <th id=\"T_4b9fe_level0_row11\" class=\"row_heading level0 row11\" >SD</th>\n",
       "                        <td id=\"T_4b9fe_row11_col0\" class=\"data row11 col0\" >0.0064</td>\n",
       "                        <td id=\"T_4b9fe_row11_col1\" class=\"data row11 col1\" >0.0000</td>\n",
       "                        <td id=\"T_4b9fe_row11_col2\" class=\"data row11 col2\" >0.0000</td>\n",
       "                        <td id=\"T_4b9fe_row11_col3\" class=\"data row11 col3\" >0.0000</td>\n",
       "                        <td id=\"T_4b9fe_row11_col4\" class=\"data row11 col4\" >0.0000</td>\n",
       "                        <td id=\"T_4b9fe_row11_col5\" class=\"data row11 col5\" >0.0000</td>\n",
       "                        <td id=\"T_4b9fe_row11_col6\" class=\"data row11 col6\" >0.0000</td>\n",
       "            </tr>\n",
       "    </tbody></table>"
      ],
      "text/plain": [
       "<pandas.io.formats.style.Styler at 0x7f6f5182fe80>"
      ]
     },
     "metadata": {},
     "output_type": "display_data"
    },
    {
     "name": "stdout",
     "output_type": "stream",
     "text": [
      "SGDClassifier(alpha=0.2, average=False, class_weight=None, early_stopping=False,\n",
      "              epsilon=0.1, eta0=0.5, fit_intercept=True, l1_ratio=0.1300000001,\n",
      "              learning_rate='invscaling', loss='hinge', max_iter=1000,\n",
      "              n_iter_no_change=5, n_jobs=-1, penalty='l2', power_t=0.5,\n",
      "              random_state=5521, shuffle=True, tol=0.001,\n",
      "              validation_fraction=0.1, verbose=0, warm_start=False)\n"
     ]
    },
    {
     "data": {
      "application/vnd.jupyter.widget-view+json": {
       "model_id": "ed1c551cc92943ec8b46a4554bded215",
       "version_major": 2,
       "version_minor": 0
      },
      "text/plain": [
       "interactive(children=(ToggleButtons(description='Plot Type:', icons=('',), options=(('Hyperparameters', 'param…"
      ]
     },
     "metadata": {},
     "output_type": "display_data"
    },
    {
     "data": {
      "text/html": [
       "<style  type=\"text/css\" >\n",
       "</style><table id=\"T_8edb2_\" ><thead>    <tr>        <th class=\"blank level0\" ></th>        <th class=\"col_heading level0 col0\" >Model</th>        <th class=\"col_heading level0 col1\" >Accuracy</th>        <th class=\"col_heading level0 col2\" >AUC</th>        <th class=\"col_heading level0 col3\" >Recall</th>        <th class=\"col_heading level0 col4\" >Prec.</th>        <th class=\"col_heading level0 col5\" >F1</th>        <th class=\"col_heading level0 col6\" >Kappa</th>        <th class=\"col_heading level0 col7\" >MCC</th>    </tr></thead><tbody>\n",
       "                <tr>\n",
       "                        <th id=\"T_8edb2_level0_row0\" class=\"row_heading level0 row0\" >0</th>\n",
       "                        <td id=\"T_8edb2_row0_col0\" class=\"data row0 col0\" >SVM - Linear Kernel</td>\n",
       "                        <td id=\"T_8edb2_row0_col1\" class=\"data row0 col1\" >0.9816</td>\n",
       "                        <td id=\"T_8edb2_row0_col2\" class=\"data row0 col2\" >0.5000</td>\n",
       "                        <td id=\"T_8edb2_row0_col3\" class=\"data row0 col3\" >0.0000</td>\n",
       "                        <td id=\"T_8edb2_row0_col4\" class=\"data row0 col4\" >0.0000</td>\n",
       "                        <td id=\"T_8edb2_row0_col5\" class=\"data row0 col5\" >0.0000</td>\n",
       "                        <td id=\"T_8edb2_row0_col6\" class=\"data row0 col6\" >0.0000</td>\n",
       "                        <td id=\"T_8edb2_row0_col7\" class=\"data row0 col7\" >0.0000</td>\n",
       "            </tr>\n",
       "    </tbody></table>"
      ],
      "text/plain": [
       "<pandas.io.formats.style.Styler at 0x7f6f513bfa60>"
      ]
     },
     "metadata": {},
     "output_type": "display_data"
    }
   ],
   "source": [
    "button14.on_click(on_button_clicked14) \n",
    "display(button14)"
   ]
  },
  {
   "cell_type": "markdown",
   "id": "unexpected-peace",
   "metadata": {},
   "source": [
    "# ПРОВЕРКА RANDOM FOREST\n",
    "\n"
   ]
  },
  {
   "cell_type": "code",
   "execution_count": 78,
   "id": "optical-insured",
   "metadata": {},
   "outputs": [
    {
     "data": {
      "text/html": [
       "<style  type=\"text/css\" >\n",
       "#T_5e56b_row10_col0,#T_5e56b_row10_col1,#T_5e56b_row10_col2,#T_5e56b_row10_col3,#T_5e56b_row10_col4,#T_5e56b_row10_col5,#T_5e56b_row10_col6{\n",
       "            background:  yellow;\n",
       "        }</style><table id=\"T_5e56b_\" ><thead>    <tr>        <th class=\"blank level0\" ></th>        <th class=\"col_heading level0 col0\" >Accuracy</th>        <th class=\"col_heading level0 col1\" >AUC</th>        <th class=\"col_heading level0 col2\" >Recall</th>        <th class=\"col_heading level0 col3\" >Prec.</th>        <th class=\"col_heading level0 col4\" >F1</th>        <th class=\"col_heading level0 col5\" >Kappa</th>        <th class=\"col_heading level0 col6\" >MCC</th>    </tr></thead><tbody>\n",
       "                <tr>\n",
       "                        <th id=\"T_5e56b_level0_row0\" class=\"row_heading level0 row0\" >0</th>\n",
       "                        <td id=\"T_5e56b_row0_col0\" class=\"data row0 col0\" >1.0000</td>\n",
       "                        <td id=\"T_5e56b_row0_col1\" class=\"data row0 col1\" >1.0000</td>\n",
       "                        <td id=\"T_5e56b_row0_col2\" class=\"data row0 col2\" >1.0000</td>\n",
       "                        <td id=\"T_5e56b_row0_col3\" class=\"data row0 col3\" >1.0000</td>\n",
       "                        <td id=\"T_5e56b_row0_col4\" class=\"data row0 col4\" >1.0000</td>\n",
       "                        <td id=\"T_5e56b_row0_col5\" class=\"data row0 col5\" >1.0000</td>\n",
       "                        <td id=\"T_5e56b_row0_col6\" class=\"data row0 col6\" >1.0000</td>\n",
       "            </tr>\n",
       "            <tr>\n",
       "                        <th id=\"T_5e56b_level0_row1\" class=\"row_heading level0 row1\" >1</th>\n",
       "                        <td id=\"T_5e56b_row1_col0\" class=\"data row1 col0\" >1.0000</td>\n",
       "                        <td id=\"T_5e56b_row1_col1\" class=\"data row1 col1\" >1.0000</td>\n",
       "                        <td id=\"T_5e56b_row1_col2\" class=\"data row1 col2\" >1.0000</td>\n",
       "                        <td id=\"T_5e56b_row1_col3\" class=\"data row1 col3\" >1.0000</td>\n",
       "                        <td id=\"T_5e56b_row1_col4\" class=\"data row1 col4\" >1.0000</td>\n",
       "                        <td id=\"T_5e56b_row1_col5\" class=\"data row1 col5\" >1.0000</td>\n",
       "                        <td id=\"T_5e56b_row1_col6\" class=\"data row1 col6\" >1.0000</td>\n",
       "            </tr>\n",
       "            <tr>\n",
       "                        <th id=\"T_5e56b_level0_row2\" class=\"row_heading level0 row2\" >2</th>\n",
       "                        <td id=\"T_5e56b_row2_col0\" class=\"data row2 col0\" >1.0000</td>\n",
       "                        <td id=\"T_5e56b_row2_col1\" class=\"data row2 col1\" >1.0000</td>\n",
       "                        <td id=\"T_5e56b_row2_col2\" class=\"data row2 col2\" >1.0000</td>\n",
       "                        <td id=\"T_5e56b_row2_col3\" class=\"data row2 col3\" >1.0000</td>\n",
       "                        <td id=\"T_5e56b_row2_col4\" class=\"data row2 col4\" >1.0000</td>\n",
       "                        <td id=\"T_5e56b_row2_col5\" class=\"data row2 col5\" >1.0000</td>\n",
       "                        <td id=\"T_5e56b_row2_col6\" class=\"data row2 col6\" >1.0000</td>\n",
       "            </tr>\n",
       "            <tr>\n",
       "                        <th id=\"T_5e56b_level0_row3\" class=\"row_heading level0 row3\" >3</th>\n",
       "                        <td id=\"T_5e56b_row3_col0\" class=\"data row3 col0\" >1.0000</td>\n",
       "                        <td id=\"T_5e56b_row3_col1\" class=\"data row3 col1\" >1.0000</td>\n",
       "                        <td id=\"T_5e56b_row3_col2\" class=\"data row3 col2\" >1.0000</td>\n",
       "                        <td id=\"T_5e56b_row3_col3\" class=\"data row3 col3\" >1.0000</td>\n",
       "                        <td id=\"T_5e56b_row3_col4\" class=\"data row3 col4\" >1.0000</td>\n",
       "                        <td id=\"T_5e56b_row3_col5\" class=\"data row3 col5\" >1.0000</td>\n",
       "                        <td id=\"T_5e56b_row3_col6\" class=\"data row3 col6\" >1.0000</td>\n",
       "            </tr>\n",
       "            <tr>\n",
       "                        <th id=\"T_5e56b_level0_row4\" class=\"row_heading level0 row4\" >4</th>\n",
       "                        <td id=\"T_5e56b_row4_col0\" class=\"data row4 col0\" >1.0000</td>\n",
       "                        <td id=\"T_5e56b_row4_col1\" class=\"data row4 col1\" >1.0000</td>\n",
       "                        <td id=\"T_5e56b_row4_col2\" class=\"data row4 col2\" >1.0000</td>\n",
       "                        <td id=\"T_5e56b_row4_col3\" class=\"data row4 col3\" >1.0000</td>\n",
       "                        <td id=\"T_5e56b_row4_col4\" class=\"data row4 col4\" >1.0000</td>\n",
       "                        <td id=\"T_5e56b_row4_col5\" class=\"data row4 col5\" >1.0000</td>\n",
       "                        <td id=\"T_5e56b_row4_col6\" class=\"data row4 col6\" >1.0000</td>\n",
       "            </tr>\n",
       "            <tr>\n",
       "                        <th id=\"T_5e56b_level0_row5\" class=\"row_heading level0 row5\" >5</th>\n",
       "                        <td id=\"T_5e56b_row5_col0\" class=\"data row5 col0\" >1.0000</td>\n",
       "                        <td id=\"T_5e56b_row5_col1\" class=\"data row5 col1\" >1.0000</td>\n",
       "                        <td id=\"T_5e56b_row5_col2\" class=\"data row5 col2\" >1.0000</td>\n",
       "                        <td id=\"T_5e56b_row5_col3\" class=\"data row5 col3\" >1.0000</td>\n",
       "                        <td id=\"T_5e56b_row5_col4\" class=\"data row5 col4\" >1.0000</td>\n",
       "                        <td id=\"T_5e56b_row5_col5\" class=\"data row5 col5\" >1.0000</td>\n",
       "                        <td id=\"T_5e56b_row5_col6\" class=\"data row5 col6\" >1.0000</td>\n",
       "            </tr>\n",
       "            <tr>\n",
       "                        <th id=\"T_5e56b_level0_row6\" class=\"row_heading level0 row6\" >6</th>\n",
       "                        <td id=\"T_5e56b_row6_col0\" class=\"data row6 col0\" >1.0000</td>\n",
       "                        <td id=\"T_5e56b_row6_col1\" class=\"data row6 col1\" >1.0000</td>\n",
       "                        <td id=\"T_5e56b_row6_col2\" class=\"data row6 col2\" >1.0000</td>\n",
       "                        <td id=\"T_5e56b_row6_col3\" class=\"data row6 col3\" >1.0000</td>\n",
       "                        <td id=\"T_5e56b_row6_col4\" class=\"data row6 col4\" >1.0000</td>\n",
       "                        <td id=\"T_5e56b_row6_col5\" class=\"data row6 col5\" >1.0000</td>\n",
       "                        <td id=\"T_5e56b_row6_col6\" class=\"data row6 col6\" >1.0000</td>\n",
       "            </tr>\n",
       "            <tr>\n",
       "                        <th id=\"T_5e56b_level0_row7\" class=\"row_heading level0 row7\" >7</th>\n",
       "                        <td id=\"T_5e56b_row7_col0\" class=\"data row7 col0\" >1.0000</td>\n",
       "                        <td id=\"T_5e56b_row7_col1\" class=\"data row7 col1\" >1.0000</td>\n",
       "                        <td id=\"T_5e56b_row7_col2\" class=\"data row7 col2\" >1.0000</td>\n",
       "                        <td id=\"T_5e56b_row7_col3\" class=\"data row7 col3\" >1.0000</td>\n",
       "                        <td id=\"T_5e56b_row7_col4\" class=\"data row7 col4\" >1.0000</td>\n",
       "                        <td id=\"T_5e56b_row7_col5\" class=\"data row7 col5\" >1.0000</td>\n",
       "                        <td id=\"T_5e56b_row7_col6\" class=\"data row7 col6\" >1.0000</td>\n",
       "            </tr>\n",
       "            <tr>\n",
       "                        <th id=\"T_5e56b_level0_row8\" class=\"row_heading level0 row8\" >8</th>\n",
       "                        <td id=\"T_5e56b_row8_col0\" class=\"data row8 col0\" >1.0000</td>\n",
       "                        <td id=\"T_5e56b_row8_col1\" class=\"data row8 col1\" >1.0000</td>\n",
       "                        <td id=\"T_5e56b_row8_col2\" class=\"data row8 col2\" >1.0000</td>\n",
       "                        <td id=\"T_5e56b_row8_col3\" class=\"data row8 col3\" >1.0000</td>\n",
       "                        <td id=\"T_5e56b_row8_col4\" class=\"data row8 col4\" >1.0000</td>\n",
       "                        <td id=\"T_5e56b_row8_col5\" class=\"data row8 col5\" >1.0000</td>\n",
       "                        <td id=\"T_5e56b_row8_col6\" class=\"data row8 col6\" >1.0000</td>\n",
       "            </tr>\n",
       "            <tr>\n",
       "                        <th id=\"T_5e56b_level0_row9\" class=\"row_heading level0 row9\" >9</th>\n",
       "                        <td id=\"T_5e56b_row9_col0\" class=\"data row9 col0\" >1.0000</td>\n",
       "                        <td id=\"T_5e56b_row9_col1\" class=\"data row9 col1\" >1.0000</td>\n",
       "                        <td id=\"T_5e56b_row9_col2\" class=\"data row9 col2\" >1.0000</td>\n",
       "                        <td id=\"T_5e56b_row9_col3\" class=\"data row9 col3\" >1.0000</td>\n",
       "                        <td id=\"T_5e56b_row9_col4\" class=\"data row9 col4\" >1.0000</td>\n",
       "                        <td id=\"T_5e56b_row9_col5\" class=\"data row9 col5\" >1.0000</td>\n",
       "                        <td id=\"T_5e56b_row9_col6\" class=\"data row9 col6\" >1.0000</td>\n",
       "            </tr>\n",
       "            <tr>\n",
       "                        <th id=\"T_5e56b_level0_row10\" class=\"row_heading level0 row10\" >Mean</th>\n",
       "                        <td id=\"T_5e56b_row10_col0\" class=\"data row10 col0\" >1.0000</td>\n",
       "                        <td id=\"T_5e56b_row10_col1\" class=\"data row10 col1\" >1.0000</td>\n",
       "                        <td id=\"T_5e56b_row10_col2\" class=\"data row10 col2\" >1.0000</td>\n",
       "                        <td id=\"T_5e56b_row10_col3\" class=\"data row10 col3\" >1.0000</td>\n",
       "                        <td id=\"T_5e56b_row10_col4\" class=\"data row10 col4\" >1.0000</td>\n",
       "                        <td id=\"T_5e56b_row10_col5\" class=\"data row10 col5\" >1.0000</td>\n",
       "                        <td id=\"T_5e56b_row10_col6\" class=\"data row10 col6\" >1.0000</td>\n",
       "            </tr>\n",
       "            <tr>\n",
       "                        <th id=\"T_5e56b_level0_row11\" class=\"row_heading level0 row11\" >SD</th>\n",
       "                        <td id=\"T_5e56b_row11_col0\" class=\"data row11 col0\" >0.0000</td>\n",
       "                        <td id=\"T_5e56b_row11_col1\" class=\"data row11 col1\" >0.0000</td>\n",
       "                        <td id=\"T_5e56b_row11_col2\" class=\"data row11 col2\" >0.0000</td>\n",
       "                        <td id=\"T_5e56b_row11_col3\" class=\"data row11 col3\" >0.0000</td>\n",
       "                        <td id=\"T_5e56b_row11_col4\" class=\"data row11 col4\" >0.0000</td>\n",
       "                        <td id=\"T_5e56b_row11_col5\" class=\"data row11 col5\" >0.0000</td>\n",
       "                        <td id=\"T_5e56b_row11_col6\" class=\"data row11 col6\" >0.0000</td>\n",
       "            </tr>\n",
       "    </tbody></table>"
      ],
      "text/plain": [
       "<pandas.io.formats.style.Styler at 0x7f6f509dd220>"
      ]
     },
     "metadata": {},
     "output_type": "display_data"
    },
    {
     "data": {
      "application/vnd.jupyter.widget-view+json": {
       "model_id": "f581d6e3b5db401ca4221f6627e2e724",
       "version_major": 2,
       "version_minor": 0
      },
      "text/plain": [
       "interactive(children=(ToggleButtons(description='Plot Type:', icons=('',), options=(('Hyperparameters', 'param…"
      ]
     },
     "metadata": {},
     "output_type": "display_data"
    },
    {
     "data": {
      "text/html": [
       "<style  type=\"text/css\" >\n",
       "</style><table id=\"T_4f3df_\" ><thead>    <tr>        <th class=\"blank level0\" ></th>        <th class=\"col_heading level0 col0\" >Model</th>        <th class=\"col_heading level0 col1\" >Accuracy</th>        <th class=\"col_heading level0 col2\" >AUC</th>        <th class=\"col_heading level0 col3\" >Recall</th>        <th class=\"col_heading level0 col4\" >Prec.</th>        <th class=\"col_heading level0 col5\" >F1</th>        <th class=\"col_heading level0 col6\" >Kappa</th>        <th class=\"col_heading level0 col7\" >MCC</th>    </tr></thead><tbody>\n",
       "                <tr>\n",
       "                        <th id=\"T_4f3df_level0_row0\" class=\"row_heading level0 row0\" >0</th>\n",
       "                        <td id=\"T_4f3df_row0_col0\" class=\"data row0 col0\" >Random Forest Classifier</td>\n",
       "                        <td id=\"T_4f3df_row0_col1\" class=\"data row0 col1\" >0.9969</td>\n",
       "                        <td id=\"T_4f3df_row0_col2\" class=\"data row0 col2\" >1.0000</td>\n",
       "                        <td id=\"T_4f3df_row0_col3\" class=\"data row0 col3\" >1.0000</td>\n",
       "                        <td id=\"T_4f3df_row0_col4\" class=\"data row0 col4\" >0.8571</td>\n",
       "                        <td id=\"T_4f3df_row0_col5\" class=\"data row0 col5\" >0.9231</td>\n",
       "                        <td id=\"T_4f3df_row0_col6\" class=\"data row0 col6\" >0.9215</td>\n",
       "                        <td id=\"T_4f3df_row0_col7\" class=\"data row0 col7\" >0.9244</td>\n",
       "            </tr>\n",
       "    </tbody></table>"
      ],
      "text/plain": [
       "<pandas.io.formats.style.Styler at 0x7f6f52cc5370>"
      ]
     },
     "metadata": {},
     "output_type": "display_data"
    }
   ],
   "source": [
    "button15.on_click(on_button_clicked15) \n",
    "display(button15)"
   ]
  },
  {
   "cell_type": "markdown",
   "id": "everyday-kitty",
   "metadata": {},
   "source": [
    "# ПРОВЕРКА KNN"
   ]
  },
  {
   "cell_type": "code",
   "execution_count": 79,
   "id": "fifteen-research",
   "metadata": {},
   "outputs": [
    {
     "data": {
      "application/vnd.jupyter.widget-view+json": {
       "model_id": "21572ab303b648a2acefc8bc0dbb8773",
       "version_major": 2,
       "version_minor": 0
      },
      "text/plain": [
       "Button(button_style='success', description='Использование методов KNN', layout=Layout(height='80px', width='50…"
      ]
     },
     "metadata": {},
     "output_type": "display_data"
    }
   ],
   "source": [
    "button16.on_click(on_button_clicked16) \n",
    "display(button16)"
   ]
  },
  {
   "cell_type": "markdown",
   "id": "acquired-fusion",
   "metadata": {},
   "source": [
    "# TREE OF DECISION"
   ]
  },
  {
   "cell_type": "code",
   "execution_count": 80,
   "id": "constitutional-optimization",
   "metadata": {},
   "outputs": [
    {
     "data": {
      "text/html": [
       "<style  type=\"text/css\" >\n",
       "#T_dda72_row10_col0,#T_dda72_row10_col1,#T_dda72_row10_col2,#T_dda72_row10_col3,#T_dda72_row10_col4,#T_dda72_row10_col5,#T_dda72_row10_col6{\n",
       "            background:  yellow;\n",
       "        }</style><table id=\"T_dda72_\" ><thead>    <tr>        <th class=\"blank level0\" ></th>        <th class=\"col_heading level0 col0\" >Accuracy</th>        <th class=\"col_heading level0 col1\" >AUC</th>        <th class=\"col_heading level0 col2\" >Recall</th>        <th class=\"col_heading level0 col3\" >Prec.</th>        <th class=\"col_heading level0 col4\" >F1</th>        <th class=\"col_heading level0 col5\" >Kappa</th>        <th class=\"col_heading level0 col6\" >MCC</th>    </tr></thead><tbody>\n",
       "                <tr>\n",
       "                        <th id=\"T_dda72_level0_row0\" class=\"row_heading level0 row0\" >0</th>\n",
       "                        <td id=\"T_dda72_row0_col0\" class=\"data row0 col0\" >1.0000</td>\n",
       "                        <td id=\"T_dda72_row0_col1\" class=\"data row0 col1\" >1.0000</td>\n",
       "                        <td id=\"T_dda72_row0_col2\" class=\"data row0 col2\" >1.0000</td>\n",
       "                        <td id=\"T_dda72_row0_col3\" class=\"data row0 col3\" >1.0000</td>\n",
       "                        <td id=\"T_dda72_row0_col4\" class=\"data row0 col4\" >1.0000</td>\n",
       "                        <td id=\"T_dda72_row0_col5\" class=\"data row0 col5\" >1.0000</td>\n",
       "                        <td id=\"T_dda72_row0_col6\" class=\"data row0 col6\" >1.0000</td>\n",
       "            </tr>\n",
       "            <tr>\n",
       "                        <th id=\"T_dda72_level0_row1\" class=\"row_heading level0 row1\" >1</th>\n",
       "                        <td id=\"T_dda72_row1_col0\" class=\"data row1 col0\" >1.0000</td>\n",
       "                        <td id=\"T_dda72_row1_col1\" class=\"data row1 col1\" >1.0000</td>\n",
       "                        <td id=\"T_dda72_row1_col2\" class=\"data row1 col2\" >1.0000</td>\n",
       "                        <td id=\"T_dda72_row1_col3\" class=\"data row1 col3\" >1.0000</td>\n",
       "                        <td id=\"T_dda72_row1_col4\" class=\"data row1 col4\" >1.0000</td>\n",
       "                        <td id=\"T_dda72_row1_col5\" class=\"data row1 col5\" >1.0000</td>\n",
       "                        <td id=\"T_dda72_row1_col6\" class=\"data row1 col6\" >1.0000</td>\n",
       "            </tr>\n",
       "            <tr>\n",
       "                        <th id=\"T_dda72_level0_row2\" class=\"row_heading level0 row2\" >2</th>\n",
       "                        <td id=\"T_dda72_row2_col0\" class=\"data row2 col0\" >1.0000</td>\n",
       "                        <td id=\"T_dda72_row2_col1\" class=\"data row2 col1\" >1.0000</td>\n",
       "                        <td id=\"T_dda72_row2_col2\" class=\"data row2 col2\" >1.0000</td>\n",
       "                        <td id=\"T_dda72_row2_col3\" class=\"data row2 col3\" >1.0000</td>\n",
       "                        <td id=\"T_dda72_row2_col4\" class=\"data row2 col4\" >1.0000</td>\n",
       "                        <td id=\"T_dda72_row2_col5\" class=\"data row2 col5\" >1.0000</td>\n",
       "                        <td id=\"T_dda72_row2_col6\" class=\"data row2 col6\" >1.0000</td>\n",
       "            </tr>\n",
       "            <tr>\n",
       "                        <th id=\"T_dda72_level0_row3\" class=\"row_heading level0 row3\" >3</th>\n",
       "                        <td id=\"T_dda72_row3_col0\" class=\"data row3 col0\" >1.0000</td>\n",
       "                        <td id=\"T_dda72_row3_col1\" class=\"data row3 col1\" >1.0000</td>\n",
       "                        <td id=\"T_dda72_row3_col2\" class=\"data row3 col2\" >1.0000</td>\n",
       "                        <td id=\"T_dda72_row3_col3\" class=\"data row3 col3\" >1.0000</td>\n",
       "                        <td id=\"T_dda72_row3_col4\" class=\"data row3 col4\" >1.0000</td>\n",
       "                        <td id=\"T_dda72_row3_col5\" class=\"data row3 col5\" >1.0000</td>\n",
       "                        <td id=\"T_dda72_row3_col6\" class=\"data row3 col6\" >1.0000</td>\n",
       "            </tr>\n",
       "            <tr>\n",
       "                        <th id=\"T_dda72_level0_row4\" class=\"row_heading level0 row4\" >4</th>\n",
       "                        <td id=\"T_dda72_row4_col0\" class=\"data row4 col0\" >1.0000</td>\n",
       "                        <td id=\"T_dda72_row4_col1\" class=\"data row4 col1\" >1.0000</td>\n",
       "                        <td id=\"T_dda72_row4_col2\" class=\"data row4 col2\" >1.0000</td>\n",
       "                        <td id=\"T_dda72_row4_col3\" class=\"data row4 col3\" >1.0000</td>\n",
       "                        <td id=\"T_dda72_row4_col4\" class=\"data row4 col4\" >1.0000</td>\n",
       "                        <td id=\"T_dda72_row4_col5\" class=\"data row4 col5\" >1.0000</td>\n",
       "                        <td id=\"T_dda72_row4_col6\" class=\"data row4 col6\" >1.0000</td>\n",
       "            </tr>\n",
       "            <tr>\n",
       "                        <th id=\"T_dda72_level0_row5\" class=\"row_heading level0 row5\" >5</th>\n",
       "                        <td id=\"T_dda72_row5_col0\" class=\"data row5 col0\" >1.0000</td>\n",
       "                        <td id=\"T_dda72_row5_col1\" class=\"data row5 col1\" >1.0000</td>\n",
       "                        <td id=\"T_dda72_row5_col2\" class=\"data row5 col2\" >1.0000</td>\n",
       "                        <td id=\"T_dda72_row5_col3\" class=\"data row5 col3\" >1.0000</td>\n",
       "                        <td id=\"T_dda72_row5_col4\" class=\"data row5 col4\" >1.0000</td>\n",
       "                        <td id=\"T_dda72_row5_col5\" class=\"data row5 col5\" >1.0000</td>\n",
       "                        <td id=\"T_dda72_row5_col6\" class=\"data row5 col6\" >1.0000</td>\n",
       "            </tr>\n",
       "            <tr>\n",
       "                        <th id=\"T_dda72_level0_row6\" class=\"row_heading level0 row6\" >6</th>\n",
       "                        <td id=\"T_dda72_row6_col0\" class=\"data row6 col0\" >1.0000</td>\n",
       "                        <td id=\"T_dda72_row6_col1\" class=\"data row6 col1\" >1.0000</td>\n",
       "                        <td id=\"T_dda72_row6_col2\" class=\"data row6 col2\" >1.0000</td>\n",
       "                        <td id=\"T_dda72_row6_col3\" class=\"data row6 col3\" >1.0000</td>\n",
       "                        <td id=\"T_dda72_row6_col4\" class=\"data row6 col4\" >1.0000</td>\n",
       "                        <td id=\"T_dda72_row6_col5\" class=\"data row6 col5\" >1.0000</td>\n",
       "                        <td id=\"T_dda72_row6_col6\" class=\"data row6 col6\" >1.0000</td>\n",
       "            </tr>\n",
       "            <tr>\n",
       "                        <th id=\"T_dda72_level0_row7\" class=\"row_heading level0 row7\" >7</th>\n",
       "                        <td id=\"T_dda72_row7_col0\" class=\"data row7 col0\" >0.9868</td>\n",
       "                        <td id=\"T_dda72_row7_col1\" class=\"data row7 col1\" >1.0000</td>\n",
       "                        <td id=\"T_dda72_row7_col2\" class=\"data row7 col2\" >1.0000</td>\n",
       "                        <td id=\"T_dda72_row7_col3\" class=\"data row7 col3\" >0.6667</td>\n",
       "                        <td id=\"T_dda72_row7_col4\" class=\"data row7 col4\" >0.8000</td>\n",
       "                        <td id=\"T_dda72_row7_col5\" class=\"data row7 col5\" >0.7935</td>\n",
       "                        <td id=\"T_dda72_row7_col6\" class=\"data row7 col6\" >0.8110</td>\n",
       "            </tr>\n",
       "            <tr>\n",
       "                        <th id=\"T_dda72_level0_row8\" class=\"row_heading level0 row8\" >8</th>\n",
       "                        <td id=\"T_dda72_row8_col0\" class=\"data row8 col0\" >0.9868</td>\n",
       "                        <td id=\"T_dda72_row8_col1\" class=\"data row8 col1\" >1.0000</td>\n",
       "                        <td id=\"T_dda72_row8_col2\" class=\"data row8 col2\" >0.5000</td>\n",
       "                        <td id=\"T_dda72_row8_col3\" class=\"data row8 col3\" >1.0000</td>\n",
       "                        <td id=\"T_dda72_row8_col4\" class=\"data row8 col4\" >0.6667</td>\n",
       "                        <td id=\"T_dda72_row8_col5\" class=\"data row8 col5\" >0.6607</td>\n",
       "                        <td id=\"T_dda72_row8_col6\" class=\"data row8 col6\" >0.7024</td>\n",
       "            </tr>\n",
       "            <tr>\n",
       "                        <th id=\"T_dda72_level0_row9\" class=\"row_heading level0 row9\" >9</th>\n",
       "                        <td id=\"T_dda72_row9_col0\" class=\"data row9 col0\" >1.0000</td>\n",
       "                        <td id=\"T_dda72_row9_col1\" class=\"data row9 col1\" >1.0000</td>\n",
       "                        <td id=\"T_dda72_row9_col2\" class=\"data row9 col2\" >1.0000</td>\n",
       "                        <td id=\"T_dda72_row9_col3\" class=\"data row9 col3\" >1.0000</td>\n",
       "                        <td id=\"T_dda72_row9_col4\" class=\"data row9 col4\" >1.0000</td>\n",
       "                        <td id=\"T_dda72_row9_col5\" class=\"data row9 col5\" >1.0000</td>\n",
       "                        <td id=\"T_dda72_row9_col6\" class=\"data row9 col6\" >1.0000</td>\n",
       "            </tr>\n",
       "            <tr>\n",
       "                        <th id=\"T_dda72_level0_row10\" class=\"row_heading level0 row10\" >Mean</th>\n",
       "                        <td id=\"T_dda72_row10_col0\" class=\"data row10 col0\" >0.9974</td>\n",
       "                        <td id=\"T_dda72_row10_col1\" class=\"data row10 col1\" >1.0000</td>\n",
       "                        <td id=\"T_dda72_row10_col2\" class=\"data row10 col2\" >0.9500</td>\n",
       "                        <td id=\"T_dda72_row10_col3\" class=\"data row10 col3\" >0.9667</td>\n",
       "                        <td id=\"T_dda72_row10_col4\" class=\"data row10 col4\" >0.9467</td>\n",
       "                        <td id=\"T_dda72_row10_col5\" class=\"data row10 col5\" >0.9454</td>\n",
       "                        <td id=\"T_dda72_row10_col6\" class=\"data row10 col6\" >0.9513</td>\n",
       "            </tr>\n",
       "            <tr>\n",
       "                        <th id=\"T_dda72_level0_row11\" class=\"row_heading level0 row11\" >SD</th>\n",
       "                        <td id=\"T_dda72_row11_col0\" class=\"data row11 col0\" >0.0053</td>\n",
       "                        <td id=\"T_dda72_row11_col1\" class=\"data row11 col1\" >0.0000</td>\n",
       "                        <td id=\"T_dda72_row11_col2\" class=\"data row11 col2\" >0.1500</td>\n",
       "                        <td id=\"T_dda72_row11_col3\" class=\"data row11 col3\" >0.1000</td>\n",
       "                        <td id=\"T_dda72_row11_col4\" class=\"data row11 col4\" >0.1108</td>\n",
       "                        <td id=\"T_dda72_row11_col5\" class=\"data row11 col5\" >0.1131</td>\n",
       "                        <td id=\"T_dda72_row11_col6\" class=\"data row11 col6\" >0.1003</td>\n",
       "            </tr>\n",
       "    </tbody></table>"
      ],
      "text/plain": [
       "<pandas.io.formats.style.Styler at 0x7f6fe1bcd580>"
      ]
     },
     "metadata": {},
     "output_type": "display_data"
    },
    {
     "name": "stdout",
     "output_type": "stream",
     "text": [
      "DecisionTreeClassifier(ccp_alpha=0.0, class_weight=None, criterion='entropy',\n",
      "                       max_depth=7, max_features=1.0, max_leaf_nodes=None,\n",
      "                       min_impurity_decrease=0.001, min_impurity_split=None,\n",
      "                       min_samples_leaf=3, min_samples_split=5,\n",
      "                       min_weight_fraction_leaf=0.0, presort='deprecated',\n",
      "                       random_state=5521, splitter='best')\n"
     ]
    },
    {
     "data": {
      "application/vnd.jupyter.widget-view+json": {
       "model_id": "37a93045c9df40bdbaaf87f0ede3a65f",
       "version_major": 2,
       "version_minor": 0
      },
      "text/plain": [
       "interactive(children=(ToggleButtons(description='Plot Type:', icons=('',), options=(('Hyperparameters', 'param…"
      ]
     },
     "metadata": {},
     "output_type": "display_data"
    },
    {
     "data": {
      "text/html": [
       "<style  type=\"text/css\" >\n",
       "</style><table id=\"T_c460d_\" ><thead>    <tr>        <th class=\"blank level0\" ></th>        <th class=\"col_heading level0 col0\" >Model</th>        <th class=\"col_heading level0 col1\" >Accuracy</th>        <th class=\"col_heading level0 col2\" >AUC</th>        <th class=\"col_heading level0 col3\" >Recall</th>        <th class=\"col_heading level0 col4\" >Prec.</th>        <th class=\"col_heading level0 col5\" >F1</th>        <th class=\"col_heading level0 col6\" >Kappa</th>        <th class=\"col_heading level0 col7\" >MCC</th>    </tr></thead><tbody>\n",
       "                <tr>\n",
       "                        <th id=\"T_c460d_level0_row0\" class=\"row_heading level0 row0\" >0</th>\n",
       "                        <td id=\"T_c460d_row0_col0\" class=\"data row0 col0\" >Decision Tree Classifier</td>\n",
       "                        <td id=\"T_c460d_row0_col1\" class=\"data row0 col1\" >0.9939</td>\n",
       "                        <td id=\"T_c460d_row0_col2\" class=\"data row0 col2\" >0.9969</td>\n",
       "                        <td id=\"T_c460d_row0_col3\" class=\"data row0 col3\" >1.0000</td>\n",
       "                        <td id=\"T_c460d_row0_col4\" class=\"data row0 col4\" >0.7500</td>\n",
       "                        <td id=\"T_c460d_row0_col5\" class=\"data row0 col5\" >0.8571</td>\n",
       "                        <td id=\"T_c460d_row0_col6\" class=\"data row0 col6\" >0.8541</td>\n",
       "                        <td id=\"T_c460d_row0_col7\" class=\"data row0 col7\" >0.8633</td>\n",
       "            </tr>\n",
       "    </tbody></table>"
      ],
      "text/plain": [
       "<pandas.io.formats.style.Styler at 0x7f6e5f5758e0>"
      ]
     },
     "metadata": {},
     "output_type": "display_data"
    }
   ],
   "source": [
    "button17.on_click(on_button_clicked17) \n",
    "display(button17)"
   ]
  },
  {
   "cell_type": "code",
   "execution_count": 62,
   "id": "sharing-increase",
   "metadata": {},
   "outputs": [
    {
     "data": {
      "text/html": [
       "<style  type=\"text/css\" >\n",
       "    #T_9ec7f_ th {\n",
       "          text-align: left;\n",
       "    }#T_9ec7f_row0_col0,#T_9ec7f_row0_col4,#T_9ec7f_row1_col0,#T_9ec7f_row1_col1,#T_9ec7f_row1_col2,#T_9ec7f_row1_col4,#T_9ec7f_row1_col5,#T_9ec7f_row1_col6,#T_9ec7f_row1_col7,#T_9ec7f_row2_col0,#T_9ec7f_row2_col1,#T_9ec7f_row2_col2,#T_9ec7f_row2_col4,#T_9ec7f_row2_col5,#T_9ec7f_row2_col6,#T_9ec7f_row2_col7,#T_9ec7f_row3_col0,#T_9ec7f_row3_col1,#T_9ec7f_row3_col2,#T_9ec7f_row3_col3,#T_9ec7f_row3_col4,#T_9ec7f_row3_col5,#T_9ec7f_row3_col6,#T_9ec7f_row3_col7,#T_9ec7f_row4_col0,#T_9ec7f_row4_col1,#T_9ec7f_row4_col3,#T_9ec7f_row4_col5,#T_9ec7f_row4_col6,#T_9ec7f_row4_col7,#T_9ec7f_row5_col0,#T_9ec7f_row5_col1,#T_9ec7f_row5_col3,#T_9ec7f_row5_col4,#T_9ec7f_row5_col5,#T_9ec7f_row5_col6,#T_9ec7f_row5_col7,#T_9ec7f_row6_col0,#T_9ec7f_row6_col1,#T_9ec7f_row6_col3,#T_9ec7f_row6_col4,#T_9ec7f_row6_col5,#T_9ec7f_row6_col6,#T_9ec7f_row6_col7,#T_9ec7f_row7_col0,#T_9ec7f_row7_col1,#T_9ec7f_row7_col2,#T_9ec7f_row7_col3,#T_9ec7f_row7_col4,#T_9ec7f_row7_col5,#T_9ec7f_row7_col6,#T_9ec7f_row7_col7,#T_9ec7f_row8_col0,#T_9ec7f_row8_col1,#T_9ec7f_row8_col2,#T_9ec7f_row8_col3,#T_9ec7f_row8_col4,#T_9ec7f_row8_col5,#T_9ec7f_row8_col6,#T_9ec7f_row8_col7,#T_9ec7f_row9_col0,#T_9ec7f_row9_col1,#T_9ec7f_row9_col2,#T_9ec7f_row9_col3,#T_9ec7f_row9_col4,#T_9ec7f_row9_col5,#T_9ec7f_row9_col6,#T_9ec7f_row9_col7,#T_9ec7f_row10_col0,#T_9ec7f_row10_col1,#T_9ec7f_row10_col2,#T_9ec7f_row10_col3,#T_9ec7f_row10_col4,#T_9ec7f_row10_col5,#T_9ec7f_row10_col6,#T_9ec7f_row10_col7,#T_9ec7f_row11_col0,#T_9ec7f_row11_col1,#T_9ec7f_row11_col2,#T_9ec7f_row11_col3,#T_9ec7f_row11_col4,#T_9ec7f_row11_col5,#T_9ec7f_row11_col6,#T_9ec7f_row11_col7,#T_9ec7f_row12_col0,#T_9ec7f_row12_col1,#T_9ec7f_row12_col2,#T_9ec7f_row12_col3,#T_9ec7f_row12_col4,#T_9ec7f_row12_col5,#T_9ec7f_row12_col6,#T_9ec7f_row12_col7{\n",
       "            text-align:  left;\n",
       "            text-align:  left;\n",
       "        }#T_9ec7f_row0_col1,#T_9ec7f_row0_col2,#T_9ec7f_row0_col3,#T_9ec7f_row0_col5,#T_9ec7f_row0_col6,#T_9ec7f_row0_col7,#T_9ec7f_row1_col3,#T_9ec7f_row2_col3,#T_9ec7f_row4_col2,#T_9ec7f_row4_col4,#T_9ec7f_row5_col2,#T_9ec7f_row6_col2{\n",
       "            text-align:  left;\n",
       "            text-align:  left;\n",
       "            background-color:  yellow;\n",
       "        }#T_9ec7f_row0_col8,#T_9ec7f_row2_col8,#T_9ec7f_row3_col8,#T_9ec7f_row4_col8,#T_9ec7f_row5_col8,#T_9ec7f_row6_col8,#T_9ec7f_row7_col8,#T_9ec7f_row8_col8,#T_9ec7f_row9_col8,#T_9ec7f_row11_col8{\n",
       "            text-align:  left;\n",
       "            text-align:  left;\n",
       "            background-color:  lightgrey;\n",
       "        }#T_9ec7f_row1_col8,#T_9ec7f_row10_col8,#T_9ec7f_row12_col8{\n",
       "            text-align:  left;\n",
       "            text-align:  left;\n",
       "            background-color:  yellow;\n",
       "            background-color:  lightgrey;\n",
       "        }</style><table id=\"T_9ec7f_\" ><thead>    <tr>        <th class=\"blank level0\" ></th>        <th class=\"col_heading level0 col0\" >Model</th>        <th class=\"col_heading level0 col1\" >Accuracy</th>        <th class=\"col_heading level0 col2\" >AUC</th>        <th class=\"col_heading level0 col3\" >Recall</th>        <th class=\"col_heading level0 col4\" >Prec.</th>        <th class=\"col_heading level0 col5\" >F1</th>        <th class=\"col_heading level0 col6\" >Kappa</th>        <th class=\"col_heading level0 col7\" >MCC</th>        <th class=\"col_heading level0 col8\" >TT (Sec)</th>    </tr></thead><tbody>\n",
       "                <tr>\n",
       "                        <th id=\"T_9ec7f_level0_row0\" class=\"row_heading level0 row0\" >lda</th>\n",
       "                        <td id=\"T_9ec7f_row0_col0\" class=\"data row0 col0\" >Linear Discriminant Analysis</td>\n",
       "                        <td id=\"T_9ec7f_row0_col1\" class=\"data row0 col1\" >0.9988</td>\n",
       "                        <td id=\"T_9ec7f_row0_col2\" class=\"data row0 col2\" >1.0000</td>\n",
       "                        <td id=\"T_9ec7f_row0_col3\" class=\"data row0 col3\" >1.0000</td>\n",
       "                        <td id=\"T_9ec7f_row0_col4\" class=\"data row0 col4\" >0.9500</td>\n",
       "                        <td id=\"T_9ec7f_row0_col5\" class=\"data row0 col5\" >0.9722</td>\n",
       "                        <td id=\"T_9ec7f_row0_col6\" class=\"data row0 col6\" >0.9716</td>\n",
       "                        <td id=\"T_9ec7f_row0_col7\" class=\"data row0 col7\" >0.9731</td>\n",
       "                        <td id=\"T_9ec7f_row0_col8\" class=\"data row0 col8\" >0.0150</td>\n",
       "            </tr>\n",
       "            <tr>\n",
       "                        <th id=\"T_9ec7f_level0_row1\" class=\"row_heading level0 row1\" >dt</th>\n",
       "                        <td id=\"T_9ec7f_row1_col0\" class=\"data row1 col0\" >Decision Tree Classifier</td>\n",
       "                        <td id=\"T_9ec7f_row1_col1\" class=\"data row1 col1\" >0.9965</td>\n",
       "                        <td id=\"T_9ec7f_row1_col2\" class=\"data row1 col2\" >0.9982</td>\n",
       "                        <td id=\"T_9ec7f_row1_col3\" class=\"data row1 col3\" >1.0000</td>\n",
       "                        <td id=\"T_9ec7f_row1_col4\" class=\"data row1 col4\" >0.8667</td>\n",
       "                        <td id=\"T_9ec7f_row1_col5\" class=\"data row1 col5\" >0.9222</td>\n",
       "                        <td id=\"T_9ec7f_row1_col6\" class=\"data row1 col6\" >0.9205</td>\n",
       "                        <td id=\"T_9ec7f_row1_col7\" class=\"data row1 col7\" >0.9262</td>\n",
       "                        <td id=\"T_9ec7f_row1_col8\" class=\"data row1 col8\" >0.0100</td>\n",
       "            </tr>\n",
       "            <tr>\n",
       "                        <th id=\"T_9ec7f_level0_row2\" class=\"row_heading level0 row2\" >gbc</th>\n",
       "                        <td id=\"T_9ec7f_row2_col0\" class=\"data row2 col0\" >Gradient Boosting Classifier</td>\n",
       "                        <td id=\"T_9ec7f_row2_col1\" class=\"data row2 col1\" >0.9965</td>\n",
       "                        <td id=\"T_9ec7f_row2_col2\" class=\"data row2 col2\" >0.9982</td>\n",
       "                        <td id=\"T_9ec7f_row2_col3\" class=\"data row2 col3\" >1.0000</td>\n",
       "                        <td id=\"T_9ec7f_row2_col4\" class=\"data row2 col4\" >0.8667</td>\n",
       "                        <td id=\"T_9ec7f_row2_col5\" class=\"data row2 col5\" >0.9222</td>\n",
       "                        <td id=\"T_9ec7f_row2_col6\" class=\"data row2 col6\" >0.9205</td>\n",
       "                        <td id=\"T_9ec7f_row2_col7\" class=\"data row2 col7\" >0.9262</td>\n",
       "                        <td id=\"T_9ec7f_row2_col8\" class=\"data row2 col8\" >0.0725</td>\n",
       "            </tr>\n",
       "            <tr>\n",
       "                        <th id=\"T_9ec7f_level0_row3\" class=\"row_heading level0 row3\" >ada</th>\n",
       "                        <td id=\"T_9ec7f_row3_col0\" class=\"data row3 col0\" >Ada Boost Classifier</td>\n",
       "                        <td id=\"T_9ec7f_row3_col1\" class=\"data row3 col1\" >0.9953</td>\n",
       "                        <td id=\"T_9ec7f_row3_col2\" class=\"data row3 col2\" >0.9994</td>\n",
       "                        <td id=\"T_9ec7f_row3_col3\" class=\"data row3 col3\" >0.9375</td>\n",
       "                        <td id=\"T_9ec7f_row3_col4\" class=\"data row3 col4\" >0.8667</td>\n",
       "                        <td id=\"T_9ec7f_row3_col5\" class=\"data row3 col5\" >0.8865</td>\n",
       "                        <td id=\"T_9ec7f_row3_col6\" class=\"data row3 col6\" >0.8842</td>\n",
       "                        <td id=\"T_9ec7f_row3_col7\" class=\"data row3 col7\" >0.8922</td>\n",
       "                        <td id=\"T_9ec7f_row3_col8\" class=\"data row3 col8\" >0.0525</td>\n",
       "            </tr>\n",
       "            <tr>\n",
       "                        <th id=\"T_9ec7f_level0_row4\" class=\"row_heading level0 row4\" >et</th>\n",
       "                        <td id=\"T_9ec7f_row4_col0\" class=\"data row4 col0\" >Extra Trees Classifier</td>\n",
       "                        <td id=\"T_9ec7f_row4_col1\" class=\"data row4 col1\" >0.9953</td>\n",
       "                        <td id=\"T_9ec7f_row4_col2\" class=\"data row4 col2\" >1.0000</td>\n",
       "                        <td id=\"T_9ec7f_row4_col3\" class=\"data row4 col3\" >0.7500</td>\n",
       "                        <td id=\"T_9ec7f_row4_col4\" class=\"data row4 col4\" >1.0000</td>\n",
       "                        <td id=\"T_9ec7f_row4_col5\" class=\"data row4 col5\" >0.8452</td>\n",
       "                        <td id=\"T_9ec7f_row4_col6\" class=\"data row4 col6\" >0.8430</td>\n",
       "                        <td id=\"T_9ec7f_row4_col7\" class=\"data row4 col7\" >0.8579</td>\n",
       "                        <td id=\"T_9ec7f_row4_col8\" class=\"data row4 col8\" >0.0700</td>\n",
       "            </tr>\n",
       "            <tr>\n",
       "                        <th id=\"T_9ec7f_level0_row5\" class=\"row_heading level0 row5\" >lightgbm</th>\n",
       "                        <td id=\"T_9ec7f_row5_col0\" class=\"data row5 col0\" >Light Gradient Boosting Machine</td>\n",
       "                        <td id=\"T_9ec7f_row5_col1\" class=\"data row5 col1\" >0.9953</td>\n",
       "                        <td id=\"T_9ec7f_row5_col2\" class=\"data row5 col2\" >1.0000</td>\n",
       "                        <td id=\"T_9ec7f_row5_col3\" class=\"data row5 col3\" >0.9375</td>\n",
       "                        <td id=\"T_9ec7f_row5_col4\" class=\"data row5 col4\" >0.8667</td>\n",
       "                        <td id=\"T_9ec7f_row5_col5\" class=\"data row5 col5\" >0.8865</td>\n",
       "                        <td id=\"T_9ec7f_row5_col6\" class=\"data row5 col6\" >0.8842</td>\n",
       "                        <td id=\"T_9ec7f_row5_col7\" class=\"data row5 col7\" >0.8922</td>\n",
       "                        <td id=\"T_9ec7f_row5_col8\" class=\"data row5 col8\" >0.0300</td>\n",
       "            </tr>\n",
       "            <tr>\n",
       "                        <th id=\"T_9ec7f_level0_row6\" class=\"row_heading level0 row6\" >rf</th>\n",
       "                        <td id=\"T_9ec7f_row6_col0\" class=\"data row6 col0\" >Random Forest Classifier</td>\n",
       "                        <td id=\"T_9ec7f_row6_col1\" class=\"data row6 col1\" >0.9941</td>\n",
       "                        <td id=\"T_9ec7f_row6_col2\" class=\"data row6 col2\" >1.0000</td>\n",
       "                        <td id=\"T_9ec7f_row6_col3\" class=\"data row6 col3\" >0.8750</td>\n",
       "                        <td id=\"T_9ec7f_row6_col4\" class=\"data row6 col4\" >0.8667</td>\n",
       "                        <td id=\"T_9ec7f_row6_col5\" class=\"data row6 col5\" >0.8389</td>\n",
       "                        <td id=\"T_9ec7f_row6_col6\" class=\"data row6 col6\" >0.8361</td>\n",
       "                        <td id=\"T_9ec7f_row6_col7\" class=\"data row6 col7\" >0.8521</td>\n",
       "                        <td id=\"T_9ec7f_row6_col8\" class=\"data row6 col8\" >0.0900</td>\n",
       "            </tr>\n",
       "            <tr>\n",
       "                        <th id=\"T_9ec7f_level0_row7\" class=\"row_heading level0 row7\" >svm</th>\n",
       "                        <td id=\"T_9ec7f_row7_col0\" class=\"data row7 col0\" >SVM - Linear Kernel</td>\n",
       "                        <td id=\"T_9ec7f_row7_col1\" class=\"data row7 col1\" >0.9823</td>\n",
       "                        <td id=\"T_9ec7f_row7_col2\" class=\"data row7 col2\" >0.0000</td>\n",
       "                        <td id=\"T_9ec7f_row7_col3\" class=\"data row7 col3\" >0.3125</td>\n",
       "                        <td id=\"T_9ec7f_row7_col4\" class=\"data row7 col4\" >0.8000</td>\n",
       "                        <td id=\"T_9ec7f_row7_col5\" class=\"data row7 col5\" >0.4222</td>\n",
       "                        <td id=\"T_9ec7f_row7_col6\" class=\"data row7 col6\" >0.4147</td>\n",
       "                        <td id=\"T_9ec7f_row7_col7\" class=\"data row7 col7\" >0.4759</td>\n",
       "                        <td id=\"T_9ec7f_row7_col8\" class=\"data row7 col8\" >0.0125</td>\n",
       "            </tr>\n",
       "            <tr>\n",
       "                        <th id=\"T_9ec7f_level0_row8\" class=\"row_heading level0 row8\" >lr</th>\n",
       "                        <td id=\"T_9ec7f_row8_col0\" class=\"data row8 col0\" >Logistic Regression</td>\n",
       "                        <td id=\"T_9ec7f_row8_col1\" class=\"data row8 col1\" >0.9811</td>\n",
       "                        <td id=\"T_9ec7f_row8_col2\" class=\"data row8 col2\" >0.8130</td>\n",
       "                        <td id=\"T_9ec7f_row8_col3\" class=\"data row8 col3\" >0.0000</td>\n",
       "                        <td id=\"T_9ec7f_row8_col4\" class=\"data row8 col4\" >0.0000</td>\n",
       "                        <td id=\"T_9ec7f_row8_col5\" class=\"data row8 col5\" >0.0000</td>\n",
       "                        <td id=\"T_9ec7f_row8_col6\" class=\"data row8 col6\" >0.0000</td>\n",
       "                        <td id=\"T_9ec7f_row8_col7\" class=\"data row8 col7\" >0.0000</td>\n",
       "                        <td id=\"T_9ec7f_row8_col8\" class=\"data row8 col8\" >0.0200</td>\n",
       "            </tr>\n",
       "            <tr>\n",
       "                        <th id=\"T_9ec7f_level0_row9\" class=\"row_heading level0 row9\" >knn</th>\n",
       "                        <td id=\"T_9ec7f_row9_col0\" class=\"data row9 col0\" >K Neighbors Classifier</td>\n",
       "                        <td id=\"T_9ec7f_row9_col1\" class=\"data row9 col1\" >0.9811</td>\n",
       "                        <td id=\"T_9ec7f_row9_col2\" class=\"data row9 col2\" >0.6141</td>\n",
       "                        <td id=\"T_9ec7f_row9_col3\" class=\"data row9 col3\" >0.0000</td>\n",
       "                        <td id=\"T_9ec7f_row9_col4\" class=\"data row9 col4\" >0.0000</td>\n",
       "                        <td id=\"T_9ec7f_row9_col5\" class=\"data row9 col5\" >0.0000</td>\n",
       "                        <td id=\"T_9ec7f_row9_col6\" class=\"data row9 col6\" >0.0000</td>\n",
       "                        <td id=\"T_9ec7f_row9_col7\" class=\"data row9 col7\" >0.0000</td>\n",
       "                        <td id=\"T_9ec7f_row9_col8\" class=\"data row9 col8\" >0.0225</td>\n",
       "            </tr>\n",
       "            <tr>\n",
       "                        <th id=\"T_9ec7f_level0_row10\" class=\"row_heading level0 row10\" >ridge</th>\n",
       "                        <td id=\"T_9ec7f_row10_col0\" class=\"data row10 col0\" >Ridge Classifier</td>\n",
       "                        <td id=\"T_9ec7f_row10_col1\" class=\"data row10 col1\" >0.9811</td>\n",
       "                        <td id=\"T_9ec7f_row10_col2\" class=\"data row10 col2\" >0.0000</td>\n",
       "                        <td id=\"T_9ec7f_row10_col3\" class=\"data row10 col3\" >0.0000</td>\n",
       "                        <td id=\"T_9ec7f_row10_col4\" class=\"data row10 col4\" >0.0000</td>\n",
       "                        <td id=\"T_9ec7f_row10_col5\" class=\"data row10 col5\" >0.0000</td>\n",
       "                        <td id=\"T_9ec7f_row10_col6\" class=\"data row10 col6\" >0.0000</td>\n",
       "                        <td id=\"T_9ec7f_row10_col7\" class=\"data row10 col7\" >0.0000</td>\n",
       "                        <td id=\"T_9ec7f_row10_col8\" class=\"data row10 col8\" >0.0100</td>\n",
       "            </tr>\n",
       "            <tr>\n",
       "                        <th id=\"T_9ec7f_level0_row11\" class=\"row_heading level0 row11\" >nb</th>\n",
       "                        <td id=\"T_9ec7f_row11_col0\" class=\"data row11 col0\" >Naive Bayes</td>\n",
       "                        <td id=\"T_9ec7f_row11_col1\" class=\"data row11 col1\" >0.9728</td>\n",
       "                        <td id=\"T_9ec7f_row11_col2\" class=\"data row11 col2\" >0.8744</td>\n",
       "                        <td id=\"T_9ec7f_row11_col3\" class=\"data row11 col3\" >0.8750</td>\n",
       "                        <td id=\"T_9ec7f_row11_col4\" class=\"data row11 col4\" >0.5542</td>\n",
       "                        <td id=\"T_9ec7f_row11_col5\" class=\"data row11 col5\" >0.6375</td>\n",
       "                        <td id=\"T_9ec7f_row11_col6\" class=\"data row11 col6\" >0.6279</td>\n",
       "                        <td id=\"T_9ec7f_row11_col7\" class=\"data row11 col7\" >0.6628</td>\n",
       "                        <td id=\"T_9ec7f_row11_col8\" class=\"data row11 col8\" >0.0125</td>\n",
       "            </tr>\n",
       "            <tr>\n",
       "                        <th id=\"T_9ec7f_level0_row12\" class=\"row_heading level0 row12\" >qda</th>\n",
       "                        <td id=\"T_9ec7f_row12_col0\" class=\"data row12 col0\" >Quadratic Discriminant Analysis</td>\n",
       "                        <td id=\"T_9ec7f_row12_col1\" class=\"data row12 col1\" >0.7405</td>\n",
       "                        <td id=\"T_9ec7f_row12_col2\" class=\"data row12 col2\" >0.5000</td>\n",
       "                        <td id=\"T_9ec7f_row12_col3\" class=\"data row12 col3\" >0.2500</td>\n",
       "                        <td id=\"T_9ec7f_row12_col4\" class=\"data row12 col4\" >0.0047</td>\n",
       "                        <td id=\"T_9ec7f_row12_col5\" class=\"data row12 col5\" >0.0093</td>\n",
       "                        <td id=\"T_9ec7f_row12_col6\" class=\"data row12 col6\" >0.0000</td>\n",
       "                        <td id=\"T_9ec7f_row12_col7\" class=\"data row12 col7\" >0.0000</td>\n",
       "                        <td id=\"T_9ec7f_row12_col8\" class=\"data row12 col8\" >0.0100</td>\n",
       "            </tr>\n",
       "    </tbody></table>"
      ],
      "text/plain": [
       "<pandas.io.formats.style.Styler at 0x7f6f486987c0>"
      ]
     },
     "metadata": {},
     "output_type": "display_data"
    },
    {
     "data": {
      "text/plain": [
       "LinearDiscriminantAnalysis(n_components=None, priors=None, shrinkage=None,\n",
       "                           solver='svd', store_covariance=False, tol=0.0001)"
      ]
     },
     "execution_count": 62,
     "metadata": {},
     "output_type": "execute_result"
    }
   ],
   "source": [
    " # dff = pd.read_csv('last.csv')\n",
    "dataset = dff\n",
    "dataset = shuffle(dataset)\n",
    "     # print(dataset)\n",
    "\n",
    "        # print(dataset.shape)\n",
    "data = dataset.sample(frac=0.6, random_state=1234567)\n",
    "data_unseen = dataset.drop(data.index)\n",
    "data.reset_index(drop=True, inplace=True)\n",
    "data_unseen.reset_index(drop=True, inplace=True)\n",
    "\n",
    "print('Data for Modeling: ' + str(data.shape))\n",
    "print('Unseen Data For Predictions: ' + str(data_unseen.shape))\n",
    "\n",
    "exp1 = setup(dff, target=\"classif\")\n",
    "compare_models(fold=4)"
   ]
  },
  {
   "cell_type": "code",
   "execution_count": null,
   "id": "innovative-salon",
   "metadata": {},
   "outputs": [],
   "source": []
  }
 ],
 "metadata": {
  "celltoolbar": "Необработанный формат ячейки",
  "kernelspec": {
   "display_name": "Python 3",
   "language": "python",
   "name": "python3"
  },
  "language_info": {
   "codemirror_mode": {
    "name": "ipython",
    "version": 3
   },
   "file_extension": ".py",
   "mimetype": "text/x-python",
   "name": "python",
   "nbconvert_exporter": "python",
   "pygments_lexer": "ipython3",
   "version": "3.8.5"
  }
 },
 "nbformat": 4,
 "nbformat_minor": 5
}
